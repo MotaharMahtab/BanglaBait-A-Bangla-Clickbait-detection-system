{
  "nbformat": 4,
  "nbformat_minor": 0,
  "metadata": {
    "colab": {
      "name": "Thesis_Linear_Classifiers.ipynb",
      "provenance": [],
      "collapsed_sections": [],
      "machine_shape": "hm"
    },
    "kernelspec": {
      "name": "python3",
      "display_name": "Python 3"
    },
    "language_info": {
      "name": "python"
    }
  },
  "cells": [
    {
      "cell_type": "code",
      "metadata": {
        "colab": {
          "base_uri": "https://localhost:8080/"
        },
        "id": "kLQy8IkCcTh3",
        "outputId": "90d03e4e-e4bf-42be-d269-2b8a09d706c9"
      },
      "source": [
        "from google.colab import drive\n",
        "drive.mount('/content/drive')"
      ],
      "execution_count": null,
      "outputs": [
        {
          "output_type": "stream",
          "name": "stdout",
          "text": [
            "Mounted at /content/drive\n"
          ]
        }
      ]
    },
    {
      "cell_type": "code",
      "metadata": {
        "id": "yMxsvxr4cTh9"
      },
      "source": [
        "import numpy as np\n",
        "import pandas as pd\n",
        "import matplotlib.pyplot as plt \n",
        "%matplotlib inline\n",
        "import seaborn as sns \n",
        "import nltk # Natural Language Toolki\n",
        "import re # Python Regular Expression \n",
        "from wordcloud import WordCloud \n",
        "# Data visualization technique used for representing text data in which the size of each word indicates its frequency or importance\n"
      ],
      "execution_count": null,
      "outputs": []
    },
    {
      "cell_type": "code",
      "metadata": {
        "id": "tdMH9r5EcTh-"
      },
      "source": [
        "import tensorflow as tf\n",
        "from tensorflow import keras\n",
        "from sklearn.model_selection import train_test_split, StratifiedKFold\n",
        "from sklearn.metrics import classification_report,accuracy_score,precision_score,recall_score,f1_score,confusion_matrix\n",
        "from sklearn.feature_extraction.text import TfidfVectorizer\n",
        "from tensorflow.keras.preprocessing.text import Tokenizer\n",
        "from tensorflow.keras.preprocessing.sequence import pad_sequences\n",
        "from tensorflow.keras.models import load_model"
      ],
      "execution_count": null,
      "outputs": []
    },
    {
      "cell_type": "code",
      "metadata": {
        "colab": {
          "base_uri": "https://localhost:8080/",
          "height": 484
        },
        "id": "9g1kW9NBcTh_",
        "outputId": "800b1f47-c5d3-4294-a375-31c33475775c"
      },
      "source": [
        "somoytv = pd.read_csv(\"/content/drive/MyDrive/Thesis BRAC/Thesis Dataset/Labelled/Mehedi_somoyTV_Labeled.csv\",prefix='col',header=None)\n",
        "somoytv.head()"
      ],
      "execution_count": null,
      "outputs": [
        {
          "output_type": "execute_result",
          "data": {
            "text/html": [
              "<div>\n",
              "<style scoped>\n",
              "    .dataframe tbody tr th:only-of-type {\n",
              "        vertical-align: middle;\n",
              "    }\n",
              "\n",
              "    .dataframe tbody tr th {\n",
              "        vertical-align: top;\n",
              "    }\n",
              "\n",
              "    .dataframe thead th {\n",
              "        text-align: right;\n",
              "    }\n",
              "</style>\n",
              "<table border=\"1\" class=\"dataframe\">\n",
              "  <thead>\n",
              "    <tr style=\"text-align: right;\">\n",
              "      <th></th>\n",
              "      <th>col0</th>\n",
              "      <th>col1</th>\n",
              "      <th>col2</th>\n",
              "      <th>col3</th>\n",
              "      <th>col4</th>\n",
              "      <th>col5</th>\n",
              "      <th>col6</th>\n",
              "      <th>col7</th>\n",
              "      <th>col8</th>\n",
              "      <th>col9</th>\n",
              "    </tr>\n",
              "  </thead>\n",
              "  <tbody>\n",
              "    <tr>\n",
              "      <th>0</th>\n",
              "      <td>https://www.somoynews.tv/news/2021-06-11/%E0%A...</td>\n",
              "      <td>শিক্ষকতার ন্যূনতম যোগ্যতা নেই রাবিতে নিয়োগ পাও...</td>\n",
              "      <td>শিক্ষা সময়</td>\n",
              "      <td>শিক্ষা</td>\n",
              "      <td>১১ জুন, ২০২১</td>\n",
              "      <td>NaN</td>\n",
              "      <td>রাজশাহী বিশ্ববিদ্যালয়ের (রাবি) সদ্য বিদায়ী উপা...</td>\n",
              "      <td>ফলাফলে দেখা যায়, ইন্দ্রনীল মিশ্র অনার্স পরীক্ষ...</td>\n",
              "      <td>0</td>\n",
              "      <td>0</td>\n",
              "    </tr>\n",
              "    <tr>\n",
              "      <th>1</th>\n",
              "      <td>https://www.somoynews.tv/news/2021-06-11/%E0%A...</td>\n",
              "      <td>ভারতে দলে দলে ঢুকছে মিয়ানমারের যোদ্ধারা</td>\n",
              "      <td>আন্তর্জাতিক ডেস্ক</td>\n",
              "      <td>আন্তর্জাতিক</td>\n",
              "      <td>১১ জুন, ২০২১</td>\n",
              "      <td>NaN</td>\n",
              "      <td>মিয়ানমারে সেনা অভ্যুত্থানের ফলে হাজার হাজার মা...</td>\n",
              "      <td>এ নিয়ে অঞ্চলটিতে গণতন্ত্রপন্থী কর্মীদের সক্রিয়...</td>\n",
              "      <td>0</td>\n",
              "      <td>0</td>\n",
              "    </tr>\n",
              "    <tr>\n",
              "      <th>2</th>\n",
              "      <td>https://www.somoynews.tv/news/2021-06-11/%E0%A...</td>\n",
              "      <td>যে শাস্তি হতে পারে সাকিবের</td>\n",
              "      <td>খেলার সময়</td>\n",
              "      <td>খেলা</td>\n",
              "      <td>১১ জুন, ২০২১</td>\n",
              "      <td>NaN</td>\n",
              "      <td>সাকিবের এমন অস্বাভাবিক আচরণের ঘটনাটি খতিয়ে দেখ...</td>\n",
              "      <td>ঢাকা প্রিমিয়ার লিগে (ডিপিএল) শুক্রবার (১১ জুন)...</td>\n",
              "      <td>0</td>\n",
              "      <td>0</td>\n",
              "    </tr>\n",
              "    <tr>\n",
              "      <th>3</th>\n",
              "      <td>https://www.somoynews.tv/news/2021-06-11/%E0%A...</td>\n",
              "      <td>বিয়ে করেছেন রেলমন্ত্রী সুজন</td>\n",
              "      <td>নাজমুস সালেহীন</td>\n",
              "      <td>বাংলাদেশ</td>\n",
              "      <td>১১ জুন, ২০২১</td>\n",
              "      <td>NaN</td>\n",
              "      <td>গত ৫ জুন বিয়ে করেছেন রেলমন্ত্রী নুরুল ইসলাম সু...</td>\n",
              "      <td>শাম্মী আকতার একটি বেসরকারি প্রতিষ্ঠানে প্রশাসন...</td>\n",
              "      <td>1</td>\n",
              "      <td>0</td>\n",
              "    </tr>\n",
              "    <tr>\n",
              "      <th>4</th>\n",
              "      <td>https://www.somoynews.tv/news/2021-06-12/%E0%A...</td>\n",
              "      <td>আরও বাড়ল শিক্ষাপ্রতিষ্ঠানের ছুটি</td>\n",
              "      <td>শিক্ষা সময়</td>\n",
              "      <td>বাংলাদেশ</td>\n",
              "      <td>১২ জুন, ২০২১</td>\n",
              "      <td>NaN</td>\n",
              "      <td>দেশের বিভিন্ন অঞ্চলে করোনা পরিস্থিতি অবনতি হওয...</td>\n",
              "      <td>করোনাভাইরাস মহামারির মধ্যে দেশের মাধ্যমিক ও উচ...</td>\n",
              "      <td>0</td>\n",
              "      <td>0</td>\n",
              "    </tr>\n",
              "  </tbody>\n",
              "</table>\n",
              "</div>"
            ],
            "text/plain": [
              "                                                col0  ... col9\n",
              "0  https://www.somoynews.tv/news/2021-06-11/%E0%A...  ...    0\n",
              "1  https://www.somoynews.tv/news/2021-06-11/%E0%A...  ...    0\n",
              "2  https://www.somoynews.tv/news/2021-06-11/%E0%A...  ...    0\n",
              "3  https://www.somoynews.tv/news/2021-06-11/%E0%A...  ...    0\n",
              "4  https://www.somoynews.tv/news/2021-06-12/%E0%A...  ...    0\n",
              "\n",
              "[5 rows x 10 columns]"
            ]
          },
          "metadata": {},
          "execution_count": 3
        }
      ]
    },
    {
      "cell_type": "code",
      "metadata": {
        "colab": {
          "base_uri": "https://localhost:8080/",
          "height": 293
        },
        "id": "Dd3dmYOecTh_",
        "outputId": "946fd849-b7ef-458f-d61d-058c6280923a"
      },
      "source": [
        "somoytv1 = somoytv[['col1','col6','col7','col9']].rename(columns={'col1':'title',\n",
        "                                                          'col6':'headline',\n",
        "                                                          'col7':'content',\n",
        "                                                          'col9':'label'})\n",
        "somoytv1.head()"
      ],
      "execution_count": null,
      "outputs": [
        {
          "output_type": "execute_result",
          "data": {
            "text/html": [
              "<div>\n",
              "<style scoped>\n",
              "    .dataframe tbody tr th:only-of-type {\n",
              "        vertical-align: middle;\n",
              "    }\n",
              "\n",
              "    .dataframe tbody tr th {\n",
              "        vertical-align: top;\n",
              "    }\n",
              "\n",
              "    .dataframe thead th {\n",
              "        text-align: right;\n",
              "    }\n",
              "</style>\n",
              "<table border=\"1\" class=\"dataframe\">\n",
              "  <thead>\n",
              "    <tr style=\"text-align: right;\">\n",
              "      <th></th>\n",
              "      <th>title</th>\n",
              "      <th>headline</th>\n",
              "      <th>content</th>\n",
              "      <th>label</th>\n",
              "    </tr>\n",
              "  </thead>\n",
              "  <tbody>\n",
              "    <tr>\n",
              "      <th>0</th>\n",
              "      <td>শিক্ষকতার ন্যূনতম যোগ্যতা নেই রাবিতে নিয়োগ পাও...</td>\n",
              "      <td>রাজশাহী বিশ্ববিদ্যালয়ের (রাবি) সদ্য বিদায়ী উপা...</td>\n",
              "      <td>ফলাফলে দেখা যায়, ইন্দ্রনীল মিশ্র অনার্স পরীক্ষ...</td>\n",
              "      <td>0</td>\n",
              "    </tr>\n",
              "    <tr>\n",
              "      <th>1</th>\n",
              "      <td>ভারতে দলে দলে ঢুকছে মিয়ানমারের যোদ্ধারা</td>\n",
              "      <td>মিয়ানমারে সেনা অভ্যুত্থানের ফলে হাজার হাজার মা...</td>\n",
              "      <td>এ নিয়ে অঞ্চলটিতে গণতন্ত্রপন্থী কর্মীদের সক্রিয়...</td>\n",
              "      <td>0</td>\n",
              "    </tr>\n",
              "    <tr>\n",
              "      <th>2</th>\n",
              "      <td>যে শাস্তি হতে পারে সাকিবের</td>\n",
              "      <td>সাকিবের এমন অস্বাভাবিক আচরণের ঘটনাটি খতিয়ে দেখ...</td>\n",
              "      <td>ঢাকা প্রিমিয়ার লিগে (ডিপিএল) শুক্রবার (১১ জুন)...</td>\n",
              "      <td>0</td>\n",
              "    </tr>\n",
              "    <tr>\n",
              "      <th>3</th>\n",
              "      <td>বিয়ে করেছেন রেলমন্ত্রী সুজন</td>\n",
              "      <td>গত ৫ জুন বিয়ে করেছেন রেলমন্ত্রী নুরুল ইসলাম সু...</td>\n",
              "      <td>শাম্মী আকতার একটি বেসরকারি প্রতিষ্ঠানে প্রশাসন...</td>\n",
              "      <td>0</td>\n",
              "    </tr>\n",
              "    <tr>\n",
              "      <th>4</th>\n",
              "      <td>আরও বাড়ল শিক্ষাপ্রতিষ্ঠানের ছুটি</td>\n",
              "      <td>দেশের বিভিন্ন অঞ্চলে করোনা পরিস্থিতি অবনতি হওয...</td>\n",
              "      <td>করোনাভাইরাস মহামারির মধ্যে দেশের মাধ্যমিক ও উচ...</td>\n",
              "      <td>0</td>\n",
              "    </tr>\n",
              "  </tbody>\n",
              "</table>\n",
              "</div>"
            ],
            "text/plain": [
              "                                               title  ... label\n",
              "0  শিক্ষকতার ন্যূনতম যোগ্যতা নেই রাবিতে নিয়োগ পাও...  ...     0\n",
              "1            ভারতে দলে দলে ঢুকছে মিয়ানমারের যোদ্ধারা  ...     0\n",
              "2                         যে শাস্তি হতে পারে সাকিবের  ...     0\n",
              "3                        বিয়ে করেছেন রেলমন্ত্রী সুজন  ...     0\n",
              "4                   আরও বাড়ল শিক্ষাপ্রতিষ্ঠানের ছুটি  ...     0\n",
              "\n",
              "[5 rows x 4 columns]"
            ]
          },
          "metadata": {},
          "execution_count": 6
        }
      ]
    },
    {
      "cell_type": "code",
      "metadata": {
        "id": "qAqzMuVfcTiA"
      },
      "source": [
        "somoytv1['content'] = somoytv1['headline']+somoytv1['content']"
      ],
      "execution_count": null,
      "outputs": []
    },
    {
      "cell_type": "code",
      "metadata": {
        "colab": {
          "base_uri": "https://localhost:8080/",
          "height": 157
        },
        "id": "kfY3565bcTiB",
        "outputId": "8fb76ede-a206-4484-d7b4-46c7e6200ac1"
      },
      "source": [
        "somoytv1.loc[0,'content']"
      ],
      "execution_count": null,
      "outputs": [
        {
          "output_type": "execute_result",
          "data": {
            "application/vnd.google.colaboratory.intrinsic+json": {
              "type": "string"
            },
            "text/plain": [
              "\"রাজশাহী বিশ্ববিদ্যালয়ের (রাবি) সদ্য বিদায়ী উপাচার্য অধ্যাপক আবদুস সোবহান গত ৬ মে যে ১১ জন শিক্ষককে অবৈধভাবে নিয়োগ দিয়েছেন, তাদের অনেকেরই বিশ্ববিদ্যালয়ের শিক্ষক হওয়ার মতো ন্যূনতম যোগ্যতা নেই। সেই ১১ জন শিক্ষকের মধ্যে বিশ্ববিদ্যালয়টির প্রকৌশল অনুষদভুক্ত ইনফরমেশন অ্যান্ড কমিউনিকেশন ইঞ্জিনিয়ারিং বিভাগে নিয়োগ পেয়েছেন ইন্দ্রনীল মিশ্র। সম্প্রতি সেই প্রার্থীর অনার্স পরীক্ষার ফলাফল গণমাধ্যমের কাছে এসেছে।ফলাফলে দেখা যায়, ইন্দ্রনীল মিশ্র অনার্স পরীক্ষায় প্রথম শ্রেণি অর্জন করতে পারেননি। বরং দ্বিতীয় শ্রেণি পেয়ে যে ১৪ জন শিক্ষার্থী উত্তীর্ণ হয়েছে, তার মধ্যে ইন্দ্রনীল মিশ্র মেধাক্রম অনুযায়ী রয়েছেন দশম স্থানে। শুধু তাই নয়, তিনিই একমাত্র ছাত্র যিনি অনার্স এর কোর্স-৪০৩ এ ফেল করেছিলেন।এমন একজন ছাত্রকে বিভাগে শিক্ষক হিসেবে নিয়োগ দেওয়ায় বিস্ময় প্রকাশ করছেন স্বয়ং বিভাগের সভাপতি অধ্যাপক এমদাদুল হক। তিনি বলেন, বিভাগে নিয়োগের জন্য সার্কুলার দেওয়া হয়েছিল। কিন্তু সেই সার্কুলার ভিত্তিতে মৌখিক পরীক্ষা না নিয়েই একজন প্রার্থীকে শিক্ষক হিসেবে নিয়োগ দেওয়া হয়েছে। আবার এমন একজনকে নিয়োগ দেওয়া হলো যে কোনোভাবেই শিক্ষক পদে কাম্য নয়। ঊর্ধ্বতন কর্তৃপক্ষ বিষয়টি দেখছে। যদি এটা বাতিল হয়, তবে বিভাগের জন্য যেমন মঙ্গল হবে, সেটা বিশ্ববিদ্যালয়ের জন্যও মঙ্গল হবে।ফলাফল শিটে দেখা যায়, ইন্দ্রনীল মিশ্রের বিএসসি (অনার্স) পরীক্ষার রোল নম্বর ছিল: ০৬১১৫৬২২। তিনি ছিলেন বিশ্ববিদ্যালয়ের বঙ্গবন্ধু শেখ মুজিবুর রহমান হলের আবাসিক শিক্ষার্থী। ২০০৯ সালের বিএসসি (সম্মান) ফাইনাল পরীক্ষায় (২০১০ সালে সেপ্টেম্বর-নভেম্বর মাসে অনুষ্ঠিত) দ্বিতীয় শ্রেণি পেয়ে উত্তীর্ণ হন। ফলাফল খারাপ হওয়ায় এমএসসিতে থিসিস গ্রুপে যাওয়ার সুযোগ পাননি তিনি।আরও পড়ুন - স্ত্রী হত্যায় দিনাজপুর কারাগারে স্বামীর ফাঁসি কার্যকরবিশ্ববিদ্যালয় সূত্রে জানা গেছে, ইন্দ্রনীল মিশ্রের পিতার নাম অধ্যাপক চিত্ত রঞ্জন মিশ্র। যিনি রাজশাহী বিশ্ববিদ্যালয়ের ইতিহাস বিভাগের একজন সিনিয়র অধ্যাপক। বর্তমানে বিশ্ববিদ্যালয়টির শিক্ষা ও গবেষণা ইনস্টিটিউটের পরিচালকের দায়িত্বে রয়েছেন তিনি। সদ্য বিদায়ী উপাচার্য অধ্যাপক আবদুস সোবহানের সঙ্গে অধ্যাপক চিত্ত রঞ্জন মিশ্রের গভীর সখ্যতা ছিল। এছাড়াও ‘অবৈধভাবে' শিক্ষক পদে নিয়োগ পাওয়া ইন্দ্রনীল মিশ্র বিশ্ববিদ্যালয়ের ইনফরমেশন অ্যান্ড কমিউনিকেশন ইঞ্জিনিয়ারিং বিভাগে ভর্তি পরীক্ষায় চান্স না পেলেও ‘ওয়ার্ড কোটায়' ভর্তি হয়েছিলেন।এ বিষয়ে বিশ্ববিদ্যালয়ের কয়েকজন জ্যেষ্ঠ অধ্যাপক বলছেন, যার বাবা বিশ্ববিদ্যালয়ের একজন সিনিয়র প্রফেসর, মাসিক বেতন পান সবমিলিয়ে দেড় লাখের কাছাকাছি, তাকে বিদায়ী উপাচার্য নিয়োগ দিয়েছে মানবিক কারণে। এটা খুবই লজ্জাজনক বিষয়।জানতে চাইলে বিশ্ববিদ্যালয়ের দায়িত্বপ্রাপ্ত উপাচার্য অধ্যাপক আনন্দ কুমার সাহা বলেন, এমন প্রার্থীকে শিক্ষক হিসেবে নিয়োগ দেওয়া বিস্ময়কর। এটা শিক্ষা মন্ত্রণালয় দেখভাল করছে। তাদের সিদ্ধান্তের ভিত্তিতে আমরা পরবর্তীতে তাদেরকে যোগদান করতে দেব কিনা সেটা জানাতে পারব।\""
            ]
          },
          "metadata": {},
          "execution_count": 11
        }
      ]
    },
    {
      "cell_type": "code",
      "metadata": {
        "id": "vAqhle1pcTiC"
      },
      "source": [
        "somoytv1.drop(labels='headline',axis=1,inplace=True)"
      ],
      "execution_count": null,
      "outputs": []
    },
    {
      "cell_type": "code",
      "metadata": {
        "colab": {
          "base_uri": "https://localhost:8080/",
          "height": 206
        },
        "id": "yYrnnVdYcTiD",
        "outputId": "969aebeb-467a-4d57-e6be-45f29e56f6b0"
      },
      "source": [
        "somoytv1.head()"
      ],
      "execution_count": null,
      "outputs": [
        {
          "output_type": "execute_result",
          "data": {
            "text/html": [
              "<div>\n",
              "<style scoped>\n",
              "    .dataframe tbody tr th:only-of-type {\n",
              "        vertical-align: middle;\n",
              "    }\n",
              "\n",
              "    .dataframe tbody tr th {\n",
              "        vertical-align: top;\n",
              "    }\n",
              "\n",
              "    .dataframe thead th {\n",
              "        text-align: right;\n",
              "    }\n",
              "</style>\n",
              "<table border=\"1\" class=\"dataframe\">\n",
              "  <thead>\n",
              "    <tr style=\"text-align: right;\">\n",
              "      <th></th>\n",
              "      <th>title</th>\n",
              "      <th>content</th>\n",
              "      <th>label</th>\n",
              "    </tr>\n",
              "  </thead>\n",
              "  <tbody>\n",
              "    <tr>\n",
              "      <th>0</th>\n",
              "      <td>শিক্ষকতার ন্যূনতম যোগ্যতা নেই রাবিতে নিয়োগ পাও...</td>\n",
              "      <td>রাজশাহী বিশ্ববিদ্যালয়ের (রাবি) সদ্য বিদায়ী উপা...</td>\n",
              "      <td>0</td>\n",
              "    </tr>\n",
              "    <tr>\n",
              "      <th>1</th>\n",
              "      <td>ভারতে দলে দলে ঢুকছে মিয়ানমারের যোদ্ধারা</td>\n",
              "      <td>মিয়ানমারে সেনা অভ্যুত্থানের ফলে হাজার হাজার মা...</td>\n",
              "      <td>0</td>\n",
              "    </tr>\n",
              "    <tr>\n",
              "      <th>2</th>\n",
              "      <td>যে শাস্তি হতে পারে সাকিবের</td>\n",
              "      <td>সাকিবের এমন অস্বাভাবিক আচরণের ঘটনাটি খতিয়ে দেখ...</td>\n",
              "      <td>0</td>\n",
              "    </tr>\n",
              "    <tr>\n",
              "      <th>3</th>\n",
              "      <td>বিয়ে করেছেন রেলমন্ত্রী সুজন</td>\n",
              "      <td>গত ৫ জুন বিয়ে করেছেন রেলমন্ত্রী নুরুল ইসলাম সু...</td>\n",
              "      <td>0</td>\n",
              "    </tr>\n",
              "    <tr>\n",
              "      <th>4</th>\n",
              "      <td>আরও বাড়ল শিক্ষাপ্রতিষ্ঠানের ছুটি</td>\n",
              "      <td>দেশের বিভিন্ন অঞ্চলে করোনা পরিস্থিতি অবনতি হওয...</td>\n",
              "      <td>0</td>\n",
              "    </tr>\n",
              "  </tbody>\n",
              "</table>\n",
              "</div>"
            ],
            "text/plain": [
              "                                               title  ... label\n",
              "0  শিক্ষকতার ন্যূনতম যোগ্যতা নেই রাবিতে নিয়োগ পাও...  ...     0\n",
              "1            ভারতে দলে দলে ঢুকছে মিয়ানমারের যোদ্ধারা  ...     0\n",
              "2                         যে শাস্তি হতে পারে সাকিবের  ...     0\n",
              "3                        বিয়ে করেছেন রেলমন্ত্রী সুজন  ...     0\n",
              "4                   আরও বাড়ল শিক্ষাপ্রতিষ্ঠানের ছুটি  ...     0\n",
              "\n",
              "[5 rows x 3 columns]"
            ]
          },
          "metadata": {},
          "execution_count": 10
        }
      ]
    },
    {
      "cell_type": "code",
      "metadata": {
        "id": "vb9U4gZNb3xP"
      },
      "source": [
        "somoytv1 = somoytv1[somoytv1.title!=0]"
      ],
      "execution_count": null,
      "outputs": []
    },
    {
      "cell_type": "code",
      "metadata": {
        "colab": {
          "base_uri": "https://localhost:8080/"
        },
        "id": "nxA9bNAJcTiE",
        "outputId": "554902a0-ce0c-4fca-aaee-2271ac46e379"
      },
      "source": [
        "import collections\n",
        "collections.Counter(somoytv1['label'])"
      ],
      "execution_count": null,
      "outputs": [
        {
          "output_type": "execute_result",
          "data": {
            "text/plain": [
              "Counter({0: 415, 1: 21})"
            ]
          },
          "metadata": {},
          "execution_count": 17
        }
      ]
    },
    {
      "cell_type": "code",
      "metadata": {
        "id": "04C2Hmz9cTiE"
      },
      "source": [
        "somoytv1[somoytv1['label']==-1]=0"
      ],
      "execution_count": null,
      "outputs": []
    },
    {
      "cell_type": "code",
      "metadata": {
        "colab": {
          "base_uri": "https://localhost:8080/"
        },
        "id": "9adYiSJGcTiF",
        "outputId": "e2e2043a-07ee-4b12-d196-17fbfe688f8a"
      },
      "source": [
        "collections.Counter(somoytv1['label'])"
      ],
      "execution_count": null,
      "outputs": [
        {
          "output_type": "execute_result",
          "data": {
            "text/plain": [
              "Counter({0: 415, 1: 21})"
            ]
          },
          "metadata": {},
          "execution_count": 18
        }
      ]
    },
    {
      "cell_type": "code",
      "metadata": {
        "colab": {
          "base_uri": "https://localhost:8080/"
        },
        "id": "AFnQEzfVyYfj",
        "outputId": "0e778d30-8c8a-4d88-9ad0-db7ed004a694"
      },
      "source": [
        "collections.Counter(all_combined['label'])"
      ],
      "execution_count": null,
      "outputs": [
        {
          "output_type": "execute_result",
          "data": {
            "text/plain": [
              "Counter({0: 52077, 1: 987})"
            ]
          },
          "metadata": {},
          "execution_count": 108
        }
      ]
    },
    {
      "cell_type": "code",
      "metadata": {
        "colab": {
          "base_uri": "https://localhost:8080/"
        },
        "id": "QM4QW53MyFXQ",
        "outputId": "3ceb4375-c9f3-4f80-b789-8ef431e5426e"
      },
      "source": [
        "somoytv1.dtypes"
      ],
      "execution_count": null,
      "outputs": [
        {
          "output_type": "execute_result",
          "data": {
            "text/plain": [
              "title      object\n",
              "content    object\n",
              "label       int64\n",
              "dtype: object"
            ]
          },
          "metadata": {},
          "execution_count": 117
        }
      ]
    },
    {
      "cell_type": "code",
      "metadata": {
        "colab": {
          "base_uri": "https://localhost:8080/",
          "height": 539
        },
        "id": "8wpd9rJQgmiS",
        "outputId": "37a1d0a8-273b-448d-904b-5f2087db5ae9"
      },
      "source": [
        "banfake = pd.read_csv(\"/content/drive/MyDrive/Thesis BRAC/Thesis Dataset/Labelled/Mahtab_BanFake_Labelled - Mahtab_BanFake_Labelled.csv\",prefix='col',\n",
        "                      skiprows=1,header=None)\n",
        "banfake.head()"
      ],
      "execution_count": null,
      "outputs": [
        {
          "output_type": "execute_result",
          "data": {
            "text/html": [
              "<div>\n",
              "<style scoped>\n",
              "    .dataframe tbody tr th:only-of-type {\n",
              "        vertical-align: middle;\n",
              "    }\n",
              "\n",
              "    .dataframe tbody tr th {\n",
              "        vertical-align: top;\n",
              "    }\n",
              "\n",
              "    .dataframe thead th {\n",
              "        text-align: right;\n",
              "    }\n",
              "</style>\n",
              "<table border=\"1\" class=\"dataframe\">\n",
              "  <thead>\n",
              "    <tr style=\"text-align: right;\">\n",
              "      <th></th>\n",
              "      <th>col0</th>\n",
              "      <th>col1</th>\n",
              "      <th>col2</th>\n",
              "      <th>col3</th>\n",
              "      <th>col4</th>\n",
              "      <th>col5</th>\n",
              "      <th>col6</th>\n",
              "      <th>col7</th>\n",
              "      <th>col8</th>\n",
              "      <th>col9</th>\n",
              "      <th>col10</th>\n",
              "      <th>col11</th>\n",
              "    </tr>\n",
              "  </thead>\n",
              "  <tbody>\n",
              "    <tr>\n",
              "      <th>0</th>\n",
              "      <td>1</td>\n",
              "      <td>channeldhaka.news</td>\n",
              "      <td>2019-03-14T13:34:14+00:00</td>\n",
              "      <td>International</td>\n",
              "      <td>Reporter</td>\n",
              "      <td>Unrelated</td>\n",
              "      <td>মুরগির হামলায় শেয়াল নিহত</td>\n",
              "      <td>বাংলায় একটা প্রবাদ আছে, শেয়ালের কাছে মুরগী বর্...</td>\n",
              "      <td>0</td>\n",
              "      <td>Satire</td>\n",
              "      <td>Clickbaits</td>\n",
              "      <td>NaN</td>\n",
              "    </tr>\n",
              "    <tr>\n",
              "      <th>1</th>\n",
              "      <td>2</td>\n",
              "      <td>earki.com</td>\n",
              "      <td>সেম্বর ১৭, ২০১৮</td>\n",
              "      <td>Miscellaneous</td>\n",
              "      <td>Reporter</td>\n",
              "      <td>Unrelated</td>\n",
              "      <td>বিটিভিতে যেবার আমি ইন্টারভিউ দিতে গেলাম</td>\n",
              "      <td>BTV থেকে লোকজন আসছে, ইন্টারভিউ নিবে।চারজনের টি...</td>\n",
              "      <td>0</td>\n",
              "      <td>Satire</td>\n",
              "      <td>Satire</td>\n",
              "      <td>NaN</td>\n",
              "    </tr>\n",
              "    <tr>\n",
              "      <th>2</th>\n",
              "      <td>3</td>\n",
              "      <td>earki.com</td>\n",
              "      <td>২০:৩৯, জানুয়ারি ১৪, ২০১৯</td>\n",
              "      <td>Miscellaneous</td>\n",
              "      <td>Reporter</td>\n",
              "      <td>Unrelated</td>\n",
              "      <td>বিদেশ থেকে উন্নতমানের বিরোধীদল আমদানি করার পরা...</td>\n",
              "      <td>অদ্ভুত বিরোধীদলহীনতায় ভুগছে সরকার। এ এক অন্যরক...</td>\n",
              "      <td>0</td>\n",
              "      <td>Satire</td>\n",
              "      <td>Satire</td>\n",
              "      <td>NaN</td>\n",
              "    </tr>\n",
              "    <tr>\n",
              "      <th>3</th>\n",
              "      <td>4</td>\n",
              "      <td>channeldhaka.news</td>\n",
              "      <td>2018-06-30T15:56:47+00:00</td>\n",
              "      <td>Sports</td>\n",
              "      <td>Reporter</td>\n",
              "      <td>Unrelated</td>\n",
              "      <td>অবসর নেয়ার ঘোষণা দিলেন মেসি !</td>\n",
              "      <td>রাশিয়া বিশ্বকাপ নকআউট পর্বে ফ্রান্সের সাথে ৪-৩...</td>\n",
              "      <td>0</td>\n",
              "      <td>Satire</td>\n",
              "      <td>Clickbaits</td>\n",
              "      <td>NaN</td>\n",
              "    </tr>\n",
              "    <tr>\n",
              "      <th>4</th>\n",
              "      <td>5</td>\n",
              "      <td>motikontho.wordpress.com</td>\n",
              "      <td>2013-03-05T21:55:45+00:00</td>\n",
              "      <td>Miscellaneous</td>\n",
              "      <td>Reporter</td>\n",
              "      <td>Unrelated</td>\n",
              "      <td>মাদারফাকার নহে, ব্রাদারফাকার: সাকা | দৈনিক মতি...</td>\n",
              "      <td>নিজস্ব মতিবেদক‘মাদারফাকার নহে, আমি ব্রাদারফাকা...</td>\n",
              "      <td>0</td>\n",
              "      <td>Satire</td>\n",
              "      <td>Clickbaits</td>\n",
              "      <td>NaN</td>\n",
              "    </tr>\n",
              "  </tbody>\n",
              "</table>\n",
              "</div>"
            ],
            "text/plain": [
              "   col0                      col1  ...       col10 col11\n",
              "0     1         channeldhaka.news  ...  Clickbaits   NaN\n",
              "1     2                 earki.com  ...      Satire   NaN\n",
              "2     3                 earki.com  ...      Satire   NaN\n",
              "3     4         channeldhaka.news  ...  Clickbaits   NaN\n",
              "4     5  motikontho.wordpress.com  ...  Clickbaits   NaN\n",
              "\n",
              "[5 rows x 12 columns]"
            ]
          },
          "metadata": {},
          "execution_count": 11
        }
      ]
    },
    {
      "cell_type": "code",
      "metadata": {
        "colab": {
          "base_uri": "https://localhost:8080/",
          "height": 206
        },
        "id": "q1kT92KJp3AA",
        "outputId": "57230857-0d78-4412-936d-e6ad76735129"
      },
      "source": [
        "banfake1 = banfake[['col6','col7','col10']].rename(columns={'col6':'title',\n",
        "                                                   'col7':'content',\n",
        "                                                   'col10':'label'})\n",
        "banfake1.head()"
      ],
      "execution_count": null,
      "outputs": [
        {
          "output_type": "execute_result",
          "data": {
            "text/html": [
              "<div>\n",
              "<style scoped>\n",
              "    .dataframe tbody tr th:only-of-type {\n",
              "        vertical-align: middle;\n",
              "    }\n",
              "\n",
              "    .dataframe tbody tr th {\n",
              "        vertical-align: top;\n",
              "    }\n",
              "\n",
              "    .dataframe thead th {\n",
              "        text-align: right;\n",
              "    }\n",
              "</style>\n",
              "<table border=\"1\" class=\"dataframe\">\n",
              "  <thead>\n",
              "    <tr style=\"text-align: right;\">\n",
              "      <th></th>\n",
              "      <th>title</th>\n",
              "      <th>content</th>\n",
              "      <th>label</th>\n",
              "    </tr>\n",
              "  </thead>\n",
              "  <tbody>\n",
              "    <tr>\n",
              "      <th>0</th>\n",
              "      <td>মুরগির হামলায় শেয়াল নিহত</td>\n",
              "      <td>বাংলায় একটা প্রবাদ আছে, শেয়ালের কাছে মুরগী বর্...</td>\n",
              "      <td>Clickbaits</td>\n",
              "    </tr>\n",
              "    <tr>\n",
              "      <th>1</th>\n",
              "      <td>বিটিভিতে যেবার আমি ইন্টারভিউ দিতে গেলাম</td>\n",
              "      <td>BTV থেকে লোকজন আসছে, ইন্টারভিউ নিবে।চারজনের টি...</td>\n",
              "      <td>Satire</td>\n",
              "    </tr>\n",
              "    <tr>\n",
              "      <th>2</th>\n",
              "      <td>বিদেশ থেকে উন্নতমানের বিরোধীদল আমদানি করার পরা...</td>\n",
              "      <td>অদ্ভুত বিরোধীদলহীনতায় ভুগছে সরকার। এ এক অন্যরক...</td>\n",
              "      <td>Satire</td>\n",
              "    </tr>\n",
              "    <tr>\n",
              "      <th>3</th>\n",
              "      <td>অবসর নেয়ার ঘোষণা দিলেন মেসি !</td>\n",
              "      <td>রাশিয়া বিশ্বকাপ নকআউট পর্বে ফ্রান্সের সাথে ৪-৩...</td>\n",
              "      <td>Clickbaits</td>\n",
              "    </tr>\n",
              "    <tr>\n",
              "      <th>4</th>\n",
              "      <td>মাদারফাকার নহে, ব্রাদারফাকার: সাকা | দৈনিক মতি...</td>\n",
              "      <td>নিজস্ব মতিবেদক‘মাদারফাকার নহে, আমি ব্রাদারফাকা...</td>\n",
              "      <td>Clickbaits</td>\n",
              "    </tr>\n",
              "  </tbody>\n",
              "</table>\n",
              "</div>"
            ],
            "text/plain": [
              "                                               title  ...       label\n",
              "0                           মুরগির হামলায় শেয়াল নিহত  ...  Clickbaits\n",
              "1            বিটিভিতে যেবার আমি ইন্টারভিউ দিতে গেলাম  ...      Satire\n",
              "2  বিদেশ থেকে উন্নতমানের বিরোধীদল আমদানি করার পরা...  ...      Satire\n",
              "3                      অবসর নেয়ার ঘোষণা দিলেন মেসি !  ...  Clickbaits\n",
              "4  মাদারফাকার নহে, ব্রাদারফাকার: সাকা | দৈনিক মতি...  ...  Clickbaits\n",
              "\n",
              "[5 rows x 3 columns]"
            ]
          },
          "metadata": {},
          "execution_count": 12
        }
      ]
    },
    {
      "cell_type": "code",
      "metadata": {
        "colab": {
          "base_uri": "https://localhost:8080/"
        },
        "id": "L0lkzNdeuSkA",
        "outputId": "45cd3af9-ec90-4b5a-fe29-e20636f2ed27"
      },
      "source": [
        "banfake1['label'].unique()"
      ],
      "execution_count": null,
      "outputs": [
        {
          "output_type": "execute_result",
          "data": {
            "text/plain": [
              "array(['Clickbaits', 'Satire', 'Fake'], dtype=object)"
            ]
          },
          "metadata": {},
          "execution_count": 21
        }
      ]
    },
    {
      "cell_type": "code",
      "metadata": {
        "id": "Hz3Y7Eqkuj2I"
      },
      "source": [
        "banfake1['label']=banfake1['label'].map({'Clickbaits':1,\"Satire\":0,\"Fake\":0})"
      ],
      "execution_count": null,
      "outputs": []
    },
    {
      "cell_type": "code",
      "metadata": {
        "colab": {
          "base_uri": "https://localhost:8080/"
        },
        "id": "XkisHIl2uw4H",
        "outputId": "acea9ee5-98f6-4741-e107-9c9641e9d55d"
      },
      "source": [
        "import collections\n",
        "collections.Counter(banfake1['label'])"
      ],
      "execution_count": null,
      "outputs": [
        {
          "output_type": "execute_result",
          "data": {
            "text/plain": [
              "Counter({0: 914, 1: 262})"
            ]
          },
          "metadata": {},
          "execution_count": 102
        }
      ]
    },
    {
      "cell_type": "code",
      "metadata": {
        "colab": {
          "base_uri": "https://localhost:8080/"
        },
        "id": "9vpb14ZZx5As",
        "outputId": "31bbbbd8-2093-4fa6-972c-ba617d5531cb"
      },
      "source": [
        "banfake1.dtypes"
      ],
      "execution_count": null,
      "outputs": [
        {
          "output_type": "execute_result",
          "data": {
            "text/plain": [
              "title      object\n",
              "content    object\n",
              "label       int64\n",
              "dtype: object"
            ]
          },
          "metadata": {},
          "execution_count": 113
        }
      ]
    },
    {
      "cell_type": "code",
      "metadata": {
        "colab": {
          "base_uri": "https://localhost:8080/",
          "height": 449
        },
        "id": "pcENdTkEhy74",
        "outputId": "5c461eae-9631-470a-cff0-30692d7f56c8"
      },
      "source": [
        "newcitizen=pd.read_csv(\"/content/drive/MyDrive/Thesis BRAC/Thesis Dataset/Labelled/Mahtab_Newcitizen_Labelled(Recheck) - Mahtab_Newcitizen_Labelled.csv\").iloc[:,1:]\n",
        "newcitizen.head()"
      ],
      "execution_count": null,
      "outputs": [
        {
          "output_type": "execute_result",
          "data": {
            "text/html": [
              "<div>\n",
              "<style scoped>\n",
              "    .dataframe tbody tr th:only-of-type {\n",
              "        vertical-align: middle;\n",
              "    }\n",
              "\n",
              "    .dataframe tbody tr th {\n",
              "        vertical-align: top;\n",
              "    }\n",
              "\n",
              "    .dataframe thead th {\n",
              "        text-align: right;\n",
              "    }\n",
              "</style>\n",
              "<table border=\"1\" class=\"dataframe\">\n",
              "  <thead>\n",
              "    <tr style=\"text-align: right;\">\n",
              "      <th></th>\n",
              "      <th>col_0</th>\n",
              "      <th>col_1</th>\n",
              "      <th>col_2</th>\n",
              "      <th>col_3</th>\n",
              "      <th>col_4</th>\n",
              "      <th>col_5</th>\n",
              "      <th>col_6</th>\n",
              "      <th>col_7</th>\n",
              "      <th>col_8</th>\n",
              "      <th>col_9</th>\n",
              "      <th>Label</th>\n",
              "    </tr>\n",
              "  </thead>\n",
              "  <tbody>\n",
              "    <tr>\n",
              "      <th>0</th>\n",
              "      <td>https://newzcitizen.com/archives/28969</td>\n",
              "      <td>বাসাভাড়া নিতে বাড়িওয়ালাকে নকল স্বামী দেখালেন প...</td>\n",
              "      <td>NaN</td>\n",
              "      <td>NaN</td>\n",
              "      <td>June 24, 2021</td>\n",
              "      <td>NaN</td>\n",
              "      <td>NaN</td>\n",
              "      <td>ঢাকায় একজন ব্যাচেলর মেয়ের সমস্যার শেষ নেই। বাস...</td>\n",
              "      <td>1</td>\n",
              "      <td>1</td>\n",
              "      <td>Clickbaits</td>\n",
              "    </tr>\n",
              "    <tr>\n",
              "      <th>1</th>\n",
              "      <td>https://newzcitizen.com/archives/28966</td>\n",
              "      <td>মাত্র ৫৫ টাকার বিনিয়োগে মিলবে ৩৬ হাজার! সরকারি...</td>\n",
              "      <td>NaN</td>\n",
              "      <td>NaN</td>\n",
              "      <td>June 24, 2021</td>\n",
              "      <td>NaN</td>\n",
              "      <td>NaN</td>\n",
              "      <td>সকলেই ভবিষ্যতের জন্য বিনিয়োগ করতে চান। প্রয়োজন...</td>\n",
              "      <td>1</td>\n",
              "      <td>1</td>\n",
              "      <td>Clickbaits</td>\n",
              "    </tr>\n",
              "    <tr>\n",
              "      <th>2</th>\n",
              "      <td>https://newzcitizen.com/archives/28961</td>\n",
              "      <td>ভিক্ষুকের কোলের বাচ্চাটি সবসময় ঘুমিয়ে থাকার র’...</td>\n",
              "      <td>NaN</td>\n",
              "      <td>NaN</td>\n",
              "      <td>June 24, 2021</td>\n",
              "      <td>NaN</td>\n",
              "      <td>NaN</td>\n",
              "      <td>চলার পথে বা জ্যামে গাড়িতে বসে থাকার সময় অনেক ধ...</td>\n",
              "      <td>1</td>\n",
              "      <td>1</td>\n",
              "      <td>Clickbaits</td>\n",
              "    </tr>\n",
              "    <tr>\n",
              "      <th>3</th>\n",
              "      <td>https://newzcitizen.com/archives/28958</td>\n",
              "      <td>নানা রহস্যে ভরপুর পরীমনির গাড়ি!</td>\n",
              "      <td>NaN</td>\n",
              "      <td>NaN</td>\n",
              "      <td>June 24, 2021</td>\n",
              "      <td>NaN</td>\n",
              "      <td>NaN</td>\n",
              "      <td>রুপালি পর্দার আলোচিত এক অভিনেত্রী। চলচ্চিত্র ছ...</td>\n",
              "      <td>1</td>\n",
              "      <td>NaN</td>\n",
              "      <td>Clickbaits</td>\n",
              "    </tr>\n",
              "    <tr>\n",
              "      <th>4</th>\n",
              "      <td>https://newzcitizen.com/archives/28953</td>\n",
              "      <td>যেভাবে একদিনে তৈরি হয় ১০ তলা বিলাসবহুল বাড়ি, দ...</td>\n",
              "      <td>NaN</td>\n",
              "      <td>NaN</td>\n",
              "      <td>June 24, 2021</td>\n",
              "      <td>NaN</td>\n",
              "      <td>NaN</td>\n",
              "      <td>চীনের সামগ্রীর এত জনপ্রিয়তা কেন?? এর প্রথম কা...</td>\n",
              "      <td>1</td>\n",
              "      <td>NaN</td>\n",
              "      <td>Clickbaits</td>\n",
              "    </tr>\n",
              "  </tbody>\n",
              "</table>\n",
              "</div>"
            ],
            "text/plain": [
              "                                    col_0  ...       Label\n",
              "0  https://newzcitizen.com/archives/28969  ...  Clickbaits\n",
              "1  https://newzcitizen.com/archives/28966  ...  Clickbaits\n",
              "2  https://newzcitizen.com/archives/28961  ...  Clickbaits\n",
              "3  https://newzcitizen.com/archives/28958  ...  Clickbaits\n",
              "4  https://newzcitizen.com/archives/28953  ...  Clickbaits\n",
              "\n",
              "[5 rows x 11 columns]"
            ]
          },
          "metadata": {},
          "execution_count": 14
        }
      ]
    },
    {
      "cell_type": "code",
      "metadata": {
        "colab": {
          "base_uri": "https://localhost:8080/",
          "height": 206
        },
        "id": "uxGB4q-lqvJN",
        "outputId": "8e352a48-489e-4f64-8670-373fb4471901"
      },
      "source": [
        "newcitizen1 = newcitizen[['col_1','col_7','Label']].rename(columns={'col_1':'title',\n",
        "                                                   'col_7':'content',\n",
        "                                                   'Label':'label'})\n",
        "newcitizen1.head()"
      ],
      "execution_count": null,
      "outputs": [
        {
          "output_type": "execute_result",
          "data": {
            "text/html": [
              "<div>\n",
              "<style scoped>\n",
              "    .dataframe tbody tr th:only-of-type {\n",
              "        vertical-align: middle;\n",
              "    }\n",
              "\n",
              "    .dataframe tbody tr th {\n",
              "        vertical-align: top;\n",
              "    }\n",
              "\n",
              "    .dataframe thead th {\n",
              "        text-align: right;\n",
              "    }\n",
              "</style>\n",
              "<table border=\"1\" class=\"dataframe\">\n",
              "  <thead>\n",
              "    <tr style=\"text-align: right;\">\n",
              "      <th></th>\n",
              "      <th>title</th>\n",
              "      <th>content</th>\n",
              "      <th>label</th>\n",
              "    </tr>\n",
              "  </thead>\n",
              "  <tbody>\n",
              "    <tr>\n",
              "      <th>0</th>\n",
              "      <td>বাসাভাড়া নিতে বাড়িওয়ালাকে নকল স্বামী দেখালেন প...</td>\n",
              "      <td>ঢাকায় একজন ব্যাচেলর মেয়ের সমস্যার শেষ নেই। বাস...</td>\n",
              "      <td>Clickbaits</td>\n",
              "    </tr>\n",
              "    <tr>\n",
              "      <th>1</th>\n",
              "      <td>মাত্র ৫৫ টাকার বিনিয়োগে মিলবে ৩৬ হাজার! সরকারি...</td>\n",
              "      <td>সকলেই ভবিষ্যতের জন্য বিনিয়োগ করতে চান। প্রয়োজন...</td>\n",
              "      <td>Clickbaits</td>\n",
              "    </tr>\n",
              "    <tr>\n",
              "      <th>2</th>\n",
              "      <td>ভিক্ষুকের কোলের বাচ্চাটি সবসময় ঘুমিয়ে থাকার র’...</td>\n",
              "      <td>চলার পথে বা জ্যামে গাড়িতে বসে থাকার সময় অনেক ধ...</td>\n",
              "      <td>Clickbaits</td>\n",
              "    </tr>\n",
              "    <tr>\n",
              "      <th>3</th>\n",
              "      <td>নানা রহস্যে ভরপুর পরীমনির গাড়ি!</td>\n",
              "      <td>রুপালি পর্দার আলোচিত এক অভিনেত্রী। চলচ্চিত্র ছ...</td>\n",
              "      <td>Clickbaits</td>\n",
              "    </tr>\n",
              "    <tr>\n",
              "      <th>4</th>\n",
              "      <td>যেভাবে একদিনে তৈরি হয় ১০ তলা বিলাসবহুল বাড়ি, দ...</td>\n",
              "      <td>চীনের সামগ্রীর এত জনপ্রিয়তা কেন?? এর প্রথম কা...</td>\n",
              "      <td>Clickbaits</td>\n",
              "    </tr>\n",
              "  </tbody>\n",
              "</table>\n",
              "</div>"
            ],
            "text/plain": [
              "                                               title  ...       label\n",
              "0  বাসাভাড়া নিতে বাড়িওয়ালাকে নকল স্বামী দেখালেন প...  ...  Clickbaits\n",
              "1  মাত্র ৫৫ টাকার বিনিয়োগে মিলবে ৩৬ হাজার! সরকারি...  ...  Clickbaits\n",
              "2  ভিক্ষুকের কোলের বাচ্চাটি সবসময় ঘুমিয়ে থাকার র’...  ...  Clickbaits\n",
              "3                    নানা রহস্যে ভরপুর পরীমনির গাড়ি!  ...  Clickbaits\n",
              "4  যেভাবে একদিনে তৈরি হয় ১০ তলা বিলাসবহুল বাড়ি, দ...  ...  Clickbaits\n",
              "\n",
              "[5 rows x 3 columns]"
            ]
          },
          "metadata": {},
          "execution_count": 15
        }
      ]
    },
    {
      "cell_type": "code",
      "metadata": {
        "colab": {
          "base_uri": "https://localhost:8080/"
        },
        "id": "5g1QLVWFu6zj",
        "outputId": "8b9f7be1-ef15-46f3-dfc3-be350de900d4"
      },
      "source": [
        "newcitizen1['label'].unique()"
      ],
      "execution_count": null,
      "outputs": [
        {
          "output_type": "execute_result",
          "data": {
            "text/plain": [
              "array(['Clickbaits', nan], dtype=object)"
            ]
          },
          "metadata": {},
          "execution_count": 25
        }
      ]
    },
    {
      "cell_type": "code",
      "metadata": {
        "colab": {
          "base_uri": "https://localhost:8080/"
        },
        "id": "iVR2gRqfvZuz",
        "outputId": "d2896bbf-3371-4bab-f124-3f20bc6ce1fd"
      },
      "source": [
        "collections.Counter(newcitizen1['label'])"
      ],
      "execution_count": null,
      "outputs": [
        {
          "output_type": "execute_result",
          "data": {
            "text/plain": [
              "Counter({'Clickbaits': 308, nan: 677})"
            ]
          },
          "metadata": {},
          "execution_count": 86
        }
      ]
    },
    {
      "cell_type": "code",
      "metadata": {
        "id": "i2OgZErWu9zB"
      },
      "source": [
        "newcitizen1['label'] = newcitizen1['label'].map({'Clickbaits':1}).fillna(0).astype('int')"
      ],
      "execution_count": null,
      "outputs": []
    },
    {
      "cell_type": "code",
      "metadata": {
        "colab": {
          "base_uri": "https://localhost:8080/"
        },
        "id": "UyLrq30uvLWV",
        "outputId": "10ec40a8-2d74-49fb-c81e-c5a870257a99"
      },
      "source": [
        "collections.Counter(newcitizen1['label'])"
      ],
      "execution_count": null,
      "outputs": [
        {
          "output_type": "execute_result",
          "data": {
            "text/plain": [
              "Counter({0: 677, 1: 308})"
            ]
          },
          "metadata": {},
          "execution_count": 42
        }
      ]
    },
    {
      "cell_type": "code",
      "metadata": {
        "colab": {
          "base_uri": "https://localhost:8080/"
        },
        "id": "3R5BVQ-Kx9Dz",
        "outputId": "eb253f40-7822-4163-8ebc-6df4630c8697"
      },
      "source": [
        "newcitizen1.dtypes"
      ],
      "execution_count": null,
      "outputs": [
        {
          "output_type": "execute_result",
          "data": {
            "text/plain": [
              "title      object\n",
              "content    object\n",
              "label       int64\n",
              "dtype: object"
            ]
          },
          "metadata": {},
          "execution_count": 114
        }
      ]
    },
    {
      "cell_type": "code",
      "metadata": {
        "colab": {
          "base_uri": "https://localhost:8080/",
          "height": 678
        },
        "id": "K1FglNlodEYf",
        "outputId": "d4957774-ce2c-4a36-b09d-03b34864b7e7"
      },
      "source": [
        "rtv=pd.read_csv(\"/content/drive/MyDrive/Thesis BRAC/Thesis Dataset/Labelled/Mahtab_rtv_labelled - Mahtab_rtv_labelled.csv\").iloc[:,1:]\n",
        "rtv.head()"
      ],
      "execution_count": null,
      "outputs": [
        {
          "output_type": "execute_result",
          "data": {
            "text/html": [
              "<div>\n",
              "<style scoped>\n",
              "    .dataframe tbody tr th:only-of-type {\n",
              "        vertical-align: middle;\n",
              "    }\n",
              "\n",
              "    .dataframe tbody tr th {\n",
              "        vertical-align: top;\n",
              "    }\n",
              "\n",
              "    .dataframe thead th {\n",
              "        text-align: right;\n",
              "    }\n",
              "</style>\n",
              "<table border=\"1\" class=\"dataframe\">\n",
              "  <thead>\n",
              "    <tr style=\"text-align: right;\">\n",
              "      <th></th>\n",
              "      <th>col_0</th>\n",
              "      <th>title</th>\n",
              "      <th>col_2</th>\n",
              "      <th>col_3</th>\n",
              "      <th>col_4</th>\n",
              "      <th>col_5</th>\n",
              "      <th>col_6</th>\n",
              "      <th>content</th>\n",
              "      <th>col_8</th>\n",
              "      <th>label</th>\n",
              "    </tr>\n",
              "  </thead>\n",
              "  <tbody>\n",
              "    <tr>\n",
              "      <th>0</th>\n",
              "      <td>https://www.rtvonline.com/bangladesh/134786/%E...</td>\n",
              "      <td>নাসিরসহ আসামিরা আদালতে</td>\n",
              "      <td>আরটিভি নিউজ</td>\n",
              "      <td>বাংলাদেশ</td>\n",
              "      <td>১৫ জুন ২০২১</td>\n",
              "      <td>নাসিরসহ আসামিরা আদালতে</td>\n",
              "      <td>নায়িকা পরীমণির মামলায় নাসিরসহ আসামিদের আদালতে ...</td>\n",
              "      <td>নায়িকা পরীমণির মামলায় নাসিরসহ আসামিদের আদালতে ...</td>\n",
              "      <td>2</td>\n",
              "      <td>NaN</td>\n",
              "    </tr>\n",
              "    <tr>\n",
              "      <th>1</th>\n",
              "      <td>https://www.rtvonline.com/bangladesh/134785/%E...</td>\n",
              "      <td>পরীমণির মামলার তদন্ত প্রতিবেদন ৮ জুলাইয়ের মধ্যে</td>\n",
              "      <td>আরটিভি নিউজ</td>\n",
              "      <td>বাংলাদেশ</td>\n",
              "      <td>১৫ জুন ২০২১</td>\n",
              "      <td>পরীমণির মামলার তদন্ত প্রতিবেদন ৮ জুলাইয়ের মধ্যে</td>\n",
              "      <td>চিত্রনায়িকা পরীমণিকে হত্যা ও ধর্ষণচেষ্টার অভিয...</td>\n",
              "      <td>চিত্রনায়িকা পরীমণিকে হত্যা ও ধর্ষণচেষ্টার অভি...</td>\n",
              "      <td>2</td>\n",
              "      <td>NaN</td>\n",
              "    </tr>\n",
              "    <tr>\n",
              "      <th>2</th>\n",
              "      <td>https://www.rtvonline.com/country/134784/%E0%A...</td>\n",
              "      <td>ব্যাংকের টাকা লুট করতে সুড়ঙ্গ তৈরি</td>\n",
              "      <td>আরটিভি নিউজ</td>\n",
              "      <td>দেশজুড়ে</td>\n",
              "      <td>১৫ জুন ২০২১</td>\n",
              "      <td>ব্যাংকের, টাকা, লুট, করতে, সুড়ঙ্গ, তৈরি, rtv o...</td>\n",
              "      <td>রংপুরের মিঠাপুকুর উপজেলার লতিবপুর ইউপির জায়গীর...</td>\n",
              "      <td>রংপুরের মিঠাপুকুর উপজেলার লতিবপুর ইউপির জায়গী...</td>\n",
              "      <td>2</td>\n",
              "      <td>NaN</td>\n",
              "    </tr>\n",
              "    <tr>\n",
              "      <th>3</th>\n",
              "      <td>https://www.rtvonline.com/international/134783...</td>\n",
              "      <td>দেউলিয়া হতে চায় যুক্তরাষ্ট্রের সবচেয়ে বড় শপিং ...</td>\n",
              "      <td>আন্তর্জাতিক ডেস্ক, আরটিভি নিউজ</td>\n",
              "      <td>আন্তর্জাতিক</td>\n",
              "      <td>১৫ জুন ২০২১</td>\n",
              "      <td>দেউলিয়া হতে চায় যুক্তরাষ্ট্রের সবচেয়ে বড় শপিং ...</td>\n",
              "      <td>মহামারি করোনার ধাক্কায় বিশ্বজুড়েই সৃষ্টি হয়েছে...</td>\n",
              "      <td>মহামারি করোনার ধাক্কায় বিশ্বজুড়েই সৃষ্টি হয়েছ...</td>\n",
              "      <td>2</td>\n",
              "      <td>NaN</td>\n",
              "    </tr>\n",
              "    <tr>\n",
              "      <th>4</th>\n",
              "      <td>https://www.rtvonline.com/country/134782/%E0%A...</td>\n",
              "      <td>ইয়াবাসহ গ্রেপ্তার দুধ জসিম</td>\n",
              "      <td>চট্টগ্রাম প্রতিনিধি, আরটিভি নিউজ</td>\n",
              "      <td>দেশজুড়ে</td>\n",
              "      <td>১৫ জুন ২০২১</td>\n",
              "      <td>ইয়াবাসহ, গ্রেপ্তার, দুধ, জসিম</td>\n",
              "      <td>চট্টগ্রামে ইয়াবাসহ এক মাদক বিক্রেতাকে গ্রেপ্তা...</td>\n",
              "      <td>চট্টগ্রামে ইয়াবাসহ এক মাদক বিক্রেতাকে গ্রেপ্ত...</td>\n",
              "      <td>2</td>\n",
              "      <td>NaN</td>\n",
              "    </tr>\n",
              "  </tbody>\n",
              "</table>\n",
              "</div>"
            ],
            "text/plain": [
              "                                               col_0  ... label\n",
              "0  https://www.rtvonline.com/bangladesh/134786/%E...  ...   NaN\n",
              "1  https://www.rtvonline.com/bangladesh/134785/%E...  ...   NaN\n",
              "2  https://www.rtvonline.com/country/134784/%E0%A...  ...   NaN\n",
              "3  https://www.rtvonline.com/international/134783...  ...   NaN\n",
              "4  https://www.rtvonline.com/country/134782/%E0%A...  ...   NaN\n",
              "\n",
              "[5 rows x 10 columns]"
            ]
          },
          "metadata": {},
          "execution_count": 17
        }
      ]
    },
    {
      "cell_type": "code",
      "metadata": {
        "colab": {
          "base_uri": "https://localhost:8080/",
          "height": 206
        },
        "id": "U7IyWeGxoDpj",
        "outputId": "5f29f814-983f-4239-874c-55eff2728fea"
      },
      "source": [
        "rtv1 = rtv[['title','content','label']]\n",
        "rtv1.head()"
      ],
      "execution_count": null,
      "outputs": [
        {
          "output_type": "execute_result",
          "data": {
            "text/html": [
              "<div>\n",
              "<style scoped>\n",
              "    .dataframe tbody tr th:only-of-type {\n",
              "        vertical-align: middle;\n",
              "    }\n",
              "\n",
              "    .dataframe tbody tr th {\n",
              "        vertical-align: top;\n",
              "    }\n",
              "\n",
              "    .dataframe thead th {\n",
              "        text-align: right;\n",
              "    }\n",
              "</style>\n",
              "<table border=\"1\" class=\"dataframe\">\n",
              "  <thead>\n",
              "    <tr style=\"text-align: right;\">\n",
              "      <th></th>\n",
              "      <th>title</th>\n",
              "      <th>content</th>\n",
              "      <th>label</th>\n",
              "    </tr>\n",
              "  </thead>\n",
              "  <tbody>\n",
              "    <tr>\n",
              "      <th>0</th>\n",
              "      <td>নাসিরসহ আসামিরা আদালতে</td>\n",
              "      <td>নায়িকা পরীমণির মামলায় নাসিরসহ আসামিদের আদালতে ...</td>\n",
              "      <td>NaN</td>\n",
              "    </tr>\n",
              "    <tr>\n",
              "      <th>1</th>\n",
              "      <td>পরীমণির মামলার তদন্ত প্রতিবেদন ৮ জুলাইয়ের মধ্যে</td>\n",
              "      <td>চিত্রনায়িকা পরীমণিকে হত্যা ও ধর্ষণচেষ্টার অভি...</td>\n",
              "      <td>NaN</td>\n",
              "    </tr>\n",
              "    <tr>\n",
              "      <th>2</th>\n",
              "      <td>ব্যাংকের টাকা লুট করতে সুড়ঙ্গ তৈরি</td>\n",
              "      <td>রংপুরের মিঠাপুকুর উপজেলার লতিবপুর ইউপির জায়গী...</td>\n",
              "      <td>NaN</td>\n",
              "    </tr>\n",
              "    <tr>\n",
              "      <th>3</th>\n",
              "      <td>দেউলিয়া হতে চায় যুক্তরাষ্ট্রের সবচেয়ে বড় শপিং ...</td>\n",
              "      <td>মহামারি করোনার ধাক্কায় বিশ্বজুড়েই সৃষ্টি হয়েছ...</td>\n",
              "      <td>NaN</td>\n",
              "    </tr>\n",
              "    <tr>\n",
              "      <th>4</th>\n",
              "      <td>ইয়াবাসহ গ্রেপ্তার দুধ জসিম</td>\n",
              "      <td>চট্টগ্রামে ইয়াবাসহ এক মাদক বিক্রেতাকে গ্রেপ্ত...</td>\n",
              "      <td>NaN</td>\n",
              "    </tr>\n",
              "  </tbody>\n",
              "</table>\n",
              "</div>"
            ],
            "text/plain": [
              "                                               title  ... label\n",
              "0                             নাসিরসহ আসামিরা আদালতে  ...   NaN\n",
              "1    পরীমণির মামলার তদন্ত প্রতিবেদন ৮ জুলাইয়ের মধ্যে  ...   NaN\n",
              "2                 ব্যাংকের টাকা লুট করতে সুড়ঙ্গ তৈরি  ...   NaN\n",
              "3  দেউলিয়া হতে চায় যুক্তরাষ্ট্রের সবচেয়ে বড় শপিং ...  ...   NaN\n",
              "4                         ইয়াবাসহ গ্রেপ্তার দুধ জসিম  ...   NaN\n",
              "\n",
              "[5 rows x 3 columns]"
            ]
          },
          "metadata": {},
          "execution_count": 18
        }
      ]
    },
    {
      "cell_type": "code",
      "metadata": {
        "colab": {
          "base_uri": "https://localhost:8080/"
        },
        "id": "-miH4Xhqvd89",
        "outputId": "96cf633c-c3d6-4251-afca-d8e90fcffb39"
      },
      "source": [
        "collections.Counter(rtv1['label'])"
      ],
      "execution_count": null,
      "outputs": [
        {
          "output_type": "execute_result",
          "data": {
            "text/plain": [
              "Counter({'-1': 5, 'Clickbaits': 84, nan: 1000})"
            ]
          },
          "metadata": {},
          "execution_count": 89
        }
      ]
    },
    {
      "cell_type": "code",
      "metadata": {
        "colab": {
          "base_uri": "https://localhost:8080/"
        },
        "id": "yiJoXCnpvivM",
        "outputId": "9558202c-955f-42ec-8f27-7a5a5b1906b3"
      },
      "source": [
        "rtv1['label'] = rtv1['label'].map({'-1':0,'Clickbaits':1}).fillna(0).astype('int')"
      ],
      "execution_count": null,
      "outputs": [
        {
          "output_type": "stream",
          "name": "stderr",
          "text": [
            "/usr/local/lib/python3.7/dist-packages/ipykernel_launcher.py:1: SettingWithCopyWarning: \n",
            "A value is trying to be set on a copy of a slice from a DataFrame.\n",
            "Try using .loc[row_indexer,col_indexer] = value instead\n",
            "\n",
            "See the caveats in the documentation: https://pandas.pydata.org/pandas-docs/stable/user_guide/indexing.html#returning-a-view-versus-a-copy\n",
            "  \"\"\"Entry point for launching an IPython kernel.\n"
          ]
        }
      ]
    },
    {
      "cell_type": "code",
      "metadata": {
        "colab": {
          "base_uri": "https://localhost:8080/"
        },
        "id": "KHSpfWsqwS0u",
        "outputId": "0f533fe7-3587-4e67-ad4c-f6045b0a9128"
      },
      "source": [
        "collections.Counter(rtv1['label'])"
      ],
      "execution_count": null,
      "outputs": [
        {
          "output_type": "execute_result",
          "data": {
            "text/plain": [
              "Counter({0: 1005, 1: 84})"
            ]
          },
          "metadata": {},
          "execution_count": 46
        }
      ]
    },
    {
      "cell_type": "code",
      "metadata": {
        "colab": {
          "base_uri": "https://localhost:8080/"
        },
        "id": "uhTrAyWPyANg",
        "outputId": "5dbedd78-09a6-4873-9db8-a90422424415"
      },
      "source": [
        "rtv1.dtypes"
      ],
      "execution_count": null,
      "outputs": [
        {
          "output_type": "execute_result",
          "data": {
            "text/plain": [
              "title      object\n",
              "content    object\n",
              "label       int64\n",
              "dtype: object"
            ]
          },
          "metadata": {},
          "execution_count": 116
        }
      ]
    },
    {
      "cell_type": "code",
      "metadata": {
        "colab": {
          "base_uri": "https://localhost:8080/",
          "height": 640
        },
        "id": "Y5ELMP5jy9QW",
        "outputId": "7c9c3ac9-6f52-4375-e1ac-f7d4e4d8ea78"
      },
      "source": [
        "topdhaka = pd.read_csv('/content/drive/MyDrive/Thesis BRAC/Thesis Dataset/Labelled/topdhaka_final - topdhaka_final.csv').iloc[:,1:]\n",
        "topdhaka.head()"
      ],
      "execution_count": null,
      "outputs": [
        {
          "output_type": "execute_result",
          "data": {
            "text/html": [
              "<div>\n",
              "<style scoped>\n",
              "    .dataframe tbody tr th:only-of-type {\n",
              "        vertical-align: middle;\n",
              "    }\n",
              "\n",
              "    .dataframe tbody tr th {\n",
              "        vertical-align: top;\n",
              "    }\n",
              "\n",
              "    .dataframe thead th {\n",
              "        text-align: right;\n",
              "    }\n",
              "</style>\n",
              "<table border=\"1\" class=\"dataframe\">\n",
              "  <thead>\n",
              "    <tr style=\"text-align: right;\">\n",
              "      <th></th>\n",
              "      <th>col_0</th>\n",
              "      <th>col_1</th>\n",
              "      <th>col_2</th>\n",
              "      <th>col_3</th>\n",
              "      <th>col_4</th>\n",
              "      <th>col_5</th>\n",
              "      <th>col_6</th>\n",
              "      <th>col_7</th>\n",
              "      <th>col_8</th>\n",
              "      <th>Clickabait</th>\n",
              "    </tr>\n",
              "  </thead>\n",
              "  <tbody>\n",
              "    <tr>\n",
              "      <th>0</th>\n",
              "      <td>https://topdhaka.com/%e0%a6%aa%e0%a7%81%e0%a6%...</td>\n",
              "      <td>পু’রুষের শ’ক্তি বা’ড়ানোর ৪টি ঔ’ষধি খা’বার।</td>\n",
              "      <td>NaN</td>\n",
              "      <td>NaN</td>\n",
              "      <td>2021-07-19</td>\n",
              "      <td>NaN</td>\n",
              "      <td>NaN</td>\n",
              "      <td>বর্তমান যুগে বেশিরভাগ পুরুষই যৌ’ন সমস্যায় ভোগ...</td>\n",
              "      <td>1</td>\n",
              "      <td>1.0</td>\n",
              "    </tr>\n",
              "    <tr>\n",
              "      <th>1</th>\n",
              "      <td>https://topdhaka.com/%e0%a6%ac%e0%a6%bf%e0%a6%...</td>\n",
              "      <td>বি’বাহিত না’রীরা যে ৫ টি কারণে প’রকীয়া করে</td>\n",
              "      <td>NaN</td>\n",
              "      <td>NaN</td>\n",
              "      <td>2021-07-19</td>\n",
              "      <td>NaN</td>\n",
              "      <td>NaN</td>\n",
              "      <td>প’রকীয়া যেন আমাদের দৈনন্দিন জীবনের সাথে চলে আ...</td>\n",
              "      <td>1</td>\n",
              "      <td>1.0</td>\n",
              "    </tr>\n",
              "    <tr>\n",
              "      <th>2</th>\n",
              "      <td>https://topdhaka.com/%e0%a6%aa%e0%a7%8d%e0%a6%...</td>\n",
              "      <td>প্রবাসীরা দেশে আসলেই বাসায় ডাকতেন নায়িকা রোমানা</td>\n",
              "      <td>NaN</td>\n",
              "      <td>NaN</td>\n",
              "      <td>2021-07-19</td>\n",
              "      <td>NaN</td>\n",
              "      <td>NaN</td>\n",
              "      <td>সৌদি আরব প্রবাসী কামরুল ই’সলাম জুয়েলের দা’য়ের ...</td>\n",
              "      <td>1</td>\n",
              "      <td>NaN</td>\n",
              "    </tr>\n",
              "    <tr>\n",
              "      <th>3</th>\n",
              "      <td>https://topdhaka.com/%e0%a6%aa%e0%a7%8d%e0%a6%...</td>\n",
              "      <td>প্রশ্নঃ- আমার স্বা’মী শা’রীরিক মি’ল’নের আমাকে ...</td>\n",
              "      <td>NaN</td>\n",
              "      <td>NaN</td>\n",
              "      <td>2021-07-18</td>\n",
              "      <td>NaN</td>\n",
              "      <td>NaN</td>\n",
              "      <td>প্রশ্নঃ- আমার স্বা’মী শা’রীরিক মি’ল;নের আমাকে ...</td>\n",
              "      <td>1</td>\n",
              "      <td>1.0</td>\n",
              "    </tr>\n",
              "    <tr>\n",
              "      <th>4</th>\n",
              "      <td>https://topdhaka.com/%e0%a6%9f%e0%a6%be%e0%a6%...</td>\n",
              "      <td>টানা ২ ঘন্টা ক’রে দেখিয়েছি, আমিও পারি : সালমা</td>\n",
              "      <td>NaN</td>\n",
              "      <td>NaN</td>\n",
              "      <td>2021-07-19</td>\n",
              "      <td>NaN</td>\n",
              "      <td>NaN</td>\n",
              "      <td>সম্প্রতি লালমাটিয়ায় সংগীত পরিচালক রেজওয়ান শেখে...</td>\n",
              "      <td>1</td>\n",
              "      <td>1.0</td>\n",
              "    </tr>\n",
              "  </tbody>\n",
              "</table>\n",
              "</div>"
            ],
            "text/plain": [
              "                                               col_0  ... Clickabait\n",
              "0  https://topdhaka.com/%e0%a6%aa%e0%a7%81%e0%a6%...  ...        1.0\n",
              "1  https://topdhaka.com/%e0%a6%ac%e0%a6%bf%e0%a6%...  ...        1.0\n",
              "2  https://topdhaka.com/%e0%a6%aa%e0%a7%8d%e0%a6%...  ...        NaN\n",
              "3  https://topdhaka.com/%e0%a6%aa%e0%a7%8d%e0%a6%...  ...        1.0\n",
              "4  https://topdhaka.com/%e0%a6%9f%e0%a6%be%e0%a6%...  ...        1.0\n",
              "\n",
              "[5 rows x 10 columns]"
            ]
          },
          "metadata": {},
          "execution_count": 20
        }
      ]
    },
    {
      "cell_type": "code",
      "metadata": {
        "id": "HZU7_wxazLqz"
      },
      "source": [
        "topdhaka1 = topdhaka[['col_1','col_7','Clickabait']].rename(columns=\n",
        "                                                         {'col_1':'title','col_7':'content','Clickabait':'label'})"
      ],
      "execution_count": null,
      "outputs": []
    },
    {
      "cell_type": "code",
      "metadata": {
        "colab": {
          "base_uri": "https://localhost:8080/",
          "height": 206
        },
        "id": "yWcwrD12zqgP",
        "outputId": "80612900-73d2-4c8d-a53b-b82491843d4c"
      },
      "source": [
        "topdhaka1.head()"
      ],
      "execution_count": null,
      "outputs": [
        {
          "output_type": "execute_result",
          "data": {
            "text/html": [
              "<div>\n",
              "<style scoped>\n",
              "    .dataframe tbody tr th:only-of-type {\n",
              "        vertical-align: middle;\n",
              "    }\n",
              "\n",
              "    .dataframe tbody tr th {\n",
              "        vertical-align: top;\n",
              "    }\n",
              "\n",
              "    .dataframe thead th {\n",
              "        text-align: right;\n",
              "    }\n",
              "</style>\n",
              "<table border=\"1\" class=\"dataframe\">\n",
              "  <thead>\n",
              "    <tr style=\"text-align: right;\">\n",
              "      <th></th>\n",
              "      <th>title</th>\n",
              "      <th>content</th>\n",
              "      <th>label</th>\n",
              "    </tr>\n",
              "  </thead>\n",
              "  <tbody>\n",
              "    <tr>\n",
              "      <th>0</th>\n",
              "      <td>পু’রুষের শ’ক্তি বা’ড়ানোর ৪টি ঔ’ষধি খা’বার।</td>\n",
              "      <td>বর্তমান যুগে বেশিরভাগ পুরুষই যৌ’ন সমস্যায় ভোগ...</td>\n",
              "      <td>1.0</td>\n",
              "    </tr>\n",
              "    <tr>\n",
              "      <th>1</th>\n",
              "      <td>বি’বাহিত না’রীরা যে ৫ টি কারণে প’রকীয়া করে</td>\n",
              "      <td>প’রকীয়া যেন আমাদের দৈনন্দিন জীবনের সাথে চলে আ...</td>\n",
              "      <td>1.0</td>\n",
              "    </tr>\n",
              "    <tr>\n",
              "      <th>2</th>\n",
              "      <td>প্রবাসীরা দেশে আসলেই বাসায় ডাকতেন নায়িকা রোমানা</td>\n",
              "      <td>সৌদি আরব প্রবাসী কামরুল ই’সলাম জুয়েলের দা’য়ের ...</td>\n",
              "      <td>NaN</td>\n",
              "    </tr>\n",
              "    <tr>\n",
              "      <th>3</th>\n",
              "      <td>প্রশ্নঃ- আমার স্বা’মী শা’রীরিক মি’ল’নের আমাকে ...</td>\n",
              "      <td>প্রশ্নঃ- আমার স্বা’মী শা’রীরিক মি’ল;নের আমাকে ...</td>\n",
              "      <td>1.0</td>\n",
              "    </tr>\n",
              "    <tr>\n",
              "      <th>4</th>\n",
              "      <td>টানা ২ ঘন্টা ক’রে দেখিয়েছি, আমিও পারি : সালমা</td>\n",
              "      <td>সম্প্রতি লালমাটিয়ায় সংগীত পরিচালক রেজওয়ান শেখে...</td>\n",
              "      <td>1.0</td>\n",
              "    </tr>\n",
              "  </tbody>\n",
              "</table>\n",
              "</div>"
            ],
            "text/plain": [
              "                                               title  ... label\n",
              "0        পু’রুষের শ’ক্তি বা’ড়ানোর ৪টি ঔ’ষধি খা’বার।  ...   1.0\n",
              "1         বি’বাহিত না’রীরা যে ৫ টি কারণে প’রকীয়া করে  ...   1.0\n",
              "2    প্রবাসীরা দেশে আসলেই বাসায় ডাকতেন নায়িকা রোমানা  ...   NaN\n",
              "3  প্রশ্নঃ- আমার স্বা’মী শা’রীরিক মি’ল’নের আমাকে ...  ...   1.0\n",
              "4      টানা ২ ঘন্টা ক’রে দেখিয়েছি, আমিও পারি : সালমা  ...   1.0\n",
              "\n",
              "[5 rows x 3 columns]"
            ]
          },
          "metadata": {},
          "execution_count": 22
        }
      ]
    },
    {
      "cell_type": "code",
      "metadata": {
        "colab": {
          "base_uri": "https://localhost:8080/"
        },
        "id": "sJMlvE_Tz7o5",
        "outputId": "4f8a1924-5ce8-4199-d5fb-8e15f457a306"
      },
      "source": [
        "topdhaka1[topdhaka1['label']==1].iloc[-1,:]"
      ],
      "execution_count": null,
      "outputs": [
        {
          "output_type": "execute_result",
          "data": {
            "text/plain": [
              "title       যে ১০ পেশার পুরুষের প্রতি নারীদের দু’র্বলতা বেশি\n",
              "content    নারীদের প্রতি পুরুষের যেমন আক’র্ষণ রয়েছে তেমনি...\n",
              "label                                                      1\n",
              "Name: 699, dtype: object"
            ]
          },
          "metadata": {},
          "execution_count": 22
        }
      ]
    },
    {
      "cell_type": "code",
      "metadata": {
        "id": "cBoI1dHO1ZOc"
      },
      "source": [
        "topdhaka1=topdhaka1.iloc[:700,:]"
      ],
      "execution_count": null,
      "outputs": []
    },
    {
      "cell_type": "code",
      "metadata": {
        "colab": {
          "base_uri": "https://localhost:8080/"
        },
        "id": "wOcHSgiw2kYJ",
        "outputId": "e8d34a40-d23a-4431-d5dd-3eead42e6483"
      },
      "source": [
        "topdhaka1.shape"
      ],
      "execution_count": null,
      "outputs": [
        {
          "output_type": "execute_result",
          "data": {
            "text/plain": [
              "(700, 3)"
            ]
          },
          "metadata": {},
          "execution_count": 159
        }
      ]
    },
    {
      "cell_type": "code",
      "metadata": {
        "id": "px_rsLUFzsdg"
      },
      "source": [
        "collections.Counter(topdhaka1['label'])"
      ],
      "execution_count": null,
      "outputs": []
    },
    {
      "cell_type": "code",
      "metadata": {
        "id": "2nZkd5ck4QFJ"
      },
      "source": [
        "topdhaka1.label= topdhaka1.label.apply(lambda x:0 if x==-1 else x).fillna(0).astype('int')"
      ],
      "execution_count": null,
      "outputs": []
    },
    {
      "cell_type": "code",
      "metadata": {
        "colab": {
          "base_uri": "https://localhost:8080/"
        },
        "id": "sf7R_UZq12mU",
        "outputId": "cf4f3c4c-4721-47ef-ffb1-1cc3acf52484"
      },
      "source": [
        "import collections\n",
        "collections.Counter(topdhaka1['label'])"
      ],
      "execution_count": null,
      "outputs": [
        {
          "output_type": "execute_result",
          "data": {
            "text/plain": [
              "Counter({0: 388, 1: 312})"
            ]
          },
          "metadata": {},
          "execution_count": 36
        }
      ]
    },
    {
      "cell_type": "code",
      "metadata": {
        "colab": {
          "base_uri": "https://localhost:8080/",
          "height": 293
        },
        "id": "8fhTbXdjrpQE",
        "outputId": "b9134aa3-24f1-466b-a38c-af1aeb46ad6e"
      },
      "source": [
        "banfake_authentic = pd.read_csv(\"/content/drive/MyDrive/Thesis BRAC/Thesis Dataset/Authentic-48K.csv/Authentic-48K.csv\")\n",
        "banfake_authentic.head()"
      ],
      "execution_count": null,
      "outputs": [
        {
          "output_type": "execute_result",
          "data": {
            "text/html": [
              "<div>\n",
              "<style scoped>\n",
              "    .dataframe tbody tr th:only-of-type {\n",
              "        vertical-align: middle;\n",
              "    }\n",
              "\n",
              "    .dataframe tbody tr th {\n",
              "        vertical-align: top;\n",
              "    }\n",
              "\n",
              "    .dataframe thead th {\n",
              "        text-align: right;\n",
              "    }\n",
              "</style>\n",
              "<table border=\"1\" class=\"dataframe\">\n",
              "  <thead>\n",
              "    <tr style=\"text-align: right;\">\n",
              "      <th></th>\n",
              "      <th>articleID</th>\n",
              "      <th>domain</th>\n",
              "      <th>date</th>\n",
              "      <th>category</th>\n",
              "      <th>headline</th>\n",
              "      <th>content</th>\n",
              "      <th>label</th>\n",
              "    </tr>\n",
              "  </thead>\n",
              "  <tbody>\n",
              "    <tr>\n",
              "      <th>0</th>\n",
              "      <td>1</td>\n",
              "      <td>jagonews24.com</td>\n",
              "      <td>2018-09-19 17:48:18</td>\n",
              "      <td>Education</td>\n",
              "      <td>হট্টগোল করায় বাকৃবিতে দুইজন বরখাস্ত, ৬ জনকে শোকজ</td>\n",
              "      <td>গত ১৭ সেপ্টেম্বর বাংলাদেশ কৃষি বিশ্ববিদ্যালয়ে ...</td>\n",
              "      <td>1</td>\n",
              "    </tr>\n",
              "    <tr>\n",
              "      <th>1</th>\n",
              "      <td>2</td>\n",
              "      <td>jagonews24.com</td>\n",
              "      <td>2018-09-19 17:48:19</td>\n",
              "      <td>National</td>\n",
              "      <td>মালয়েশিয়ায় কর্মী পাঠানোর ব্যবস্থা নেয়ার সুপারিশ</td>\n",
              "      <td>বাংলাদেশের বৃহৎ শ্রমবাজার মালয়েশিয়ায় আবার শ্রম...</td>\n",
              "      <td>1</td>\n",
              "    </tr>\n",
              "    <tr>\n",
              "      <th>2</th>\n",
              "      <td>3</td>\n",
              "      <td>jagonews24.com</td>\n",
              "      <td>2018-09-19 17:48:20</td>\n",
              "      <td>National</td>\n",
              "      <td>প্রেমের প্রস্তাবে রাজি না হওয়ায় স্কুলছাত্রীকে ...</td>\n",
              "      <td>নরসিংদীর মনোহরদীতে প্রেমের প্রস্তাবে রাজি না হ...</td>\n",
              "      <td>1</td>\n",
              "    </tr>\n",
              "    <tr>\n",
              "      <th>3</th>\n",
              "      <td>4</td>\n",
              "      <td>jagonews24.com</td>\n",
              "      <td>2018-09-19 17:48:21</td>\n",
              "      <td>Crime</td>\n",
              "      <td>মেডিয়েশনই মামলাজট নিরসনের পথ : বিচারপতি আহমেদ ...</td>\n",
              "      <td>সুপ্রিম কোর্টের হাইকোর্ট বিভাগের বিচারপতি আহমে...</td>\n",
              "      <td>1</td>\n",
              "    </tr>\n",
              "    <tr>\n",
              "      <th>4</th>\n",
              "      <td>5</td>\n",
              "      <td>jagonews24.com</td>\n",
              "      <td>2018-09-19 17:48:21</td>\n",
              "      <td>National</td>\n",
              "      <td>টকশোতে বক্তব্য দিতে গিয়ে জাপা নেতার মৃত্যু</td>\n",
              "      <td>মাদারীপুর সদরের উপজেলার লেকেরপাড়ে একটি বেসরকার...</td>\n",
              "      <td>1</td>\n",
              "    </tr>\n",
              "  </tbody>\n",
              "</table>\n",
              "</div>"
            ],
            "text/plain": [
              "   articleID  ... label\n",
              "0          1  ...     1\n",
              "1          2  ...     1\n",
              "2          3  ...     1\n",
              "3          4  ...     1\n",
              "4          5  ...     1\n",
              "\n",
              "[5 rows x 7 columns]"
            ]
          },
          "metadata": {},
          "execution_count": 25
        }
      ]
    },
    {
      "cell_type": "code",
      "metadata": {
        "id": "ovyJ7pWGsLoC"
      },
      "source": [
        "banfake_authentic1 = banfake_authentic[['headline','content','label']].rename(columns={'headline':'title'})\n",
        "banfake_authentic1.label = 0"
      ],
      "execution_count": null,
      "outputs": []
    },
    {
      "cell_type": "code",
      "metadata": {
        "id": "RtEeuaLqtjSw"
      },
      "source": [
        "all_combined = pd.concat([somoytv1,banfake1,newcitizen1,rtv1,topdhaka1,banfake_authentic1[len(banfake_authentic1.title)//2:]])\n",
        "all_combined = all_combined[all_combined.title!=0]"
      ],
      "execution_count": null,
      "outputs": []
    },
    {
      "cell_type": "code",
      "metadata": {
        "colab": {
          "base_uri": "https://localhost:8080/",
          "height": 394
        },
        "id": "7xyrKIJuxlfx",
        "outputId": "e9a9038d-09cc-4be4-c341-62f1b15b2eae"
      },
      "source": [
        "all_combined.describe(include='all')"
      ],
      "execution_count": null,
      "outputs": [
        {
          "output_type": "execute_result",
          "data": {
            "text/html": [
              "<div>\n",
              "<style scoped>\n",
              "    .dataframe tbody tr th:only-of-type {\n",
              "        vertical-align: middle;\n",
              "    }\n",
              "\n",
              "    .dataframe tbody tr th {\n",
              "        vertical-align: top;\n",
              "    }\n",
              "\n",
              "    .dataframe thead th {\n",
              "        text-align: right;\n",
              "    }\n",
              "</style>\n",
              "<table border=\"1\" class=\"dataframe\">\n",
              "  <thead>\n",
              "    <tr style=\"text-align: right;\">\n",
              "      <th></th>\n",
              "      <th>title</th>\n",
              "      <th>content</th>\n",
              "      <th>label</th>\n",
              "    </tr>\n",
              "  </thead>\n",
              "  <tbody>\n",
              "    <tr>\n",
              "      <th>count</th>\n",
              "      <td>28725</td>\n",
              "      <td>28725.0</td>\n",
              "      <td>28725.000000</td>\n",
              "    </tr>\n",
              "    <tr>\n",
              "      <th>unique</th>\n",
              "      <td>27277</td>\n",
              "      <td>28697.0</td>\n",
              "      <td>NaN</td>\n",
              "    </tr>\n",
              "    <tr>\n",
              "      <th>top</th>\n",
              "      <td>সিরাজগঞ্জে যুবলীগ নেতাকে কুপিয়ে হত্যা</td>\n",
              "      <td>0.0</td>\n",
              "      <td>NaN</td>\n",
              "    </tr>\n",
              "    <tr>\n",
              "      <th>freq</th>\n",
              "      <td>15</td>\n",
              "      <td>2.0</td>\n",
              "      <td>NaN</td>\n",
              "    </tr>\n",
              "    <tr>\n",
              "      <th>mean</th>\n",
              "      <td>NaN</td>\n",
              "      <td>NaN</td>\n",
              "      <td>0.034360</td>\n",
              "    </tr>\n",
              "    <tr>\n",
              "      <th>std</th>\n",
              "      <td>NaN</td>\n",
              "      <td>NaN</td>\n",
              "      <td>0.182156</td>\n",
              "    </tr>\n",
              "    <tr>\n",
              "      <th>min</th>\n",
              "      <td>NaN</td>\n",
              "      <td>NaN</td>\n",
              "      <td>0.000000</td>\n",
              "    </tr>\n",
              "    <tr>\n",
              "      <th>25%</th>\n",
              "      <td>NaN</td>\n",
              "      <td>NaN</td>\n",
              "      <td>0.000000</td>\n",
              "    </tr>\n",
              "    <tr>\n",
              "      <th>50%</th>\n",
              "      <td>NaN</td>\n",
              "      <td>NaN</td>\n",
              "      <td>0.000000</td>\n",
              "    </tr>\n",
              "    <tr>\n",
              "      <th>75%</th>\n",
              "      <td>NaN</td>\n",
              "      <td>NaN</td>\n",
              "      <td>0.000000</td>\n",
              "    </tr>\n",
              "    <tr>\n",
              "      <th>max</th>\n",
              "      <td>NaN</td>\n",
              "      <td>NaN</td>\n",
              "      <td>1.000000</td>\n",
              "    </tr>\n",
              "  </tbody>\n",
              "</table>\n",
              "</div>"
            ],
            "text/plain": [
              "                                        title  content         label\n",
              "count                                   28725  28725.0  28725.000000\n",
              "unique                                  27277  28697.0           NaN\n",
              "top     সিরাজগঞ্জে যুবলীগ নেতাকে কুপিয়ে হত্যা      0.0           NaN\n",
              "freq                                       15      2.0           NaN\n",
              "mean                                      NaN      NaN      0.034360\n",
              "std                                       NaN      NaN      0.182156\n",
              "min                                       NaN      NaN      0.000000\n",
              "25%                                       NaN      NaN      0.000000\n",
              "50%                                       NaN      NaN      0.000000\n",
              "75%                                       NaN      NaN      0.000000\n",
              "max                                       NaN      NaN      1.000000"
            ]
          },
          "metadata": {},
          "execution_count": 136
        }
      ]
    },
    {
      "cell_type": "code",
      "metadata": {
        "colab": {
          "base_uri": "https://localhost:8080/",
          "height": 206
        },
        "id": "LRxEpEZcnIcz",
        "outputId": "b25c7acb-3da9-4aec-e8f5-c65303cc2bc5"
      },
      "source": [
        "all_combined.head()"
      ],
      "execution_count": null,
      "outputs": [
        {
          "output_type": "execute_result",
          "data": {
            "text/html": [
              "<div>\n",
              "<style scoped>\n",
              "    .dataframe tbody tr th:only-of-type {\n",
              "        vertical-align: middle;\n",
              "    }\n",
              "\n",
              "    .dataframe tbody tr th {\n",
              "        vertical-align: top;\n",
              "    }\n",
              "\n",
              "    .dataframe thead th {\n",
              "        text-align: right;\n",
              "    }\n",
              "</style>\n",
              "<table border=\"1\" class=\"dataframe\">\n",
              "  <thead>\n",
              "    <tr style=\"text-align: right;\">\n",
              "      <th></th>\n",
              "      <th>title</th>\n",
              "      <th>content</th>\n",
              "      <th>label</th>\n",
              "    </tr>\n",
              "  </thead>\n",
              "  <tbody>\n",
              "    <tr>\n",
              "      <th>0</th>\n",
              "      <td>শিক্ষকতার ন্যূনতম যোগ্যতা নেই রাবিতে নিয়োগ পাও...</td>\n",
              "      <td>রাজশাহী বিশ্ববিদ্যালয়ের (রাবি) সদ্য বিদায়ী উপা...</td>\n",
              "      <td>0</td>\n",
              "    </tr>\n",
              "    <tr>\n",
              "      <th>1</th>\n",
              "      <td>ভারতে দলে দলে ঢুকছে মিয়ানমারের যোদ্ধারা</td>\n",
              "      <td>মিয়ানমারে সেনা অভ্যুত্থানের ফলে হাজার হাজার মা...</td>\n",
              "      <td>0</td>\n",
              "    </tr>\n",
              "    <tr>\n",
              "      <th>2</th>\n",
              "      <td>যে শাস্তি হতে পারে সাকিবের</td>\n",
              "      <td>সাকিবের এমন অস্বাভাবিক আচরণের ঘটনাটি খতিয়ে দেখ...</td>\n",
              "      <td>0</td>\n",
              "    </tr>\n",
              "    <tr>\n",
              "      <th>3</th>\n",
              "      <td>বিয়ে করেছেন রেলমন্ত্রী সুজন</td>\n",
              "      <td>গত ৫ জুন বিয়ে করেছেন রেলমন্ত্রী নুরুল ইসলাম সু...</td>\n",
              "      <td>0</td>\n",
              "    </tr>\n",
              "    <tr>\n",
              "      <th>4</th>\n",
              "      <td>আরও বাড়ল শিক্ষাপ্রতিষ্ঠানের ছুটি</td>\n",
              "      <td>দেশের বিভিন্ন অঞ্চলে করোনা পরিস্থিতি অবনতি হওয...</td>\n",
              "      <td>0</td>\n",
              "    </tr>\n",
              "  </tbody>\n",
              "</table>\n",
              "</div>"
            ],
            "text/plain": [
              "                                               title  ... label\n",
              "0  শিক্ষকতার ন্যূনতম যোগ্যতা নেই রাবিতে নিয়োগ পাও...  ...     0\n",
              "1            ভারতে দলে দলে ঢুকছে মিয়ানমারের যোদ্ধারা  ...     0\n",
              "2                         যে শাস্তি হতে পারে সাকিবের  ...     0\n",
              "3                        বিয়ে করেছেন রেলমন্ত্রী সুজন  ...     0\n",
              "4                   আরও বাড়ল শিক্ষাপ্রতিষ্ঠানের ছুটি  ...     0\n",
              "\n",
              "[5 rows x 3 columns]"
            ]
          },
          "metadata": {},
          "execution_count": 28
        }
      ]
    },
    {
      "cell_type": "code",
      "metadata": {
        "colab": {
          "base_uri": "https://localhost:8080/"
        },
        "id": "KU-G8j-Kcz37",
        "outputId": "0e80c9fd-8041-41e7-e477-d8c8f456a830"
      },
      "source": [
        "collections.Counter(all_combined['label'])"
      ],
      "execution_count": null,
      "outputs": [
        {
          "output_type": "execute_result",
          "data": {
            "text/plain": [
              "Counter({0: 27738, 1: 987})"
            ]
          },
          "metadata": {},
          "execution_count": 42
        }
      ]
    },
    {
      "cell_type": "code",
      "metadata": {
        "id": "DtMxZ6C0Azle",
        "colab": {
          "base_uri": "https://localhost:8080/",
          "height": 311
        },
        "outputId": "93f263c3-99fd-46cc-f529-127944bfda40"
      },
      "source": [
        "!pip install gensim==4.0.0"
      ],
      "execution_count": null,
      "outputs": [
        {
          "output_type": "stream",
          "name": "stdout",
          "text": [
            "Collecting gensim==4.0.0\n",
            "  Downloading gensim-4.0.0-cp37-cp37m-manylinux1_x86_64.whl (23.9 MB)\n",
            "\u001b[K     |████████████████████████████████| 23.9 MB 1.6 MB/s \n",
            "\u001b[?25hRequirement already satisfied: smart-open>=1.8.1 in /usr/local/lib/python3.7/dist-packages (from gensim==4.0.0) (5.2.1)\n",
            "Requirement already satisfied: scipy>=0.18.1 in /usr/local/lib/python3.7/dist-packages (from gensim==4.0.0) (1.4.1)\n",
            "Requirement already satisfied: numpy>=1.11.3 in /usr/local/lib/python3.7/dist-packages (from gensim==4.0.0) (1.19.5)\n",
            "Installing collected packages: gensim\n",
            "  Attempting uninstall: gensim\n",
            "    Found existing installation: gensim 3.6.0\n",
            "    Uninstalling gensim-3.6.0:\n",
            "      Successfully uninstalled gensim-3.6.0\n",
            "Successfully installed gensim-4.0.0\n"
          ]
        },
        {
          "output_type": "display_data",
          "data": {
            "application/vnd.colab-display-data+json": {
              "pip_warning": {
                "packages": [
                  "gensim"
                ]
              }
            }
          },
          "metadata": {}
        }
      ]
    },
    {
      "cell_type": "code",
      "metadata": {
        "colab": {
          "base_uri": "https://localhost:8080/",
          "height": 90
        },
        "id": "WWDSPdZzlXO9",
        "outputId": "29ee8483-1e85-447b-bb12-81685288e733"
      },
      "source": [
        "import gensim\n",
        "gensim.__version__"
      ],
      "execution_count": null,
      "outputs": [
        {
          "output_type": "stream",
          "name": "stderr",
          "text": [
            "/usr/local/lib/python3.7/dist-packages/gensim/similarities/__init__.py:15: UserWarning: The gensim.similarities.levenshtein submodule is disabled, because the optional Levenshtein package <https://pypi.org/project/python-Levenshtein/> is unavailable. Install Levenhstein (e.g. `pip install python-Levenshtein`) to suppress this warning.\n",
            "  warnings.warn(msg)\n"
          ]
        },
        {
          "output_type": "execute_result",
          "data": {
            "application/vnd.google.colaboratory.intrinsic+json": {
              "type": "string"
            },
            "text/plain": [
              "'4.0.0'"
            ]
          },
          "metadata": {},
          "execution_count": 29
        }
      ]
    },
    {
      "cell_type": "markdown",
      "metadata": {
        "id": "YQLT5RYIxbTR"
      },
      "source": [
        "# word-embedding (pre-trained + self-trained)"
      ]
    },
    {
      "cell_type": "markdown",
      "metadata": {
        "id": "r8JZEwzrxjSG"
      },
      "source": [
        "## word2vec"
      ]
    },
    {
      "cell_type": "code",
      "metadata": {
        "id": "efHVxPVHzfc3"
      },
      "source": [
        "from gensim.models import KeyedVectors\n",
        "wv_bangla = KeyedVectors.load_word2vec_format(\"/content/drive/MyDrive/machine_learning/bnwiki_word2vec.vector\")"
      ],
      "execution_count": null,
      "outputs": []
    },
    {
      "cell_type": "code",
      "metadata": {
        "colab": {
          "base_uri": "https://localhost:8080/"
        },
        "id": "0HIO2DPz4WnY",
        "outputId": "b06d11eb-9683-4c3e-c7dc-930724f50cff"
      },
      "source": [
        "wv_bangla.index_to_key[:5]"
      ],
      "execution_count": null,
      "outputs": [
        {
          "output_type": "execute_result",
          "data": {
            "text/plain": [
              "['।', ',', 'এবং', 'ও', 'হয়']"
            ]
          },
          "metadata": {},
          "execution_count": 31
        }
      ]
    },
    {
      "cell_type": "markdown",
      "metadata": {
        "id": "ban9QWuq5oSt"
      },
      "source": [
        "## fasttext"
      ]
    },
    {
      "cell_type": "code",
      "metadata": {
        "id": "qvSeFdzc5nmH"
      },
      "source": [
        "from gensim.models.fasttext import load_facebook_model\n",
        "ft_bangla =load_facebook_model(\"/content/drive/MyDrive/machine_learning/bengali_fasttext_wiki.bin\",\n",
        "                                              encoding='utf-8')"
      ],
      "execution_count": null,
      "outputs": []
    },
    {
      "cell_type": "code",
      "metadata": {
        "id": "zwyVEGPFdg0o"
      },
      "source": [
        "ft_wv=ft_bangla.wv\n",
        "del ft_bangla"
      ],
      "execution_count": null,
      "outputs": []
    },
    {
      "cell_type": "code",
      "metadata": {
        "colab": {
          "base_uri": "https://localhost:8080/"
        },
        "id": "Heq6vIm4dmgc",
        "outputId": "a271c568-a1a5-466f-9a9e-cb56736ff048"
      },
      "source": [
        "ft_wv.index_to_key"
      ],
      "execution_count": null,
      "outputs": [
        {
          "output_type": "execute_result",
          "data": {
            "text/plain": [
              "['</s>',\n",
              " 'এবং',\n",
              " 'ও',\n",
              " 'তিনি',\n",
              " 'একটি',\n",
              " 'এই',\n",
              " 'তার',\n",
              " 'হয়।',\n",
              " 'থেকে',\n",
              " 'করা',\n",
              " 'সালে',\n",
              " 'করে',\n",
              " 'এর',\n",
              " 'করেন।',\n",
              " 'জন্য',\n",
              " 'মধ্যে',\n",
              " 'করে।',\n",
              " 'হিসেবে',\n",
              " 'সালের',\n",
              " 'বা',\n",
              " 'হয়',\n",
              " 'সাথে',\n",
              " 'এ',\n",
              " 'হয়ে',\n",
              " 'এটি',\n",
              " 'প্রথম',\n",
              " 'যা',\n",
              " 'ছিল',\n",
              " 'তাদের',\n",
              " 'করতে',\n",
              " 'একজন',\n",
              " 'করেন',\n",
              " 'যে',\n",
              " 'এক',\n",
              " 'পর',\n",
              " 'করার',\n",
              " 'নিয়ে',\n",
              " 'হল',\n",
              " 'শুরু',\n",
              " 'বছর',\n",
              " 'সময়',\n",
              " 'বিভিন্ন',\n",
              " 'পর্যন্ত',\n",
              " 'যায়।',\n",
              " 'তাকে',\n",
              " 'হন।',\n",
              " '।',\n",
              " 'কিছু',\n",
              " 'কিন্তু',\n",
              " 'তারা',\n",
              " 'ছিলেন',\n",
              " 'ভারতের',\n",
              " 'নাম',\n",
              " 'ছিলেন।',\n",
              " 'ছিল।',\n",
              " 'দিয়ে',\n",
              " 'দ্বারা',\n",
              " 'প্রধান',\n",
              " 'হতে',\n",
              " 'প্রায়',\n",
              " 'ব্যবহার',\n",
              " 'জাতীয়',\n",
              " 'কাজ',\n",
              " 'নামে',\n",
              " 'লাভ',\n",
              " 'মাধ্যমে',\n",
              " 'জেলার',\n",
              " 'হয়েছে।',\n",
              " 'কোন',\n",
              " 'থাকে।',\n",
              " 'অনেক',\n",
              " 'রয়েছে।',\n",
              " '()',\n",
              " 'দলের',\n",
              " 'বলে',\n",
              " 'তবে',\n",
              " 'বাংলাদেশের',\n",
              " 'যার',\n",
              " 'অংশ',\n",
              " 'উপর',\n",
              " 'না',\n",
              " 'অন্যান্য',\n",
              " ',',\n",
              " 'হিসাবে',\n",
              " 'দেখা',\n",
              " 'হার',\n",
              " '-',\n",
              " 'জন',\n",
              " 'পরে',\n",
              " 'ক্রিকেট',\n",
              " 'হয়,',\n",
              " 'যায়',\n",
              " 'দক্ষিণ',\n",
              " 'দ্বিতীয়',\n",
              " 'আর',\n",
              " 'দিকে',\n",
              " 'তা',\n",
              " 'চলচ্চিত্র',\n",
              " 'ফলে',\n",
              " 'হয়েছিল।',\n",
              " 'অভিনয়',\n",
              " 'সঙ্গে',\n",
              " 'দুই',\n",
              " 'না।',\n",
              " 'ভারতীয়',\n",
              " 'আন্তর্জাতিক',\n",
              " 'বাংলাদেশ',\n",
              " 'তৈরি',\n",
              " 'পাওয়া',\n",
              " 'সাল',\n",
              " 'নতুন',\n",
              " 'করেছেন।',\n",
              " 'বলা',\n",
              " 'সেই',\n",
              " 'দল',\n",
              " 'শেষ',\n",
              " 'বেশি',\n",
              " 'শহরের',\n",
              " 'কাছে',\n",
              " 'এখানে',\n",
              " 'কারণে',\n",
              " 'সে',\n",
              " 'মার্কিন',\n",
              " 'রয়েছে',\n",
              " 'বড়',\n",
              " 'অবস্থিত।',\n",
              " 'করেছিলেন।',\n",
              " 'অন্যতম',\n",
              " 'উত্তর',\n",
              " 'হচ্ছে',\n",
              " 'পারে।',\n",
              " 'পুরস্কার',\n",
              " 'বর্তমানে',\n",
              " 'অবস্থিত',\n",
              " 'যে,',\n",
              " 'যেখানে',\n",
              " 'প্রতি',\n",
              " 'সদস্য',\n",
              " 'সবচেয়ে',\n",
              " 'বিপক্ষে',\n",
              " 'একই',\n",
              " 'যখন',\n",
              " 'তখন',\n",
              " 'পালন',\n",
              " 'দায়িত্ব',\n",
              " 'ধরনের',\n",
              " 'উপজেলার',\n",
              " 'পূর্ব',\n",
              " 'ইউনিয়ন',\n",
              " 'সাক্ষরতার',\n",
              " 'সময়ে',\n",
              " 'অনুষ্ঠিত',\n",
              " 'প্রদান',\n",
              " 'বেশ',\n",
              " 'বিশেষ',\n",
              " 'গ্রহণ',\n",
              " 'অর্জন',\n",
              " 'সাধারণ',\n",
              " 'তিনি।',\n",
              " ')',\n",
              " 'এরপর',\n",
              " 'ক্ষেত্রে',\n",
              " 'খেলায়',\n",
              " 'প্রকাশ',\n",
              " 'দুটি',\n",
              " '\"',\n",
              " 'ব্যবহৃত',\n",
              " 'আছে।',\n",
              " 'কোনো',\n",
              " 'সরকার',\n",
              " 'কথা',\n",
              " '(',\n",
              " 'হয়েছে',\n",
              " 'দেন।',\n",
              " 'অব',\n",
              " 'টি',\n",
              " 'বাংলা',\n",
              " 'করে,',\n",
              " 'ইউনিয়নের',\n",
              " 'রাজ্যের',\n",
              " 'নামক',\n",
              " 'কারণ',\n",
              " 'মনে',\n",
              " 'দেওয়া',\n",
              " 'পূর্বে',\n",
              " 'আরও',\n",
              " 'ছোট',\n",
              " 'কর্তৃক',\n",
              " 'মত',\n",
              " 'যিনি',\n",
              " 'মোট',\n",
              " 'যদিও',\n",
              " 'রান',\n",
              " 'হওয়ার',\n",
              " 'ব্রিটিশ',\n",
              " 'গড়ে',\n",
              " 'মূল',\n",
              " 'শিক্ষা',\n",
              " 'প্রকাশিত',\n",
              " 'এছাড়াও',\n",
              " 'করেছেন',\n",
              " 'মতো',\n",
              " 'সকল',\n",
              " 'পরবর্তীতে',\n",
              " 'কম',\n",
              " 'বিরুদ্ধে',\n",
              " 'থাকে',\n",
              " 'যেমন',\n",
              " 'দেশের',\n",
              " 'অন্য',\n",
              " 'তারিখে',\n",
              " 'নির্বাচিত',\n",
              " 'পক্ষে',\n",
              " 'দ্য',\n",
              " 'হন',\n",
              " 'সেখানে',\n",
              " 'অফ',\n",
              " 'সংখ্যা',\n",
              " 'এদের',\n",
              " 'করেন,',\n",
              " 'ঐ',\n",
              " 'সাধারণত',\n",
              " 'জন্মগ্রহণ',\n",
              " 'আগে',\n",
              " 'দেয়।',\n",
              " 'এছাড়া',\n",
              " 'পরিচিত',\n",
              " 'হলে',\n",
              " 'উচ্চ',\n",
              " 'নারী',\n",
              " 'চলে',\n",
              " 'গুরুত্বপূর্ণ',\n",
              " 'অথবা',\n",
              " 'ঘোষণা',\n",
              " 'ধরে',\n",
              " 'পুরুষ',\n",
              " 'প্রতিষ্ঠিত',\n",
              " 'দেয়া',\n",
              " 'খুব',\n",
              " 'উল্লেখ',\n",
              " 'অনুযায়ী',\n",
              " 'আছে',\n",
              " 'তিন',\n",
              " 'এমন',\n",
              " 'ভাষা',\n",
              " 'বিশ্ববিদ্যালয়',\n",
              " 'ঢাকা',\n",
              " 'অঞ্চলে',\n",
              " 'তিনটি',\n",
              " 'ক্রিকেটে',\n",
              " 'চলচ্চিত্রে',\n",
              " 'যোগ',\n",
              " 'অনুসারে',\n",
              " 'অবস্থান',\n",
              " 'ভারত',\n",
              " '১',\n",
              " 'পারে',\n",
              " 'পরিচালনা',\n",
              " '২০১১',\n",
              " 'বছরের',\n",
              " 'অর্থ',\n",
              " 'হয়েছিল',\n",
              " 'অংশগ্রহণ',\n",
              " 'করেছে।',\n",
              " 'স্থান',\n",
              " 'খ্রিষ্টাব্দে',\n",
              " 'এতে',\n",
              " 'জেলা',\n",
              " 'হলো',\n",
              " 'সম্পর্কে',\n",
              " 'নির্মাণ',\n",
              " 'আবার',\n",
              " 'প্রাচীন',\n",
              " 'যান।',\n",
              " 'মূলত',\n",
              " 'টেস্ট',\n",
              " 'মধ্য',\n",
              " 'জনসংখ্যা',\n",
              " 'পরিচালিত',\n",
              " 'মাত্র',\n",
              " 'সব',\n",
              " 'অঞ্চলের',\n",
              " 'কলেজ',\n",
              " '.',\n",
              " 'দলে',\n",
              " 'শহর',\n",
              " '৬',\n",
              " 'কয়েকটি',\n",
              " 'মানুষের',\n",
              " 'বর্তমান',\n",
              " 'তাই',\n",
              " 'খেলার',\n",
              " 'যেতে',\n",
              " 'পাশাপাশি',\n",
              " 'নির্মিত',\n",
              " 'পশ্চিম',\n",
              " 'বিষয়ে',\n",
              " 'স্থানীয়',\n",
              " 'যুক্ত',\n",
              " 'সর্বোচ্চ',\n",
              " 'জন্ম',\n",
              " 'সৃষ্টি',\n",
              " 'রাজা',\n",
              " 'হবে।',\n",
              " 'মাসে',\n",
              " 'আরো',\n",
              " 'ভাষায়',\n",
              " 'রাজনৈতিক',\n",
              " 'এলাকায়',\n",
              " 'বিখ্যাত',\n",
              " 'তৃতীয়',\n",
              " 'সেরা',\n",
              " 'পায়।',\n",
              " 'নদীর',\n",
              " 'পরবর্তী',\n",
              " 'পাকিস্তান',\n",
              " 'যুদ্ধ',\n",
              " 'হলেন',\n",
              " 'অন্তর্ভুক্ত',\n",
              " 'নদী',\n",
              " 'বিশ্বের',\n",
              " 'জনপ্রিয়',\n",
              " 'নিজের',\n",
              " 'যারা',\n",
              " 'ফিরে',\n",
              " 'পরিচিত।',\n",
              " 'ব্যবস্থা',\n",
              " 'বয়সে',\n",
              " 'বিভাগে',\n",
              " 'মৌসুমে',\n",
              " 'কে',\n",
              " '২',\n",
              " 'বিশ্ববিদ্যালয়ের',\n",
              " 'সরকারের',\n",
              " 'পান।',\n",
              " 'সহ',\n",
              " 'দিন',\n",
              " 'প্রাথমিক',\n",
              " 'যদি',\n",
              " '১০',\n",
              " 'মার্চ',\n",
              " 'আধুনিক',\n",
              " 'হবে',\n",
              " 'খান',\n",
              " 'গঠন',\n",
              " 'সালে,',\n",
              " 'ঘটে।',\n",
              " '২০০১',\n",
              " 'ভূমিকা',\n",
              " 'তাঁর',\n",
              " 'জন।',\n",
              " 'মে',\n",
              " 'যুদ্ধে',\n",
              " 'উল্লেখযোগ্য',\n",
              " 'প্রতিষ্ঠা',\n",
              " 'চরিত্রে',\n",
              " 'পরাজিত',\n",
              " 'করেছিলেন',\n",
              " 'থেকেই',\n",
              " 'স্থানে',\n",
              " '২০১৪',\n",
              " 'চালু',\n",
              " 'এটা',\n",
              " 'নেন।',\n",
              " 'সামরিক',\n",
              " 'মুক্তি',\n",
              " 'তথ্য',\n",
              " 'স্বাধীনতা',\n",
              " 'মুসলিম',\n",
              " 'মানুষ',\n",
              " 'মহিলা',\n",
              " 'কেন্দ্র',\n",
              " 'বিভাগের',\n",
              " 'হলেও',\n",
              " 'উইকেট',\n",
              " '২০১২',\n",
              " 'গঠিত',\n",
              " 'জনসংখ্যার',\n",
              " 'পরিবর্তন',\n",
              " 'টেস্টে',\n",
              " 'যাতে',\n",
              " 'গান',\n",
              " 'নামের',\n",
              " 'সারা',\n",
              " 'সদর',\n",
              " 'সরকারি',\n",
              " 'করেছিল।',\n",
              " 'থাকেন।',\n",
              " 'চলচ্চিত্রের',\n",
              " 'যায়,',\n",
              " 'শহরে',\n",
              " 'রাজধানী',\n",
              " 'ডিসেম্বর',\n",
              " 'আক্রমণ',\n",
              " 'অভিষেক',\n",
              " 'পরিণত',\n",
              " 'ভাষার',\n",
              " '৩',\n",
              " 'একে',\n",
              " 'যুদ্ধের',\n",
              " 'মাঝে',\n",
              " '২০১৩',\n",
              " 'মৃত্যুর',\n",
              " 'অধীনে',\n",
              " 'এলাকা',\n",
              " 'স্থাপন',\n",
              " 'সুযোগ',\n",
              " 'অঞ্চল',\n",
              " '৫',\n",
              " 'প্রথম-শ্রেণীর',\n",
              " '২০১০',\n",
              " 'রাখা',\n",
              " 'এপ্রিল',\n",
              " 'জুলাই',\n",
              " 'বৃদ্ধি',\n",
              " 'আইন',\n",
              " 'করতেন।',\n",
              " 'একমাত্র',\n",
              " 'জীবন',\n",
              " 'জুন',\n",
              " '\"দ্য',\n",
              " 'যুক্তরাষ্ট্রের',\n",
              " '২০১৫',\n",
              " 'স্কুল',\n",
              " 'অবস্থায়',\n",
              " 'নিউ',\n",
              " 'হাজার',\n",
              " 'লেখা',\n",
              " 'সময়ের',\n",
              " 'শ্রেষ্ঠ',\n",
              " 'ভাবে',\n",
              " 'গবেষণা',\n",
              " 'দিতে',\n",
              " 'জয়',\n",
              " 'রাজ্য',\n",
              " '২০০৮',\n",
              " 'সম্পর্ক',\n",
              " 'ধারণা',\n",
              " 'হিন্দু',\n",
              " 'চার',\n",
              " 'হাতে',\n",
              " 'বিদ্যালয়',\n",
              " 'পাকিস্তানের',\n",
              " 'ভারতে',\n",
              " 'খেলা',\n",
              " 'অক্টোবর',\n",
              " 'ওপর',\n",
              " 'এরা',\n",
              " 'প্রভাব',\n",
              " '১৫',\n",
              " '২০',\n",
              " 'নির্দিষ্ট',\n",
              " 'পরিবারের',\n",
              " 'একটা',\n",
              " 'কিলোমিটার',\n",
              " '\"\"',\n",
              " 'বিশ্ব',\n",
              " 'ফুটবল',\n",
              " 'জানা',\n",
              " 'নভেম্বর',\n",
              " '২০১৬',\n",
              " 'হওয়া',\n",
              " 'উভয়',\n",
              " 'অন্তর্গত',\n",
              " 'দেন',\n",
              " 'তুলে',\n",
              " 'রচনা',\n",
              " '২০০৯',\n",
              " 'সামাজিক',\n",
              " 'চেষ্টা',\n",
              " '২০১৮',\n",
              " 'প্রশাসনিক',\n",
              " 'সংসদ',\n",
              " 'মারা',\n",
              " 'দেশে',\n",
              " 'চেয়ে',\n",
              " 'যেটি',\n",
              " 'কেন্দ্রীয়',\n",
              " 'সেপ্টেম্বর',\n",
              " 'তৎকালীন',\n",
              " 'মিটার',\n",
              " '৪',\n",
              " 'ভাগ',\n",
              " 'জানুয়ারি',\n",
              " 'ছিল,',\n",
              " 'এখন',\n",
              " 'ভিত্তি',\n",
              " 'করলে',\n",
              " 'থাকা',\n",
              " 'ধর্মীয়',\n",
              " 'সম্পন্ন',\n",
              " 'মিলিয়ন',\n",
              " 'অধিকাংশ',\n",
              " 'বিমান',\n",
              " '২০০৬',\n",
              " 'সমস্ত',\n",
              " 'দক্ষিণে',\n",
              " 'নারীদের',\n",
              " 'দিক',\n",
              " 'ইত্যাদি',\n",
              " 'বর্ণনা',\n",
              " 'বহু',\n",
              " 'আগস্ট',\n",
              " 'পরিচালক',\n",
              " 'দেশ',\n",
              " 'পর্যায়ে',\n",
              " 'কলকাতা',\n",
              " 'জন্যে',\n",
              " '২০০৭',\n",
              " 'উন্নয়ন',\n",
              " 'দুইটি',\n",
              " '১২',\n",
              " 'পুত্র',\n",
              " 'জীবনের',\n",
              " 'ঘটে',\n",
              " 'হত।',\n",
              " 'এসে',\n",
              " 'ইসলাম',\n",
              " 'ক্ষমতা',\n",
              " 'বলতে',\n",
              " '(;',\n",
              " 'বিশ্বাস',\n",
              " 'ইংল্যান্ড',\n",
              " 'তৈরী',\n",
              " 'চারটি',\n",
              " 'নয়।',\n",
              " 'সঙ্গীত',\n",
              " '১৯৭১',\n",
              " 'বিশিষ্ট',\n",
              " 'নামকরণ',\n",
              " 'উত্তরে',\n",
              " 'অধিক',\n",
              " 'গিয়ে',\n",
              " 'সাবেক',\n",
              " 'কয়েক',\n",
              " 'প্রতিটি',\n",
              " 'নেয়।',\n",
              " 'সিদ্ধান্ত',\n",
              " 'দখল',\n",
              " 'সক্ষম',\n",
              " 'উপজেলা',\n",
              " 'ডিগ্রি',\n",
              " 'কার্যক্রম',\n",
              " '২০১৭',\n",
              " 'আলী',\n",
              " 'গড়',\n",
              " ':',\n",
              " 'দশকে',\n",
              " 'রচিত',\n",
              " 'বসবাস',\n",
              " 'পিতা',\n",
              " 'ব্যাপক',\n",
              " 'সম্পূর্ণ',\n",
              " 'হত্যা',\n",
              " 'দেখতে',\n",
              " '৩০',\n",
              " 'বিয়ে',\n",
              " 'সাহায্য',\n",
              " 'পৃথিবীর',\n",
              " 'কাজে',\n",
              " 'দেয়',\n",
              " 'প্রবেশ',\n",
              " 'ফেব্রুয়ারি',\n",
              " 'পড়ে',\n",
              " 'চট্টগ্রাম',\n",
              " 'পশ্চিমে',\n",
              " 'প্রচলিত',\n",
              " 'ঐতিহাসিক',\n",
              " 'আসে।',\n",
              " 'বন্ধ',\n",
              " 'ইংরেজ',\n",
              " 'বাহিনী',\n",
              " 'সমগ্র',\n",
              " 'শতাব্দীর',\n",
              " 'অর্থাৎ',\n",
              " 'বৃহত্তম',\n",
              " 'নির্বাচনে',\n",
              " 'বাংলাদেশে',\n",
              " 'পুনরায়',\n",
              " 'প্রতিযোগিতায়',\n",
              " 'বাস',\n",
              " 'নিযুক্ত',\n",
              " 'স্ত্রী',\n",
              " 'শুধুমাত্র',\n",
              " 'ব্যক্তি',\n",
              " 'ওয়েস্ট',\n",
              " 'অ্যান্ড',\n",
              " '৮',\n",
              " 'প্রতিনিধিত্ব',\n",
              " 'ভাই',\n",
              " 'অধিকার',\n",
              " 'পুরুষদের',\n",
              " 'শব্দ',\n",
              " 'তুলনায়',\n",
              " 'আল',\n",
              " 'অত্যন্ত',\n",
              " 'ভিন্ন',\n",
              " 'ইংরেজি',\n",
              " 'পাঁচ',\n",
              " 'বই',\n",
              " '৭',\n",
              " 'ইংল্যান্ডের',\n",
              " 'সংগ্রহ',\n",
              " 'ইবনে',\n",
              " 'শতকের',\n",
              " 'টেলিভিশন',\n",
              " 'শেষে',\n",
              " 'চলচ্চিত্রটি',\n",
              " 'এলাকার',\n",
              " 'নিজস্ব',\n",
              " 'বেশি।',\n",
              " 'কাজের',\n",
              " 'প্রজাতির',\n",
              " 'শক্তি',\n",
              " 'বের',\n",
              " 'পানি',\n",
              " 'ক্লাব',\n",
              " 'পড়ে।',\n",
              " 'বিজ্ঞান',\n",
              " '১৪',\n",
              " 'নির্দেশ',\n",
              " 'আরব',\n",
              " 'দীর্ঘ',\n",
              " 'বাইরে',\n",
              " 'আলাদা',\n",
              " 'বোলিং',\n",
              " 'পরিমাণ',\n",
              " '১১',\n",
              " 'পরিকল্পনা',\n",
              " 'বাহিনীর',\n",
              " 'বাবা',\n",
              " 'না,',\n",
              " 'জীবনে',\n",
              " 'খেলোয়াড়',\n",
              " 'অস্ট্রেলিয়া',\n",
              " 'একাধিক',\n",
              " 'অর্থনৈতিক',\n",
              " '১৬',\n",
              " 'দ্রুত',\n",
              " 'শব্দটি',\n",
              " 'মাধ্যমিক',\n",
              " 'গ্রামে',\n",
              " 'প্রথমে',\n",
              " 'মনোনীত',\n",
              " 'সোভিয়েত',\n",
              " 'রাষ্ট্রপতি',\n",
              " 'পরবর্তীকালে',\n",
              " 'একক',\n",
              " 'জেলায়',\n",
              " 'উদ্দেশ্যে',\n",
              " 'ছবি',\n",
              " 'প্রদেশের',\n",
              " 'সহায়তা',\n",
              " '১৮',\n",
              " 'নিজ',\n",
              " 'জার্মান',\n",
              " '২৫',\n",
              " 'কোনও',\n",
              " 'অভিনয়ের',\n",
              " 'রহমান',\n",
              " 'ধরা',\n",
              " 'কিংবা',\n",
              " 'পদ্ধতি',\n",
              " 'সাম্রাজ্যের',\n",
              " 'বাংলার',\n",
              " 'অস্ট্রেলিয়ার',\n",
              " 'মা',\n",
              " 'লক্ষ্য',\n",
              " 'ব্যক্তিগত',\n",
              " 'শিল্প',\n",
              " 'নং',\n",
              " 'ছিলো',\n",
              " 'কেউ',\n",
              " 'ভর্তি',\n",
              " 'প্রতিষ্ঠান',\n",
              " 'বৌদ্ধ',\n",
              " 'মন্দির',\n",
              " 'সংযুক্ত',\n",
              " '২০০৫',\n",
              " 'সংস্থা',\n",
              " 'কাছ',\n",
              " 'তারপর',\n",
              " 'বিভাগ',\n",
              " 'রেল',\n",
              " 'আয়তন',\n",
              " 'রেকর্ড',\n",
              " 'আসেন।',\n",
              " 'নিকট',\n",
              " 'মতে',\n",
              " 'হয়েছে,',\n",
              " 'গ্রাম',\n",
              " 'যোগাযোগ',\n",
              " 'নেই।',\n",
              " 'জুড়ে',\n",
              " 'স্বাধীন',\n",
              " '১৯',\n",
              " '–',\n",
              " 'পদে',\n",
              " 'ধীরে',\n",
              " '(জন্ম:',\n",
              " 'আমি',\n",
              " 'বেশিরভাগ',\n",
              " '২০০৪',\n",
              " 'অভিনেতা',\n",
              " 'উচ্চতা',\n",
              " 'বিষয়',\n",
              " 'জন্ম:',\n",
              " 'পরিবার',\n",
              " 'মাস',\n",
              " 'যাওয়ার',\n",
              " 'দশকের',\n",
              " 'সরাসরি',\n",
              " 'হবার',\n",
              " 'শহর।',\n",
              " 'চতুর্থ',\n",
              " 'পুলিশ',\n",
              " 'পায়',\n",
              " 'প্রাকৃতিক',\n",
              " 'আমেরিকান',\n",
              " 'প্রাপ্ত',\n",
              " 'ইতিহাস',\n",
              " 'তে',\n",
              " 'অধ্যাপক',\n",
              " 'ছাড়া',\n",
              " 'প্রস্তাব',\n",
              " '৯',\n",
              " 'অভিনেত্রী',\n",
              " 'থাকার',\n",
              " 'প্রমাণ',\n",
              " 'কেবল',\n",
              " 'নিতে',\n",
              " 'ঘটনা',\n",
              " '১৩',\n",
              " 'সমর্থন',\n",
              " '২৪',\n",
              " 'নিজেকে',\n",
              " 'মৃত্যু',\n",
              " 'নিজেদের',\n",
              " 'মুহাম্মদ',\n",
              " 'মতে,',\n",
              " 'ছবিতে',\n",
              " 'কলেজে',\n",
              " 'লক্ষ',\n",
              " 'নেতৃত্বে',\n",
              " 'স্নাতক',\n",
              " 'তবে,',\n",
              " 'লোক',\n",
              " 'মাসের',\n",
              " 'বিশ্ববিদ্যালয়ে',\n",
              " 'এছাড়াও,',\n",
              " 'যাত্রা',\n",
              " 'বলেন',\n",
              " 'রেলওয়ে',\n",
              " 'পরের',\n",
              " 'থাকতে',\n",
              " 'চিহ্নিত',\n",
              " '|',\n",
              " 'বাংলাদেশী',\n",
              " 'নানা',\n",
              " 'অংশে',\n",
              " 'হয়নি।',\n",
              " '১৭',\n",
              " 'স্টেশন',\n",
              " 'কম্পিউটার',\n",
              " 'হয়েছিলেন।',\n",
              " 'সন্তান',\n",
              " 'সেনাবাহিনীর',\n",
              " 'গানের',\n",
              " 'পান',\n",
              " 'বিশাল',\n",
              " 'ভূমিকায়',\n",
              " 'কংগ্রেসের',\n",
              " 'বলেন,',\n",
              " 'আন্দোলনের',\n",
              " 'দাবি',\n",
              " 'মান',\n",
              " 'সর্বাধিক',\n",
              " 'বর্গ',\n",
              " 'যান',\n",
              " 'করেছে',\n",
              " 'মোহাম্মদ',\n",
              " 'সম্রাট',\n",
              " 'শিক্ষক',\n",
              " 'শুধু',\n",
              " 'ছাত্র',\n",
              " 'লেখক',\n",
              " 'ছবিটি',\n",
              " 'কোটি',\n",
              " '২০০০',\n",
              " 'পাকিস্তানি',\n",
              " 'এমনকি',\n",
              " 'ধর্ম',\n",
              " 'নিয়ন্ত্রণ',\n",
              " 'নয়',\n",
              " 'আরেকটি',\n",
              " 'পৃথক',\n",
              " 'গেছে।',\n",
              " 'শাহ',\n",
              " 'বিবেচনা',\n",
              " 'শেখ',\n",
              " 'নির্বাচন',\n",
              " 'ফরাসি',\n",
              " '২১',\n",
              " 'শিক্ষার',\n",
              " 'থাকে,',\n",
              " 'যৌন',\n",
              " '২০০৩',\n",
              " 'লাল',\n",
              " 'ছাড়াও',\n",
              " 'জেনারেল',\n",
              " 'সাদা',\n",
              " 'বলে।',\n",
              " 'প্রয়োজন',\n",
              " 'খুবই',\n",
              " 'ছেড়ে',\n",
              " 'ছড়িয়ে',\n",
              " 'সাহিত্য',\n",
              " 'চুক্তি',\n",
              " 'ইতিহাসে',\n",
              " 'করতেন',\n",
              " 'এটির',\n",
              " 'স্বীকৃতি',\n",
              " 'রেখে',\n",
              " 'সম্ভব',\n",
              " 'জন্মগ্রহণকারী',\n",
              " 'চীনের',\n",
              " 'করা।',\n",
              " 'লীগ',\n",
              " 'সম্পর্কিত',\n",
              " 'পিতার',\n",
              " 'উক্ত',\n",
              " 'সফল',\n",
              " 'রয়েছে,',\n",
              " 'যোগদান',\n",
              " 'সাংস্কৃতিক',\n",
              " 'আবু',\n",
              " 'হচ্ছে।',\n",
              " 'আদমশুমারি',\n",
              " 'রায়',\n",
              " 'দূরে',\n",
              " 'কালো',\n",
              " 'প্রচুর',\n",
              " 'চৌধুরী',\n",
              " 'বিবাহ',\n",
              " 'চাইতে',\n",
              " '২৩',\n",
              " 'এসব',\n",
              " 'নিয়মিত',\n",
              " 'যাওয়া',\n",
              " 'সিরিজের',\n",
              " 'উৎপাদন',\n",
              " 'পরিচয়',\n",
              " 'আফ্রিকার',\n",
              " 'হয়েছিল,',\n",
              " 'একদিনের',\n",
              " 'তথা',\n",
              " 'কখনও',\n",
              " '২০১৯',\n",
              " 'গ্রামের',\n",
              " 'আয়োজন',\n",
              " 'আসে',\n",
              " 'কখনো',\n",
              " 'বিজয়ী',\n",
              " 'চূড়ান্ত',\n",
              " 'পশ্চিমবঙ্গ',\n",
              " 'স্কুলে',\n",
              " 'কলকাতার',\n",
              " 'থানার',\n",
              " 'ইউরোপীয়',\n",
              " 'রানের',\n",
              " 'ব্যাখ্যা',\n",
              " 'ব্যাপারে',\n",
              " 'উপস্থিত',\n",
              " 'ঠিক',\n",
              " 'পরিচিতি',\n",
              " 'সংসদের',\n",
              " 'ব্যবহারের',\n",
              " 'ছয়',\n",
              " 'কি',\n",
              " 'সফরে',\n",
              " 'খেলেন।',\n",
              " 'প্রশিক্ষণ',\n",
              " 'জমিদার',\n",
              " 'বছরে',\n",
              " 'একাডেমি',\n",
              " 'প্রধানমন্ত্রী',\n",
              " 'পুরো',\n",
              " '২২',\n",
              " 'জন্য।',\n",
              " 'বয়স',\n",
              " 'দেওয়ার',\n",
              " 'আমার',\n",
              " 'যাদের',\n",
              " 'অবদান',\n",
              " 'কাউন্টি',\n",
              " 'বিভক্ত',\n",
              " 'পারে,',\n",
              " 'শাসন',\n",
              " 'উপরে',\n",
              " 'অবসর',\n",
              " 'ধারণ',\n",
              " 'প্রথমবারের',\n",
              " 'ইনিংসে',\n",
              " 'প্রদর্শন',\n",
              " 'তালিকা',\n",
              " 'শক্তিশালী',\n",
              " 'পাশে',\n",
              " 'কবি',\n",
              " 'নেতা',\n",
              " 'তালিকায়',\n",
              " 'বার',\n",
              " 'ব্যর্থ',\n",
              " 'কলেজের',\n",
              " '২০০২',\n",
              " 'করছেন।',\n",
              " 'নামেও',\n",
              " 'সম্ভবত',\n",
              " 'এটিকে',\n",
              " 'লীগের',\n",
              " '১৯৯৬',\n",
              " 'আক্রান্ত',\n",
              " 'সালে।',\n",
              " 'আবদুল',\n",
              " 'নিচে',\n",
              " 'ঘরোয়া',\n",
              " 'প্রভৃতি',\n",
              " 'পথ',\n",
              " 'দেখে',\n",
              " 'অতিরিক্ত',\n",
              " 'কোম্পানি',\n",
              " 'বিষয়ক',\n",
              " 'এখনও',\n",
              " 'ম্যাচ',\n",
              " 'খেলোয়াড়ী',\n",
              " 'আলোচনা',\n",
              " 'সর্বশেষ',\n",
              " 'ব্যাটসম্যান',\n",
              " 'গঠিত।',\n",
              " 'বিস্তৃত',\n",
              " 'পরিবর্তে',\n",
              " 'আমাদের',\n",
              " 'ঢাকার',\n",
              " 'নিহত',\n",
              " 'সরকারী',\n",
              " 'বাঙালি',\n",
              " 'বয়সী।',\n",
              " 'হাত',\n",
              " 'শুরুর',\n",
              " 'হতো।',\n",
              " 'রক্ষা',\n",
              " 'গোল',\n",
              " 'নিশ্চিত',\n",
              " 'ইউনিয়ন,',\n",
              " 'সভাপতি',\n",
              " 'পেয়ে',\n",
              " 'মৌলিক',\n",
              " 'এন্ড',\n",
              " 'বাধ্য',\n",
              " 'বিধানসভা',\n",
              " '২৬',\n",
              " 'মূলতঃ',\n",
              " 'পুরস্কারের',\n",
              " 'শহীদ',\n",
              " 'সড়ক',\n",
              " 'সামনে',\n",
              " 'পরীক্ষা',\n",
              " 'বাড়ি',\n",
              " 'আন্দোলন',\n",
              " 'বল',\n",
              " 'বৈজ্ঞানিক',\n",
              " 'দৈর্ঘ্য',\n",
              " 'করছে।',\n",
              " '১০০',\n",
              " 'প্রয়োগ',\n",
              " 'বাণিজ্যিক',\n",
              " 'মর্যাদা',\n",
              " '৫৯.৫%,',\n",
              " 'পূর্ণ',\n",
              " 'সম্পাদক',\n",
              " 'নিয়োগ',\n",
              " 'আফ্রিকা',\n",
              " 'পর,',\n",
              " 'মনোনয়ন',\n",
              " 'যুগের',\n",
              " 'পড়াশোনা',\n",
              " 'ডিগ্রী',\n",
              " 'শিশু',\n",
              " 'বৈশিষ্ট্য',\n",
              " 'হওয়ায়',\n",
              " 'নয়,',\n",
              " 'সমস্যা',\n",
              " 'মুক্ত',\n",
              " 'অতিক্রম',\n",
              " 'পাঁচটি',\n",
              " 'আমরা',\n",
              " 'ইসলামী',\n",
              " 'অপর',\n",
              " 'সম্প্রদায়ের',\n",
              " 'জড়িত',\n",
              " 'খ্রিষ্টাব্দের',\n",
              " ...]"
            ]
          },
          "metadata": {},
          "execution_count": 34
        }
      ]
    },
    {
      "cell_type": "markdown",
      "metadata": {
        "id": "AlrVstXP6I7s"
      },
      "source": [
        "## Glove"
      ]
    },
    {
      "cell_type": "code",
      "metadata": {
        "id": "jK3lFT9M6MIu"
      },
      "source": [
        "from gensim.scripts.glove2word2vec import glove2word2vec\n",
        "from gensim.test.utils import datapath, get_tmpfile\n",
        "glove_file = '/content/drive/MyDrive/machine_learning/bn_glove.39M.300d.txt'\n",
        "tmp_file = get_tmpfile('/content/drive/MyDrive/machine_learning/bn_glove_w2vec.39M.300d.txt')\n",
        "_ = glove2word2vec(glove_file, tmp_file)\n",
        "gv_bangla = KeyedVectors.load_word2vec_format(tmp_file)"
      ],
      "execution_count": null,
      "outputs": []
    },
    {
      "cell_type": "code",
      "metadata": {
        "id": "21M1Hl7LHBGd",
        "colab": {
          "base_uri": "https://localhost:8080/",
          "height": 592
        },
        "outputId": "548a7c0f-14b9-437e-c27a-66ef87e1d497"
      },
      "source": [
        "!pip install bnlp-toolkit"
      ],
      "execution_count": null,
      "outputs": [
        {
          "output_type": "stream",
          "name": "stdout",
          "text": [
            "Collecting bnlp-toolkit\n",
            "  Downloading bnlp_toolkit-3.1.2-py3-none-any.whl (17 kB)\n",
            "Collecting sentencepiece\n",
            "  Downloading sentencepiece-0.1.96-cp37-cp37m-manylinux_2_17_x86_64.manylinux2014_x86_64.whl (1.2 MB)\n",
            "\u001b[K     |████████████████████████████████| 1.2 MB 14.1 MB/s \n",
            "\u001b[?25hCollecting sklearn-crfsuite\n",
            "  Downloading sklearn_crfsuite-0.3.6-py2.py3-none-any.whl (12 kB)\n",
            "Requirement already satisfied: numpy in /usr/local/lib/python3.7/dist-packages (from bnlp-toolkit) (1.19.5)\n",
            "Collecting gensim==4.0.1\n",
            "  Downloading gensim-4.0.1-cp37-cp37m-manylinux1_x86_64.whl (23.9 MB)\n",
            "\u001b[K     |████████████████████████████████| 23.9 MB 1.5 MB/s \n",
            "\u001b[?25hRequirement already satisfied: nltk in /usr/local/lib/python3.7/dist-packages (from bnlp-toolkit) (3.2.5)\n",
            "Requirement already satisfied: scipy in /usr/local/lib/python3.7/dist-packages (from bnlp-toolkit) (1.4.1)\n",
            "Requirement already satisfied: wasabi in /usr/local/lib/python3.7/dist-packages (from bnlp-toolkit) (0.8.2)\n",
            "Requirement already satisfied: smart-open>=1.8.1 in /usr/local/lib/python3.7/dist-packages (from gensim==4.0.1->bnlp-toolkit) (5.2.1)\n",
            "Requirement already satisfied: six in /usr/local/lib/python3.7/dist-packages (from nltk->bnlp-toolkit) (1.15.0)\n",
            "Requirement already satisfied: tabulate in /usr/local/lib/python3.7/dist-packages (from sklearn-crfsuite->bnlp-toolkit) (0.8.9)\n",
            "Collecting python-crfsuite>=0.8.3\n",
            "  Downloading python_crfsuite-0.9.7-cp37-cp37m-manylinux1_x86_64.whl (743 kB)\n",
            "\u001b[K     |████████████████████████████████| 743 kB 37.8 MB/s \n",
            "\u001b[?25hRequirement already satisfied: tqdm>=2.0 in /usr/local/lib/python3.7/dist-packages (from sklearn-crfsuite->bnlp-toolkit) (4.62.3)\n",
            "Installing collected packages: python-crfsuite, sklearn-crfsuite, sentencepiece, gensim, bnlp-toolkit\n",
            "  Attempting uninstall: gensim\n",
            "    Found existing installation: gensim 4.0.0\n",
            "    Uninstalling gensim-4.0.0:\n",
            "      Successfully uninstalled gensim-4.0.0\n",
            "Successfully installed bnlp-toolkit-3.1.2 gensim-4.0.1 python-crfsuite-0.9.7 sentencepiece-0.1.96 sklearn-crfsuite-0.3.6\n"
          ]
        },
        {
          "output_type": "display_data",
          "data": {
            "application/vnd.colab-display-data+json": {
              "pip_warning": {
                "packages": [
                  "gensim"
                ]
              }
            }
          },
          "metadata": {}
        }
      ]
    },
    {
      "cell_type": "code",
      "metadata": {
        "colab": {
          "base_uri": "https://localhost:8080/"
        },
        "id": "0VfhaHDsw_kp",
        "outputId": "4f7e8263-a97f-4574-8db9-7663dc2413b6"
      },
      "source": [
        "from bnlp import BasicTokenizer\n",
        "basic_tokenizer = BasicTokenizer()"
      ],
      "execution_count": null,
      "outputs": [
        {
          "output_type": "stream",
          "name": "stdout",
          "text": [
            "punkt not found. downloading...\n",
            "[nltk_data] Downloading package punkt to /root/nltk_data...\n",
            "[nltk_data]   Unzipping tokenizers/punkt.zip.\n"
          ]
        }
      ]
    },
    {
      "cell_type": "markdown",
      "metadata": {
        "id": "35XxM3ECWxhb"
      },
      "source": [
        "## self trained we"
      ]
    },
    {
      "cell_type": "code",
      "metadata": {
        "id": "N3Ne6F5FWzQz"
      },
      "source": [
        "from gensim.models import Word2Vec\n",
        "def train_word_emb(tokens):\n",
        "  num_features = 300\n",
        "  min_word_count = 3\n",
        "  num_workers = 2\n",
        "  window_size = 6\n",
        "  subsampling = 1e-3\n",
        "  model = Word2Vec(\n",
        "          tokens,\n",
        "          workers=num_workers,\n",
        "          vector_size=num_features,\n",
        "          min_count=min_word_count,\n",
        "          window=window_size,\n",
        "          sample=subsampling)\n",
        "  \n",
        "  word_embed= model.wv\n",
        "  del model\n",
        "  return word_embed"
      ],
      "execution_count": null,
      "outputs": []
    },
    {
      "cell_type": "code",
      "metadata": {
        "id": "yGlRHHqnEj5O"
      },
      "source": [
        "st_wv = train_word_emb(banfake_authentic1[:len(banfake_authentic1.title)//2]\\\n",
        "                       .title.apply(lambda x: basic_tokenizer.tokenize(str(x))).values)"
      ],
      "execution_count": null,
      "outputs": []
    },
    {
      "cell_type": "code",
      "metadata": {
        "colab": {
          "base_uri": "https://localhost:8080/"
        },
        "id": "wPIKLOC3L7RW",
        "outputId": "41fc6152-ae0b-478e-88cb-e845c270f800"
      },
      "source": [
        "st_wv.index_to_key[:5]"
      ],
      "execution_count": null,
      "outputs": [
        {
          "output_type": "execute_result",
          "data": {
            "text/plain": [
              "[':', ',', '’', '-', '‘']"
            ]
          },
          "metadata": {},
          "execution_count": 41
        }
      ]
    },
    {
      "cell_type": "code",
      "metadata": {
        "id": "JUoQaykksNXN",
        "cellView": "form"
      },
      "source": [
        "#@title\n",
        "# Calculate the Review of each of the Review\n",
        "import collections\n",
        "temp = all_combined['content'].apply(lambda x: len(basic_tokenizer.tokenize(str(x))))"
      ],
      "execution_count": null,
      "outputs": []
    },
    {
      "cell_type": "code",
      "metadata": {
        "colab": {
          "base_uri": "https://localhost:8080/"
        },
        "id": "suibuEzQqASV",
        "cellView": "form",
        "outputId": "1c90f02c-b5cc-4849-ae70-ab15c1950110"
      },
      "source": [
        "#@title\n",
        "# Average word in train and test content\n",
        "train_word_average = np.mean(X_train['content'].apply(lambda x: len(str(x).split())))\n",
        "test_word_average = np.mean(X_test['content'].apply(lambda x: len(str(x).split())))\n",
        "print(\"Average word in train is {} Average word in test is {}\".format(train_word_average, test_word_average))\n",
        "\n",
        "# Minimum word in train and test content \n",
        "train_word_minimum = np.min(X_train['content'].apply(lambda x: len(str(x).split())))\n",
        "test_word_minimum = np.min(X_test['content'].apply(lambda x: len(str(x).split())))\n",
        "print(\"Minimum word in train is {} Minimum word in test is {}\".format(train_word_minimum, test_word_minimum))\n",
        "\n",
        "\n",
        "# Maximum word in train and test content\n",
        "train_word_maximum = np.max(X_train['content'].apply(lambda x: len(str(x).split())))\n",
        "test_word_maximum = np.max(X_test['content'].apply(lambda x: len(str(x).split())))\n",
        "print(\"Maximum word in train is {} Maximum word in test is {}\".format(train_word_maximum, test_word_maximum))\n"
      ],
      "execution_count": null,
      "outputs": [
        {
          "output_type": "stream",
          "name": "stdout",
          "text": [
            "Average word in train is 277.79602990137573 Average word in test is 270.2183908045977\n",
            "Minimum word in train is 0 Minimum word in test is 8\n",
            "Maximum word in train is 4788 Maximum word in test is 2754\n"
          ]
        }
      ]
    },
    {
      "cell_type": "code",
      "metadata": {
        "id": "4cXrq8zTvYIX"
      },
      "source": [
        "from bnlp.corpus import stopwords"
      ],
      "execution_count": null,
      "outputs": []
    },
    {
      "cell_type": "markdown",
      "metadata": {
        "id": "jXxP5QsHmjsQ"
      },
      "source": [
        "# Model Building Using Machine Learning Feature Extraction Using TF-IDF"
      ]
    },
    {
      "cell_type": "code",
      "metadata": {
        "id": "JYkguAbpm7Uh"
      },
      "source": [
        "from sklearn.linear_model import LogisticRegression\n",
        "from sklearn.tree import DecisionTreeClassifier\n",
        "from sklearn.ensemble import RandomForestClassifier\n",
        "from sklearn.naive_bayes import MultinomialNB,GaussianNB\n",
        "from sklearn.neighbors import KNeighborsClassifier\n",
        "from sklearn.svm import SVC\n",
        "from sklearn.linear_model import SGDClassifier\n",
        "from sklearn.metrics import classification_report,accuracy_score,precision_score,recall_score,f1_score\n",
        "from sklearn.metrics import roc_curve, roc_auc_score\n",
        "from sklearn.metrics import average_precision_score,roc_auc_score, roc_curve, precision_recall_curve"
      ],
      "execution_count": null,
      "outputs": []
    },
    {
      "cell_type": "markdown",
      "metadata": {
        "id": "4htInTq3VT1M"
      },
      "source": [
        "# cleanup"
      ]
    },
    {
      "cell_type": "code",
      "metadata": {
        "id": "5O86_cc-DeEi"
      },
      "source": [
        "from bnlp.corpus import stopwords, punctuations,digits\n",
        "import re\n",
        "digits+='123456789'\n",
        "def clean_up(df,stopword=False,punc=False,digit=False,remove_url=True):\n",
        "  s =df.copy()\n",
        "  if stopword:\n",
        "    for i,values in enumerate(s):\n",
        "      v = ' '.join([x for x in values.split() if x not in stopwords])\n",
        "      s.iloc[i]=v\n",
        "    \n",
        "  if punc:\n",
        "    s = s.apply(lambda x: re.sub('['+punctuations+']','',x))\n",
        "  if digit:\n",
        "    s = s.apply(lambda x: re.sub('['+digits+']','',x))\n",
        "  if remove_url:\n",
        "    url = re.compile('https?://\\S+|www\\.\\S+')\n",
        "    s=s.apply(lambda x:url.sub(r'',x))\n",
        "\n",
        "  s = s.apply(lambda x:re.sub('\\n', ' ',x))\n",
        "  s = s.apply(lambda x:re.sub('\\t', ' ',x))\n",
        "  s = s.apply(lambda x:re.sub(r'\\\\', '',x))\n",
        "  s = s.apply(lambda x:re.sub(' +', ' ',x))\n",
        "  s = s.apply(lambda x:re.sub('|', '',x))\n",
        "  s = s.apply(lambda x:re.sub('’', ' ',x))\n",
        "  s = s.apply(lambda x:re.sub('‘', ' ',x))\n",
        "  return pd.DataFrame(s)"
      ],
      "execution_count": null,
      "outputs": []
    },
    {
      "cell_type": "code",
      "metadata": {
        "id": "BorvAyS5Qpf0"
      },
      "source": [
        "#cleaning data\n",
        "X = clean_up(all_combined.title,stopword=True,punc=True,digit=True,remove_url=True)"
      ],
      "execution_count": null,
      "outputs": []
    },
    {
      "cell_type": "code",
      "metadata": {
        "id": "juIyPsIbSsmn"
      },
      "source": [
        "X['label'] = all_combined.loc[all_combined.title!=0,'label'].values"
      ],
      "execution_count": null,
      "outputs": []
    },
    {
      "cell_type": "code",
      "metadata": {
        "colab": {
          "base_uri": "https://localhost:8080/"
        },
        "id": "N1oNmRpHW3Wq",
        "outputId": "55ca1bde-0f4e-402c-e360-f9ef2fee83d2"
      },
      "source": [
        "X.shape"
      ],
      "execution_count": null,
      "outputs": [
        {
          "output_type": "execute_result",
          "data": {
            "text/plain": [
              "(28723, 2)"
            ]
          },
          "metadata": {},
          "execution_count": 46
        }
      ]
    },
    {
      "cell_type": "code",
      "metadata": {
        "colab": {
          "base_uri": "https://localhost:8080/",
          "height": 206
        },
        "id": "V7qccERAS1q8",
        "outputId": "14c859f3-4367-4c5c-9148-54428e8101b4"
      },
      "source": [
        "X.head()"
      ],
      "execution_count": null,
      "outputs": [
        {
          "output_type": "execute_result",
          "data": {
            "text/html": [
              "<div>\n",
              "<style scoped>\n",
              "    .dataframe tbody tr th:only-of-type {\n",
              "        vertical-align: middle;\n",
              "    }\n",
              "\n",
              "    .dataframe tbody tr th {\n",
              "        vertical-align: top;\n",
              "    }\n",
              "\n",
              "    .dataframe thead th {\n",
              "        text-align: right;\n",
              "    }\n",
              "</style>\n",
              "<table border=\"1\" class=\"dataframe\">\n",
              "  <thead>\n",
              "    <tr style=\"text-align: right;\">\n",
              "      <th></th>\n",
              "      <th>title</th>\n",
              "      <th>label</th>\n",
              "    </tr>\n",
              "  </thead>\n",
              "  <tbody>\n",
              "    <tr>\n",
              "      <th>0</th>\n",
              "      <td>শিক্ষকতার ন্যূনতম যোগ্যতা রাবিতে নিয়োগ পাওয়া ই...</td>\n",
              "      <td>0</td>\n",
              "    </tr>\n",
              "    <tr>\n",
              "      <th>1</th>\n",
              "      <td>ভারতে দলে দলে ঢুকছে মিয়ানমারের যোদ্ধারা</td>\n",
              "      <td>0</td>\n",
              "    </tr>\n",
              "    <tr>\n",
              "      <th>2</th>\n",
              "      <td>শাস্তি সাকিবের</td>\n",
              "      <td>0</td>\n",
              "    </tr>\n",
              "    <tr>\n",
              "      <th>3</th>\n",
              "      <td>বিয়ে রেলমন্ত্রী সুজন</td>\n",
              "      <td>0</td>\n",
              "    </tr>\n",
              "    <tr>\n",
              "      <th>4</th>\n",
              "      <td>বাড়ল শিক্ষাপ্রতিষ্ঠানের ছুটি</td>\n",
              "      <td>0</td>\n",
              "    </tr>\n",
              "  </tbody>\n",
              "</table>\n",
              "</div>"
            ],
            "text/plain": [
              "                                               title  label\n",
              "0  শিক্ষকতার ন্যূনতম যোগ্যতা রাবিতে নিয়োগ পাওয়া ই...      0\n",
              "1            ভারতে দলে দলে ঢুকছে মিয়ানমারের যোদ্ধারা      0\n",
              "2                                     শাস্তি সাকিবের      0\n",
              "3                               বিয়ে রেলমন্ত্রী সুজন      0\n",
              "4                       বাড়ল শিক্ষাপ্রতিষ্ঠানের ছুটি      0"
            ]
          },
          "metadata": {},
          "execution_count": 47
        }
      ]
    },
    {
      "cell_type": "code",
      "metadata": {
        "colab": {
          "base_uri": "https://localhost:8080/",
          "height": 347
        },
        "id": "8dMx8qeY8xmZ",
        "outputId": "eefb83cf-3081-46ea-9a22-32842bd160db"
      },
      "source": [
        "# Calculate the Review of each of the Review\n",
        "import collections\n",
        "frequency = collections.Counter(X.title.apply(lambda x: len(basic_tokenizer.tokenize(str(x)))))\n",
        "\n",
        "plt.bar(frequency.keys(), frequency.values(), color =\"b\")\n",
        "plt.xlim(0, 20)\n",
        "# in this notbook color is not working but it should work.\n",
        "plt.xlabel('Lenght of the Texts')\n",
        "plt.ylabel('Frequency')\n",
        "plt.title('Length-Frequency Distribution')\n",
        "plt.show()  \n",
        "print(f\"Maximum Length of a review: {max(frequency.keys())}\")\n",
        "print(f\"Minimum Length of a review: {min(frequency.keys())}\")\n",
        "print(f\"Average Length of a reviews: {round(np.mean(list(frequency.keys())),0)}\")"
      ],
      "execution_count": null,
      "outputs": [
        {
          "output_type": "display_data",
          "data": {
            "image/png": "[encoded data removed]",
            "text/plain": [
              "<Figure size 432x288 with 1 Axes>"
            ]
          },
          "metadata": {
            "needs_background": "light"
          }
        },
        {
          "output_type": "stream",
          "name": "stdout",
          "text": [
            "Maximum Length of a review: 27\n",
            "Minimum Length of a review: 0\n",
            "Average Length of a reviews: 12.0\n"
          ]
        }
      ]
    },
    {
      "cell_type": "markdown",
      "metadata": {
        "id": "6cw9LiFSU72-"
      },
      "source": [
        "# create features"
      ]
    },
    {
      "cell_type": "code",
      "metadata": {
        "id": "JT6hHZ2ftwP6"
      },
      "source": [
        "df = X.title.iloc[:100].copy()\n",
        "vocab=wv_bangla.index_to_key\n",
        "for i,values in enumerate(df):\n",
        "  v =[wv_bangla[x] for x in values.split() if x in vocab]\n",
        "  df.iloc[i]=v\n",
        "df= df.apply(lambda x:np.mean(x,axis=0) if len(x)!=0 else [0]*wv_bangla.vector_size)"
      ],
      "execution_count": null,
      "outputs": []
    },
    {
      "cell_type": "code",
      "metadata": {
        "colab": {
          "base_uri": "https://localhost:8080/"
        },
        "id": "cGDkC5C_5TGf",
        "outputId": "1e1e9993-be02-4524-e3ac-2639e670cf75"
      },
      "source": [
        "df.shape"
      ],
      "execution_count": null,
      "outputs": [
        {
          "output_type": "execute_result",
          "data": {
            "text/plain": [
              "(100,)"
            ]
          },
          "metadata": {},
          "execution_count": 119
        }
      ]
    },
    {
      "cell_type": "code",
      "metadata": {
        "colab": {
          "base_uri": "https://localhost:8080/"
        },
        "id": "2pt9W-RO5V8W",
        "outputId": "6893fab0-4be0-407f-cdf8-fd445c40c000"
      },
      "source": [
        "pd.DataFrame(df.values.tolist()).values.shape"
      ],
      "execution_count": null,
      "outputs": [
        {
          "output_type": "execute_result",
          "data": {
            "text/plain": [
              "(100, 100)"
            ]
          },
          "metadata": {},
          "execution_count": 123
        }
      ]
    },
    {
      "cell_type": "code",
      "metadata": {
        "colab": {
          "base_uri": "https://localhost:8080/"
        },
        "id": "mwUipzDCutIy",
        "outputId": "106193d2-63b8-43d8-e76a-9b5e48bf486a"
      },
      "source": [
        "v = set([len(s) for s in df.values])\n",
        "v"
      ],
      "execution_count": null,
      "outputs": [
        {
          "output_type": "execute_result",
          "data": {
            "text/plain": [
              "{100}"
            ]
          },
          "metadata": {},
          "execution_count": 106
        }
      ]
    },
    {
      "cell_type": "code",
      "metadata": {
        "id": "jXE17yJlyVDx"
      },
      "source": [
        "X_train,X_test,y_train,y_test=train_test_split(df,X.label.iloc[:100].values,test_size=0.1)"
      ],
      "execution_count": null,
      "outputs": []
    },
    {
      "cell_type": "code",
      "metadata": {
        "id": "4pV3A1UxQDlg"
      },
      "source": [
        "import os\n",
        "from nltk.util import ngrams\n",
        "from sklearn.feature_extraction.text import CountVectorizer, TfidfVectorizer\n",
        "from scipy import sparse\n",
        "import string\n",
        "import pickle\n",
        "         \n",
        "def word_emb(X,word_embed=wv_bangla):\n",
        "    print('I am in word_emb')\n",
        "    vocab=word_embed.index_to_key\n",
        "    # print(\"Vocab Size =>%s\" %(len(vocab)))\n",
        "    df = X.title.copy()\n",
        "        \n",
        "    for i,values in enumerate(df):\n",
        "      v =[word_embed[x] for x in values.split() if x in vocab]\n",
        "      df.iloc[i]=v\n",
        "    df= df.apply(lambda x:np.mean(x,axis=0) if len(x)!=0 else [0]*word_embed.vector_size)\n",
        "    # tokentovaluelist = [vector[token] for token in tokens if token in vocab]\n",
        "    return pd.DataFrame(df.values.tolist()).values,X.label.values\n",
        "\n",
        "    # featureVector = []\n",
        "    # labels = []\n",
        "    # for row in df.iterrows():\n",
        "    #     row = row[1]\n",
        "    #     # id = row[\"articleID\"]\n",
        "    #     mean = doc2MeanValue(row[\"content\"])\n",
        "    #     if mean.size == 0:\n",
        "    #         mean = [0] * size\n",
        "    #         featureVector.append(mean)\n",
        "    #         continue\n",
        "    #     mean = np.mean(mean, axis=0)\n",
        "    #     label = row[\"label\"]\n",
        "    #     mean = (mean.tolist())\n",
        "    #     labels.append(label)\n",
        "    #     featureVector.append(mean)\n",
        "\n",
        "    # df = pd.DataFrame(featureVector)\n",
        "    # df = df.fillna(0)\n",
        "    # return sparse.csr.csr_matrix(df.values)\n",
        "\n",
        "\n",
        "def tfidf_charF(X, a, b,save_model=False):\n",
        "\n",
        "\n",
        "    # X = X.title\n",
        "    tfidf_char = TfidfVectorizer(sublinear_tf=True, min_df=1, norm='l2', ngram_range=(a, b),\n",
        "                                 decode_error='replace', encoding='utf-8', analyzer='char')\n",
        "\n",
        "    tfidf_char.fit(X.title.values.astype('U'))\n",
        "#     if save_model:\n",
        "#         name = \"tfidf_char.pkl\"\n",
        "#         path = config.API+name\n",
        "#         outfile = open(path, 'wb')\n",
        "#         pickle.dump(tfidf_char, outfile)\n",
        "#         outfile.close()\n",
        "    x_char = tfidf_char.transform(X.title.values.astype('U'))\n",
        "    return x_char,X.label.values\n",
        "\n",
        "\n",
        "def tfidf_wordF(X, a, b,save_model=False):\n",
        "\n",
        "    # X = X.content\n",
        "    tfidf_word = TfidfVectorizer(sublinear_tf=True, min_df=1, norm='l2', ngram_range=(a, b),\n",
        "                                 decode_error='replace',\n",
        "                                 encoding='utf-8', analyzer='word', tokenizer=BasicTokenizer().tokenize)\n",
        "    \n",
        "    tfidf_word.fit(X.title.values.astype('U'))\n",
        "\n",
        "#     if save_model:\n",
        "#         name = \"tfidf_word.pkl\"\n",
        "#         path = config.API+name\n",
        "#         outfile = open(path, 'wb')\n",
        "#         pickle.dump(tfidf_char, outfile)\n",
        "#         outfile.close()\n",
        "    \n",
        "    x_word = tfidf_word.transform(X.title.values.astype('U'))\n",
        "    return x_word,X.label.values\n",
        "\n",
        "\n",
        "# def mp(X):\n",
        "\n",
        "#     def count_punc(content):\n",
        "#         char_list = list(content)\n",
        "#         count = 0\n",
        "#         for c in char_list:\n",
        "#             if c == '!':\n",
        "#                 count += 1\n",
        "#         return count\n",
        "\n",
        "    # def load_rank():\n",
        "    #     rank = {}\n",
        "    #     mx = 0\n",
        "    #     na = []\n",
        "    #     paths = os.listdir(config.ALEXA_RANK)\n",
        "    #     for path in paths:\n",
        "    #         d = pd.read_csv(config.ALEXA_RANK+\"/\"+path)\n",
        "    #         # d = d.drop(['Unnamed: 0'], axis=1)\n",
        "    #         d = d.fillna(0)\n",
        "    #         # print(d[d['rank'].isnull()])\n",
        "    #         for row in d.iterrows():\n",
        "    #             row = row[1]\n",
        "    #             if row['rank'] == 0:\n",
        "    #                 na.append(row['domain'])\n",
        "    #             else:\n",
        "    #                 rank[row['domain']] = int(row['rank'])\n",
        "    #                 mx = max(int(row['rank']), mx)\n",
        "    #     for n in na:\n",
        "    #         rank[n] = mx\n",
        "    #     return rank\n",
        "\n",
        "    # ranks = load_rank()\n",
        "    # df = X\n",
        "    # featureVector = []\n",
        "    # for row in df.iterrows():\n",
        "    #     row = row[1]\n",
        "    #     feature = []\n",
        "    #     feature.append(count_punc(row['content']))\n",
        "    #     r = ranks[row['domain']]\n",
        "    #     feature.append(r)\n",
        "    #     featureVector.append(feature)\n",
        "\n",
        "    # dfMP = pd.DataFrame(featureVector)\n",
        "    # normalized_df = (dfMP - dfMP.mean()) / dfMP.std()\n",
        "    # dfMP = normalized_df.fillna(0)\n",
        "    # return sparse.csr.csr_matrix(dfMP.values)\n",
        "\n",
        "\n",
        "# def pos():\n",
        "#     path_pos = config.POS_PATH\n",
        "#     dfPOS = pd.read_csv(path_pos)\n",
        "#     dfPOS = dfPOS.fillna(0)\n",
        "#     dfPOS = dfPOS.drop(['articleID', 'Unnamed: 0'], axis=1)\n",
        "#     X_POS = sparse.csr.csr_matrix(dfPOS.values)\n",
        "#     return X_POS"
      ],
      "execution_count": null,
      "outputs": []
    },
    {
      "cell_type": "markdown",
      "metadata": {
        "id": "Jq3UuSrkU33x"
      },
      "source": [
        "# call model"
      ]
    },
    {
      "cell_type": "code",
      "metadata": {
        "id": "sT4UHoODQDlg"
      },
      "source": [
        "# def mp(args):\n",
        "\n",
        "#     model(load_feature.mp(X),Y,\"MP\")\n",
        "\n",
        "\n",
        "# def pos(args):\n",
        "\n",
        "#     model(load_feature.pos(),Y,\"POS\")\n",
        "\n",
        "\n",
        "\n",
        "#Unigram\n",
        "def unigram(X,*args):\n",
        "    feature_space,label = tfidf_wordF(X, 1, 1)\n",
        "    # print(cv)\n",
        "    # if cv:\n",
        "    #   for X_train,X_test,y_train,y_test in dataset_split(feature_space,label,cv):\n",
        "    #      yield model(ml_model,X_train,X_test,y_train,y_test,\"Unigram\")\n",
        "    # else:\n",
        "    # X_train,X_test,y_train,y_test = dataset_split(feature_space,label,cv)\n",
        "    return dataset_split(feature_space.toarray(),label,cv)\n",
        "    # return model(ml_model,X_train,X_test,y_train,y_test,\"Unigram\")\n",
        "\n",
        "\n",
        "#Bigram\n",
        "def bigram(X,*args):\n",
        "    feature_space,label = tfidf_wordF(X, 2, 2)\n",
        "    # if cv:\n",
        "    #   for X_train,X_test,y_train,y_test in dataset_split(feature_space,label,cv):\n",
        "    #      yield model(ml_model,X_train,X_test,y_train,y_test,\"Bigram\")\n",
        "    # else:\n",
        "    # X_train,X_test,y_train,y_test = dataset_split(feature_space,label,cv)\n",
        "    return dataset_split(feature_space.toarray(),label,cv)\n",
        "    # return model(ml_model,X_train,X_test,y_train,y_test,\"Bigram\")\n",
        "    \n",
        "#Trigram\n",
        "def trigram(X,*args):\n",
        "    feature_space,label = tfidf_wordF(X, 3, 3)\n",
        "    # if cv:\n",
        "    #   for X_train,X_test,y_train,y_test in dataset_split(feature_space,label,cv):\n",
        "    #      yield model(ml_model,X_train,X_test,y_train,y_test,\"Trigram\")\n",
        "    # else:\n",
        "    return dataset_split(feature_space.toarray(),label,cv)\n",
        "    # X_train,X_test,y_train,y_test = dataset_split(feature_space,label,cv)\n",
        "    \n",
        "    # return model(ml_model,X_train,X_test,y_train,y_test,\"Trigram\")\n",
        "\n",
        "\n",
        "#U+B+T\n",
        "def u_b_t(X,*args):\n",
        "    feature_space,label = tfidf_wordF(X, 1, 3)\n",
        "    # if cv:\n",
        "    #   for X_train,X_test,y_train,y_test in dataset_split(feature_space,label,cv):\n",
        "    #      yield model(ml_model,X_train,X_test,y_train,y_test,\"U+B+T\")\n",
        "    # else:\n",
        "    return dataset_split(feature_space.toarray(),label,cv)\n",
        "    # X_train,X_test,y_train,y_test = dataset_split(feature_space,label,cv)\n",
        "    # return model(ml_model,X_train,X_test,y_train,y_test,\"U+B+T\")\n",
        "    \n",
        "\n",
        "\n",
        "#C3\n",
        "def char_3(X,*args):\n",
        "    feature_space,label = tfidf_charF(X, 3, 3)\n",
        "    # if cv:\n",
        "    #   for X_train,X_test,y_train,y_test in dataset_split(feature_space,label,cv):\n",
        "    #      yield model(ml_model,X_train,X_test,y_train,y_test,\"C3-gram\")\n",
        "    # else:\n",
        "    return dataset_split(feature_space.toarray(),label,cv)\n",
        "    # X_train,X_test,y_train,y_test = dataset_split(feature_space,label,cv)\n",
        "    # return model(ml_model,X_train,X_test,y_train,y_test,\"C3-gram\")\n",
        "    \n",
        "    \n",
        "\n",
        "def char_4(X,*args):\n",
        "    feature_space,label = tfidf_charF(X, 4, 4)\n",
        "    # if cv:\n",
        "    #   for X_train,X_test,y_train,y_test in dataset_split(feature_space,label,cv):\n",
        "    #      yield model(ml_model,X_train,X_test,y_train,y_test,\"C4-gram\")\n",
        "    # else:\n",
        "    return dataset_split(feature_space.toarray(),label,cv)\n",
        "    # X_train,X_test,y_train,y_test = dataset_split(feature_space,label,cv)\n",
        "    # return model(ml_model,X_train,X_test,y_train,y_test,\"C4-gram\")\n",
        "    \n",
        "    \n",
        "\n",
        "def char_5(X,*args):\n",
        "    feature_space,label = tfidf_charF(X, 5, 5)\n",
        "    # if cv:\n",
        "    #   for X_train,X_test,y_train,y_test in dataset_split(feature_space,label,cv):\n",
        "    #      yield model(ml_model,X_train,X_test,y_train,y_test,\"C5-gram\")\n",
        "    # else:\n",
        "    return dataset_split(feature_space.toarray(),label,cv)\n",
        "    # X_train,X_test,y_train,y_test = dataset_split(feature_space,label,cv)\n",
        "    # return model(ml_model,X_train,X_test,y_train,y_test,\"C5-gram\")\n",
        "    \n",
        "    \n",
        "\n",
        "def char_3_4_5(X,*args):\n",
        "    feature_space,label = tfidf_charF(X, 3, 5)\n",
        "    # if cv:\n",
        "    #   for X_train,X_test,y_train,y_test in dataset_split(feature_space,label,cv):\n",
        "    #      yield model(ml_model,X_train,X_test,y_train,y_test,\"C3+C4+C5\")\n",
        "    # else:\n",
        "    return dataset_split(feature_space.toarray(),label,cv)\n",
        "    # X_train,X_test,y_train,y_test = dataset_split(feature_space,label,cv)\n",
        "    # return model(ml_model,X_train,X_test,y_train,y_test,\"C3+C4+C5\")\n",
        "    \n",
        "    \n",
        "\n",
        "\n",
        "#Linguistic\n",
        "def lexical(X,*args):\n",
        "\n",
        "    X_char,label = tfidf_charF(X, 3, 5)\n",
        "    X_word,label = tfidf_wordF(X, 1, 3)\n",
        "    feature_space= np.concatenate([X_word.toarray(),X_char.toarray()],axis=1)\n",
        "    # if cv:\n",
        "    #   for X_train,X_test,y_train,y_test in dataset_split(feature_space,label,cv):\n",
        "    #      yield model(ml_model,X_train,X_test,y_train,y_test,\"Lexical\")\n",
        "    # else:\n",
        "    return dataset_split(feature_space,label,cv)\n",
        "    # X_train,X_test,y_train,y_test = dataset_split(feature_space,label,cv)\n",
        "    # return model(ml_model,X_train,X_test,y_train,y_test,\"Lexical\")\n",
        "\n",
        "\n",
        "#Word Embedding Fasttext\n",
        "def word_300(X,*args):\n",
        "    feature_space,label = word_emb(X,word_embed=ft_wv)\n",
        "    # if cv:\n",
        "    #   for X_train,X_test,y_train,y_test in dataset_split(feature_space,label,cv):\n",
        "    #      yield model(ml_model,X_train,X_test,y_train,y_test,\"Emb_F\")\n",
        "    # else:\n",
        "    return dataset_split(feature_space,label,cv)\n",
        "    # X_train,X_test,y_train,y_test = dataset_split(feature_space,label,cv)\n",
        "    # return model(ml_model,X_train,X_test,y_train,y_test,\"Emb_F\")\n",
        "\n",
        "\n",
        "#Word Embedding News\n",
        "def word_100(X,*args):\n",
        "    feature_space,label = word_emb(X)\n",
        "    # if cv:\n",
        "    #   for X_train,X_test,y_train,y_test in dataset_split(feature_space,label,cv):\n",
        "    #      yield model(ml_model,X_train,X_test,y_train,y_test,\"Emb_N\")\n",
        "    # else:\n",
        "    return dataset_split(feature_space,label,cv)\n",
        "    # X_train,X_test,y_train,y_test = dataset_split(feature_space,label,cv)\n",
        "    # return model(ml_model,X_train,X_test,y_train,y_test,\"Emb_N\")\n",
        "    \n",
        "\n",
        "def word_self_trained(X,*args):\n",
        "    feature_space,label = word_emb(X,word_embed=st_wv)\n",
        "    # if cv:\n",
        "    #   for X_train,X_test,y_train,y_test in dataset_split(feature_space,label,cv):\n",
        "    #      yield model(ml_model,X_train,X_test,y_train,y_test,\"Emb_ST\")\n",
        "    # else:\n",
        "    return dataset_split(feature_space,label,cv)\n",
        "    # X_train,X_test,y_train,y_test = dataset_split(feature_space,label,cv)\n",
        "    # return model(ml_model,X_train,X_test,y_train,y_test,\"Emb_ST\")\n",
        "\n",
        "#L+POS\n",
        "# def L_POS(args):\n",
        "\n",
        "#     model(sparse.hstack((load_feature.tfidf_charF(X, 3, 5), load_feature.tfidf_wordF(X, 1, 3), load_feature.pos())),Y,\"L+POS\")\n",
        "\n",
        "\n",
        "# #L+POS+Emb(F)\n",
        "# def L_POS_Emb_F(args):\n",
        "    \n",
        "\n",
        "#     model(sparse.hstack((load_feature.tfidf_charF(X, 3, 5), load_feature.tfidf_wordF(X, 1, 3), load_feature.pos(), load_feature.word_emb(300,X))),Y,\"L+POS+Emb(F)\")\n",
        "\n",
        "# #L+POS+Emb(N)\n",
        "# def L_POS_Emb_N(args):\n",
        "    \n",
        "#     model(sparse.hstack((load_feature.tfidf_charF(X, 3, 5), load_feature.tfidf_wordF(X, 1, 3), load_feature.pos(), load_feature.word_emb(100,X))),Y,\"L+POS+Emb(N)\")\n",
        "\n",
        "\n",
        "# #L+POS+E(F)+MP\n",
        "# def L_POS_Emb_F_MP(args):\n",
        "    \n",
        "#     model(sparse.hstack((load_feature.tfidf_charF(X, 3, 5), load_feature.tfidf_wordF(X, 1, 3), load_feature.pos(), load_feature.word_emb(300,X), load_feature.mp(X))),Y,\"L+POS+E(F)+MP\")\n",
        "\n",
        "\n",
        "# #L+POS+E(N)+MP\n",
        "# def L_POS_Emb_N_MP(args):\n",
        "\n",
        "#     model(sparse.hstack((load_feature.tfidf_charF(X, 3, 5), load_feature.tfidf_wordF(X, 1, 3), load_feature.pos(), load_feature.word_emb(100,X), load_feature.mp(X))),Y,\"L+POS+E(N)+MP\")\n",
        "\n",
        "\n",
        "# #Allfeatures\n",
        "# def allfeatures(args):\n",
        "\n",
        "#     model(sparse.hstack((load_feature.tfidf_charF(X, 3, 5), load_feature.tfidf_wordF(X, 1, 3), load_feature.pos(), load_feature.word_emb(300,X), load_feature.word_emb(100,X), load_feature.mp(X))),Y,\"Allfeatures\")\n"
      ],
      "execution_count": null,
      "outputs": []
    },
    {
      "cell_type": "code",
      "metadata": {
        "id": "6vvOmqb9F3jP"
      },
      "source": [
        "def dataset_split(feature_space,label,cv=False):\n",
        "    # if cv:\n",
        "    #   skf = StratifiedKFold(n_splits=10)\n",
        "    #   for train_idx,test_idx in skf.split(feature_space,label):\n",
        "    #     X_train=feature_space.iloc[train_idx,:]\n",
        "    #     X_test=feature_space.iloc[test_idx,:]\n",
        "    #     y_train=label.iloc[train_idx,:]\n",
        "    #     y_test=label.iloc[test_idx,:]\n",
        "  \n",
        "    #     yield (X_train,X_test,y_train,y_test)\n",
        "    # else:\n",
        "    print('I am in dataset split')\n",
        "    X_train,X_test,y_train,y_test = train_test_split(feature_space,label,\n",
        "                                                test_size = 0.1,random_state =0,shuffle = True,stratify=label)\n",
        "    # print(\"Feature Size :======>\",X_train.shape[1])\n",
        "    # print(\"\\nDataset Distribution:\\n\")\n",
        "    # print(\"\\tSet Name\",\"\\t\\tSize\")\n",
        "    # print(\"\\t========\\t\\t======\")\n",
        "\n",
        "    # print(\"\\tFull\\t\\t\\t\",feature_space.shape[0],\n",
        "    #     \"\\n\\tTraining\\t\\t\",X_train.shape[0],\n",
        "    #     \"\\n\\tTest\\t\\t\\t\",X_test.shape[0])\n",
        "  \n",
        "    return (X_train,X_test,y_train,y_test)"
      ],
      "execution_count": null,
      "outputs": []
    },
    {
      "cell_type": "markdown",
      "metadata": {
        "id": "h9pVvvtMU_CR"
      },
      "source": [
        "# model fit,result,save"
      ]
    },
    {
      "cell_type": "markdown",
      "metadata": {
        "id": "sSLMtbdvnA2v"
      },
      "source": [
        "# Classifiers Defination"
      ]
    },
    {
      "cell_type": "code",
      "metadata": {
        "id": "kmlbXlCInCVY"
      },
      "source": [
        "def ml_models_defination(): \n",
        "      \n",
        "    lr_model = LogisticRegression(random_state = 123)\n",
        "    dt_model = DecisionTreeClassifier(criterion = 'entropy', random_state = 0)\n",
        "    rf_model = RandomForestClassifier(bootstrap=True,\n",
        "                class_weight = dict({1:25,0:1}),\n",
        "                    criterion='gini',\n",
        "                    max_depth=None, max_features='auto', max_leaf_nodes=None,\n",
        "                    min_impurity_decrease=0.0, min_impurity_split=None,\n",
        "                    min_samples_leaf=4, min_samples_split=10,\n",
        "                    min_weight_fraction_leaf=0.0, n_estimators=300,\n",
        "                    oob_score=False,\n",
        "                    random_state=0,\n",
        "                    verbose=0, warm_start=False)\n",
        "    \n",
        "    mnb_model = GaussianNB()\n",
        "    knn_model = KNeighborsClassifier(n_neighbors=3, metric = 'minkowski')\n",
        "    lsvm_model = SVC(kernel = 'linear',C = 10, cache_size=7000)\n",
        "    ksvm_model = SVC(C= 1000,kernel = 'rbf',probability=True, gamma = 0.00015, random_state = 0)\n",
        "    model_names = ['Logistic Regression','Decision Tree','Random Forest','Naive Bayes','KNN','Linear SVM','Kernel SVM']\n",
        "  \n",
        "    # Create list of models\n",
        "    ml_models = [lr_model,dt_model,rf_model,mnb_model,knn_model,lsvm_model,ksvm_model]\n",
        "    #ml_models = [lr_model]\n",
        "    return ml_models,model_names \n"
      ],
      "execution_count": null,
      "outputs": []
    },
    {
      "cell_type": "code",
      "metadata": {
        "id": "q6pQPddpnLDy"
      },
      "source": [
        "def model(model,X_train,X_test,y_train,y_test,exp):\n",
        "    print('I am in model')\n",
        "    my_dict = {}\n",
        "    model.fit(X_train,y_train)\n",
        "    # Prediction\n",
        "    pred_y = model.predict(X_test)\n",
        "    my_dict['Accuracy'] = round(accuracy_score(y_test, pred_y),4)*100 \n",
        "    my_dict['Precision'] = round(precision_score(y_test, pred_y),4)*100 \n",
        "    my_dict['Recall'] = round(recall_score(y_test, pred_y),4)*100 \n",
        "    my_dict['F1 Score'] = round(f1_score(y_test, pred_y),4)*100 \n",
        "    report = classification_report(y_test, pred_y, output_dict=True)\n",
        "    true = report['1']\n",
        "    fake = report['0']\n",
        "\n",
        "    overall = {\"Accuracy\": my_dict['Accuracy'], \"recall\":my_dict['Recall'] ,\n",
        "               \"f1-score\":  my_dict['F1 Score'] , \"precision\": my_dict['Precision']}\n",
        "\n",
        "    \n",
        "    return my_dict,true,fake,overall,exp"
      ],
      "execution_count": null,
      "outputs": []
    },
    {
      "cell_type": "code",
      "metadata": {
        "id": "M75T4F1ADUCI"
      },
      "source": [
        "pd.DataFrame.stack?"
      ],
      "execution_count": null,
      "outputs": []
    },
    {
      "cell_type": "code",
      "metadata": {
        "id": "QdxytAB4nSGi"
      },
      "source": [
        "def performance_table(performance_dict):\n",
        "    acc_list = []\n",
        "    pr_list = []\n",
        "    re_list = []\n",
        "    f1_list = []\n",
        "    print(performance_dict)\n",
        "    for i in performance_dict.keys():\n",
        "        acc_list.append(performance_dict[i]['Accuracy'])\n",
        "        pr_list.append(performance_dict[i]['Precision'])\n",
        "        re_list.append(performance_dict[i]['Recall'])\n",
        "        f1_list.append(performance_dict[i]['F1 Score'])\n",
        "\n",
        "    # Create a dataframe\n",
        "    model_names = ['LR','DT','RF','MNB','KNN','Linear SVM','RBF SVM']\n",
        "    performance_df = pd.DataFrame({'Accuracy':acc_list,'Precision':pr_list,\n",
        "                                   'Recall':re_list,'F1 Score':f1_list,\n",
        "                                   'Model Name':model_names })\n",
        "    return performance_df"
      ],
      "execution_count": null,
      "outputs": []
    },
    {
      "cell_type": "code",
      "metadata": {
        "id": "So68VKDVQDli"
      },
      "source": [
        "# def getResult(y_test, y_pred):\n",
        "\n",
        "#     # if torch.is_tensor(y_test) and torch.is_tensor(y_pred):\n",
        "#     #     y_test, y_pred = cudaTocpu(y_test, y_pred)\n",
        "    \n",
        "#     report = metrics.classification_report(y_test, y_pred, output_dict=True)\n",
        "#     true = report['1']\n",
        "#     fake = report['0']\n",
        "\n",
        "#     overall = {\"Accuracy\": metrics.accuracy_score(y_test, y_pred), \"recall\": metrics.recall_score(y_test, y_pred),\n",
        "#                \"f1-score\": metrics.f1_score(y_test, y_pred), \"precision\": metrics.precision_score(y_test, y_pred) }\n",
        "\n",
        "#     return true, fake, overall\n",
        "\n",
        "\n",
        "def printResult(experiment, overall, fake):\n",
        "    experiment = experiment.ljust(14)\n",
        "    res = \"{}     {:.2f}         {:.2f}        {:.2f}      #  {:.2f}         {:.2f}         {:.2f}\".format(experiment,overall['precision'],overall['recall'],overall['f1-score'],fake['precision'],fake['recall'],fake['f1-score'])\n",
        "    return res\n",
        "\n",
        "def getReport(y_test,y_pred):\n",
        "\n",
        "    # if torch.is_tensor(y_test) and torch.is_tensor(y_pred):\n",
        "    #     y_test, y_pred = cudaTocpu(y_test, y_pred)\n",
        "    print(\"Accuracy:\", metrics.accuracy_score(y_test, y_pred))\n",
        "    print(\"Precision:\", metrics.precision_score(y_test, y_pred))\n",
        "    print(\"Recall:\", metrics.recall_score(y_test, y_pred))\n",
        "    print(\"F1-Score:\", metrics.f1_score(y_test, y_pred))\n",
        "    print(\"Confusion Matrix:\", metrics.confusion_matrix(y_test, y_pred))\n",
        "    print(metrics.classification_report(y_test, y_pred))\n",
        "\n",
        "def saveResults(path,res):\n",
        "    if os.path.isdir('./results') == False:\n",
        "        os.mkdir('results')\n",
        "    os.chdir('results')\n",
        "    if os.path.isdir('./'+path) == False:\n",
        "        os.mkdir(path)    \n",
        "        \n",
        "    path =os.getcwd()+'/'+path+'/result.txt'\n",
        "    if os.path.exists(path)==False:\n",
        "        with open(path, 'w', encoding=\"utf8\") as file:\n",
        "            file.write(\"                                Overall               #               Fake                \\n\")\n",
        "            file.write(\"                   precision    recall      f1-score  #  precision    recall      f1-score\\n\")\n",
        "            file.write(res+\"\\n\")\n",
        "    else:\n",
        "        with open(path, 'a', encoding=\"utf8\") as file:\n",
        "            file.write(res+\"\\n\")\n",
        "    os.chdir('/content')"
      ],
      "execution_count": null,
      "outputs": []
    },
    {
      "cell_type": "code",
      "metadata": {
        "colab": {
          "base_uri": "https://localhost:8080/",
          "height": 35
        },
        "id": "3LTsYfFC80NX",
        "outputId": "9b7da491-abfc-412f-8f89-da7d1cd7c2c1"
      },
      "source": [
        "os.chdir('/content')\n",
        "os.getcwd()"
      ],
      "execution_count": null,
      "outputs": [
        {
          "output_type": "execute_result",
          "data": {
            "application/vnd.google.colaboratory.intrinsic+json": {
              "type": "string"
            },
            "text/plain": [
              "'/content'"
            ]
          },
          "metadata": {},
          "execution_count": 188
        }
      ]
    },
    {
      "cell_type": "code",
      "metadata": {
        "colab": {
          "base_uri": "https://localhost:8080/",
          "height": 35
        },
        "id": "c-rH0_w-9Rp-",
        "outputId": "9b0bb361-9c13-450d-f3ad-a327846a587b"
      },
      "source": [
        "import shutil\n",
        "shutil.rmtree('results')\n",
        "os.getcwd()"
      ],
      "execution_count": null,
      "outputs": [
        {
          "output_type": "execute_result",
          "data": {
            "application/vnd.google.colaboratory.intrinsic+json": {
              "type": "string"
            },
            "text/plain": [
              "'/content'"
            ]
          },
          "metadata": {},
          "execution_count": 189
        }
      ]
    },
    {
      "cell_type": "code",
      "metadata": {
        "colab": {
          "base_uri": "https://localhost:8080/",
          "height": 35
        },
        "id": "wGCzGAts9YEm",
        "outputId": "920748c9-80ea-4b13-defe-d81ac5ba5331"
      },
      "source": [
        "os.chdir('.')\n",
        "os.getcwd()"
      ],
      "execution_count": null,
      "outputs": [
        {
          "output_type": "execute_result",
          "data": {
            "application/vnd.google.colaboratory.intrinsic+json": {
              "type": "string"
            },
            "text/plain": [
              "'/content/results'"
            ]
          },
          "metadata": {},
          "execution_count": 104
        }
      ]
    },
    {
      "cell_type": "markdown",
      "metadata": {
        "id": "Rs3Q0--WnaHj"
      },
      "source": [
        "# Model Training"
      ]
    },
    {
      "cell_type": "code",
      "metadata": {
        "colab": {
          "base_uri": "https://localhost:8080/",
          "height": 206
        },
        "id": "P6zwN8pSMNPt",
        "outputId": "61b2723a-b22a-4043-e6ed-533f0fc8e0c0"
      },
      "source": [
        "X.head()"
      ],
      "execution_count": null,
      "outputs": [
        {
          "output_type": "execute_result",
          "data": {
            "text/html": [
              "<div>\n",
              "<style scoped>\n",
              "    .dataframe tbody tr th:only-of-type {\n",
              "        vertical-align: middle;\n",
              "    }\n",
              "\n",
              "    .dataframe tbody tr th {\n",
              "        vertical-align: top;\n",
              "    }\n",
              "\n",
              "    .dataframe thead th {\n",
              "        text-align: right;\n",
              "    }\n",
              "</style>\n",
              "<table border=\"1\" class=\"dataframe\">\n",
              "  <thead>\n",
              "    <tr style=\"text-align: right;\">\n",
              "      <th></th>\n",
              "      <th>title</th>\n",
              "      <th>label</th>\n",
              "    </tr>\n",
              "  </thead>\n",
              "  <tbody>\n",
              "    <tr>\n",
              "      <th>0</th>\n",
              "      <td>শিক্ষকতার ন্যূনতম যোগ্যতা রাবিতে নিয়োগ পাওয়া ই...</td>\n",
              "      <td>0</td>\n",
              "    </tr>\n",
              "    <tr>\n",
              "      <th>1</th>\n",
              "      <td>ভারতে দলে দলে ঢুকছে মিয়ানমারের যোদ্ধারা</td>\n",
              "      <td>0</td>\n",
              "    </tr>\n",
              "    <tr>\n",
              "      <th>2</th>\n",
              "      <td>শাস্তি সাকিবের</td>\n",
              "      <td>0</td>\n",
              "    </tr>\n",
              "    <tr>\n",
              "      <th>3</th>\n",
              "      <td>বিয়ে রেলমন্ত্রী সুজন</td>\n",
              "      <td>0</td>\n",
              "    </tr>\n",
              "    <tr>\n",
              "      <th>4</th>\n",
              "      <td>বাড়ল শিক্ষাপ্রতিষ্ঠানের ছুটি</td>\n",
              "      <td>0</td>\n",
              "    </tr>\n",
              "  </tbody>\n",
              "</table>\n",
              "</div>"
            ],
            "text/plain": [
              "                                               title  label\n",
              "0  শিক্ষকতার ন্যূনতম যোগ্যতা রাবিতে নিয়োগ পাওয়া ই...      0\n",
              "1            ভারতে দলে দলে ঢুকছে মিয়ানমারের যোদ্ধারা      0\n",
              "2                                     শাস্তি সাকিবের      0\n",
              "3                               বিয়ে রেলমন্ত্রী সুজন      0\n",
              "4                       বাড়ল শিক্ষাপ্রতিষ্ঠানের ছুটি      0"
            ]
          },
          "metadata": {},
          "execution_count": 53
        }
      ]
    },
    {
      "cell_type": "code",
      "metadata": {
        "id": "mbBhocONMXDU"
      },
      "source": [
        "df = X.iloc[:500]"
      ],
      "execution_count": null,
      "outputs": []
    },
    {
      "cell_type": "code",
      "metadata": {
        "colab": {
          "base_uri": "https://localhost:8080/"
        },
        "id": "D879OqoWnbHk",
        "outputId": "c08a46d7-8503-4233-8b68-10a7dcbbcd01"
      },
      "source": [
        "## save the performance of the model for each gram feature \n",
        "feature_names=['unigram','bigram','trigram','u_b_t','char_3','char_4','char_5','char_3_4_5','lexical','word_300','word_100','word_self_trained']\n",
        "# feature_names=['word_300','word_100','word_self_trained']\n",
        "# ngrams = [(1,1),(1,2),(1,3)]\n",
        "# for i,gram in enumerate(ngrams):\n",
        "#     tfidf,feature = calc_gram_tfidf(np.array(cleaned_text.values),gram)\n",
        "#     labels = np.array(all_combined.label.values)\n",
        "#     X_train,X_test,y_train,y_test = dataset_split(feature,labels) \n",
        "ml_models,model_names = ml_models_defination()\n",
        "performance_dict={}\n",
        "save=True\n",
        "cv=False\n",
        "for i in feature_names:\n",
        "  print(i,':')\n",
        "  X_train,X_test,y_train,y_test = eval(i+'(df,cv)')\n",
        "  # return model(ml_model,X_train,X_test,y_train,y_test,\"U+B+T\")\n",
        "  for j,ml_model in enumerate(ml_models):\n",
        "    # if i=='word_300':\n",
        "    #   performance_dict[i],_,f,o=eval(i+'(X,ft_bangla)')\n",
        "    # elif i=='word_100':\n",
        "    #   performance_dict[i],_,f,o=eval(i+'(X,wv_bangla)')\n",
        "    # else:\n",
        "    dc,_,f,o,exp=model(ml_model,X_train,X_test,y_train,y_test,i)\n",
        "    # performance_dict[i],_,f,o,exp=eval(i+'(df,ml_model,cv)')\n",
        "    performance_dict[model_names[j]]=dc  \n",
        "    # _, f, o = helper.getResult(y_test, y_pred)\n",
        "    print(\"                                Overall               #               Fake                \")\n",
        "    print(\"                   precision    recall      f1-score  #  precision    recall      f1-score\")\n",
        "    res = printResult(model_names[j],o,f)\n",
        "    print(res)\n",
        "    if save:\n",
        "        path = i\n",
        "        saveResults(path, res)\n",
        "        # call model accuracy function and save the metrices into a dictionary\n",
        "  performance_df = performance_table(performance_dict)  \n",
        "  performance_df.to_json(i+'_results.json') \n",
        "    #Save the performance parameter into json file\n",
        "   "
      ],
      "execution_count": null,
      "outputs": [
        {
          "output_type": "stream",
          "name": "stdout",
          "text": [
            "unigram :\n",
            "I am in dataset split\n",
            "I am in model\n",
            "                                Overall               #               Fake                \n",
            "                   precision    recall      f1-score  #  precision    recall      f1-score\n",
            "Logistic Regression     0.00         0.00        0.00      #  0.92         1.00         0.96\n",
            "I am in model\n"
          ]
        },
        {
          "output_type": "stream",
          "name": "stderr",
          "text": [
            "/usr/local/lib/python3.7/dist-packages/sklearn/feature_extraction/text.py:507: UserWarning: The parameter 'token_pattern' will not be used since 'tokenizer' is not None'\n",
            "  warnings.warn(\"The parameter 'token_pattern' will not be used\"\n",
            "/usr/local/lib/python3.7/dist-packages/sklearn/metrics/_classification.py:1272: UndefinedMetricWarning: Precision is ill-defined and being set to 0.0 due to no predicted samples. Use `zero_division` parameter to control this behavior.\n",
            "  _warn_prf(average, modifier, msg_start, len(result))\n",
            "/usr/local/lib/python3.7/dist-packages/sklearn/metrics/_classification.py:1272: UndefinedMetricWarning: Precision and F-score are ill-defined and being set to 0.0 in labels with no predicted samples. Use `zero_division` parameter to control this behavior.\n",
            "  _warn_prf(average, modifier, msg_start, len(result))\n",
            "/usr/local/lib/python3.7/dist-packages/sklearn/metrics/_classification.py:1272: UndefinedMetricWarning: Precision is ill-defined and being set to 0.0 due to no predicted samples. Use `zero_division` parameter to control this behavior.\n",
            "  _warn_prf(average, modifier, msg_start, len(result))\n",
            "/usr/local/lib/python3.7/dist-packages/sklearn/metrics/_classification.py:1272: UndefinedMetricWarning: Precision and F-score are ill-defined and being set to 0.0 in labels with no predicted samples. Use `zero_division` parameter to control this behavior.\n",
            "  _warn_prf(average, modifier, msg_start, len(result))\n"
          ]
        },
        {
          "output_type": "stream",
          "name": "stdout",
          "text": [
            "                                Overall               #               Fake                \n",
            "                   precision    recall      f1-score  #  precision    recall      f1-score\n",
            "Decision Tree      0.00         0.00        0.00      #  0.92         1.00         0.96\n",
            "I am in model\n"
          ]
        },
        {
          "output_type": "stream",
          "name": "stderr",
          "text": [
            "/usr/local/lib/python3.7/dist-packages/sklearn/metrics/_classification.py:1272: UndefinedMetricWarning: Precision and F-score are ill-defined and being set to 0.0 in labels with no predicted samples. Use `zero_division` parameter to control this behavior.\n",
            "  _warn_prf(average, modifier, msg_start, len(result))\n",
            "/usr/local/lib/python3.7/dist-packages/sklearn/metrics/_classification.py:1272: UndefinedMetricWarning: Precision is ill-defined and being set to 0.0 due to no predicted samples. Use `zero_division` parameter to control this behavior.\n",
            "  _warn_prf(average, modifier, msg_start, len(result))\n",
            "/usr/local/lib/python3.7/dist-packages/sklearn/metrics/_classification.py:1272: UndefinedMetricWarning: Precision and F-score are ill-defined and being set to 0.0 in labels with no predicted samples. Use `zero_division` parameter to control this behavior.\n",
            "  _warn_prf(average, modifier, msg_start, len(result))\n"
          ]
        },
        {
          "output_type": "stream",
          "name": "stdout",
          "text": [
            "                                Overall               #               Fake                \n",
            "                   precision    recall      f1-score  #  precision    recall      f1-score\n",
            "Random Forest      8.00         100.00        14.81      #  0.00         0.00         0.00\n",
            "I am in model\n",
            "                                Overall               #               Fake                \n",
            "                   precision    recall      f1-score  #  precision    recall      f1-score\n",
            "Naive Bayes        0.00         0.00        0.00      #  0.91         0.89         0.90\n",
            "I am in model\n",
            "                                Overall               #               Fake                \n",
            "                   precision    recall      f1-score  #  precision    recall      f1-score\n",
            "KNN                0.00         0.00        0.00      #  0.92         1.00         0.96\n",
            "I am in model\n"
          ]
        },
        {
          "output_type": "stream",
          "name": "stderr",
          "text": [
            "/usr/local/lib/python3.7/dist-packages/sklearn/metrics/_classification.py:1272: UndefinedMetricWarning: Precision is ill-defined and being set to 0.0 due to no predicted samples. Use `zero_division` parameter to control this behavior.\n",
            "  _warn_prf(average, modifier, msg_start, len(result))\n",
            "/usr/local/lib/python3.7/dist-packages/sklearn/metrics/_classification.py:1272: UndefinedMetricWarning: Precision and F-score are ill-defined and being set to 0.0 in labels with no predicted samples. Use `zero_division` parameter to control this behavior.\n",
            "  _warn_prf(average, modifier, msg_start, len(result))\n"
          ]
        },
        {
          "output_type": "stream",
          "name": "stdout",
          "text": [
            "                                Overall               #               Fake                \n",
            "                   precision    recall      f1-score  #  precision    recall      f1-score\n",
            "Linear SVM         0.00         0.00        0.00      #  0.92         1.00         0.96\n",
            "I am in model\n"
          ]
        },
        {
          "output_type": "stream",
          "name": "stderr",
          "text": [
            "/usr/local/lib/python3.7/dist-packages/sklearn/metrics/_classification.py:1272: UndefinedMetricWarning: Precision is ill-defined and being set to 0.0 due to no predicted samples. Use `zero_division` parameter to control this behavior.\n",
            "  _warn_prf(average, modifier, msg_start, len(result))\n",
            "/usr/local/lib/python3.7/dist-packages/sklearn/metrics/_classification.py:1272: UndefinedMetricWarning: Precision and F-score are ill-defined and being set to 0.0 in labels with no predicted samples. Use `zero_division` parameter to control this behavior.\n",
            "  _warn_prf(average, modifier, msg_start, len(result))\n",
            "/usr/local/lib/python3.7/dist-packages/sklearn/feature_extraction/text.py:507: UserWarning: The parameter 'token_pattern' will not be used since 'tokenizer' is not None'\n",
            "  warnings.warn(\"The parameter 'token_pattern' will not be used\"\n",
            "/usr/local/lib/python3.7/dist-packages/sklearn/metrics/_classification.py:1272: UndefinedMetricWarning: Precision is ill-defined and being set to 0.0 due to no predicted samples. Use `zero_division` parameter to control this behavior.\n",
            "  _warn_prf(average, modifier, msg_start, len(result))\n",
            "/usr/local/lib/python3.7/dist-packages/sklearn/metrics/_classification.py:1272: UndefinedMetricWarning: Precision and F-score are ill-defined and being set to 0.0 in labels with no predicted samples. Use `zero_division` parameter to control this behavior.\n",
            "  _warn_prf(average, modifier, msg_start, len(result))\n"
          ]
        },
        {
          "output_type": "stream",
          "name": "stdout",
          "text": [
            "                                Overall               #               Fake                \n",
            "                   precision    recall      f1-score  #  precision    recall      f1-score\n",
            "Kernel SVM         0.00         0.00        0.00      #  0.92         1.00         0.96\n",
            "{'Logistic Regression': {'Accuracy': 92.0, 'Precision': 0.0, 'Recall': 0.0, 'F1 Score': 0.0}, 'Decision Tree': {'Accuracy': 92.0, 'Precision': 0.0, 'Recall': 0.0, 'F1 Score': 0.0}, 'Random Forest': {'Accuracy': 8.0, 'Precision': 8.0, 'Recall': 100.0, 'F1 Score': 14.81}, 'Naive Bayes': {'Accuracy': 82.0, 'Precision': 0.0, 'Recall': 0.0, 'F1 Score': 0.0}, 'KNN': {'Accuracy': 92.0, 'Precision': 0.0, 'Recall': 0.0, 'F1 Score': 0.0}, 'Linear SVM': {'Accuracy': 92.0, 'Precision': 0.0, 'Recall': 0.0, 'F1 Score': 0.0}, 'Kernel SVM': {'Accuracy': 92.0, 'Precision': 0.0, 'Recall': 0.0, 'F1 Score': 0.0}}\n",
            "bigram :\n",
            "I am in dataset split\n",
            "I am in model\n",
            "                                Overall               #               Fake                \n",
            "                   precision    recall      f1-score  #  precision    recall      f1-score\n",
            "Logistic Regression     0.00         0.00        0.00      #  0.92         1.00         0.96\n",
            "I am in model\n"
          ]
        },
        {
          "output_type": "stream",
          "name": "stderr",
          "text": [
            "/usr/local/lib/python3.7/dist-packages/sklearn/metrics/_classification.py:1272: UndefinedMetricWarning: Precision is ill-defined and being set to 0.0 due to no predicted samples. Use `zero_division` parameter to control this behavior.\n",
            "  _warn_prf(average, modifier, msg_start, len(result))\n",
            "/usr/local/lib/python3.7/dist-packages/sklearn/metrics/_classification.py:1272: UndefinedMetricWarning: Precision and F-score are ill-defined and being set to 0.0 in labels with no predicted samples. Use `zero_division` parameter to control this behavior.\n",
            "  _warn_prf(average, modifier, msg_start, len(result))\n"
          ]
        },
        {
          "output_type": "stream",
          "name": "stdout",
          "text": [
            "                                Overall               #               Fake                \n",
            "                   precision    recall      f1-score  #  precision    recall      f1-score\n",
            "Decision Tree      0.00         0.00        0.00      #  0.92         1.00         0.96\n",
            "I am in model\n"
          ]
        },
        {
          "output_type": "stream",
          "name": "stderr",
          "text": [
            "/usr/local/lib/python3.7/dist-packages/sklearn/metrics/_classification.py:1272: UndefinedMetricWarning: Precision and F-score are ill-defined and being set to 0.0 in labels with no predicted samples. Use `zero_division` parameter to control this behavior.\n",
            "  _warn_prf(average, modifier, msg_start, len(result))\n"
          ]
        },
        {
          "output_type": "stream",
          "name": "stdout",
          "text": [
            "                                Overall               #               Fake                \n",
            "                   precision    recall      f1-score  #  precision    recall      f1-score\n",
            "Random Forest      8.00         100.00        14.81      #  0.00         0.00         0.00\n",
            "I am in model\n",
            "                                Overall               #               Fake                \n",
            "                   precision    recall      f1-score  #  precision    recall      f1-score\n",
            "Naive Bayes        9.09         100.00        16.67      #  1.00         0.13         0.23\n",
            "I am in model\n",
            "                                Overall               #               Fake                \n",
            "                   precision    recall      f1-score  #  precision    recall      f1-score\n",
            "KNN                0.00         0.00        0.00      #  0.91         0.89         0.90\n",
            "I am in model\n"
          ]
        },
        {
          "output_type": "stream",
          "name": "stderr",
          "text": [
            "/usr/local/lib/python3.7/dist-packages/sklearn/metrics/_classification.py:1272: UndefinedMetricWarning: Precision is ill-defined and being set to 0.0 due to no predicted samples. Use `zero_division` parameter to control this behavior.\n",
            "  _warn_prf(average, modifier, msg_start, len(result))\n",
            "/usr/local/lib/python3.7/dist-packages/sklearn/metrics/_classification.py:1272: UndefinedMetricWarning: Precision and F-score are ill-defined and being set to 0.0 in labels with no predicted samples. Use `zero_division` parameter to control this behavior.\n",
            "  _warn_prf(average, modifier, msg_start, len(result))\n"
          ]
        },
        {
          "output_type": "stream",
          "name": "stdout",
          "text": [
            "                                Overall               #               Fake                \n",
            "                   precision    recall      f1-score  #  precision    recall      f1-score\n",
            "Linear SVM         0.00         0.00        0.00      #  0.92         1.00         0.96\n",
            "I am in model\n"
          ]
        },
        {
          "output_type": "stream",
          "name": "stderr",
          "text": [
            "/usr/local/lib/python3.7/dist-packages/sklearn/metrics/_classification.py:1272: UndefinedMetricWarning: Precision is ill-defined and being set to 0.0 due to no predicted samples. Use `zero_division` parameter to control this behavior.\n",
            "  _warn_prf(average, modifier, msg_start, len(result))\n",
            "/usr/local/lib/python3.7/dist-packages/sklearn/metrics/_classification.py:1272: UndefinedMetricWarning: Precision and F-score are ill-defined and being set to 0.0 in labels with no predicted samples. Use `zero_division` parameter to control this behavior.\n",
            "  _warn_prf(average, modifier, msg_start, len(result))\n",
            "/usr/local/lib/python3.7/dist-packages/sklearn/feature_extraction/text.py:507: UserWarning: The parameter 'token_pattern' will not be used since 'tokenizer' is not None'\n",
            "  warnings.warn(\"The parameter 'token_pattern' will not be used\"\n",
            "/usr/local/lib/python3.7/dist-packages/sklearn/metrics/_classification.py:1272: UndefinedMetricWarning: Precision is ill-defined and being set to 0.0 due to no predicted samples. Use `zero_division` parameter to control this behavior.\n",
            "  _warn_prf(average, modifier, msg_start, len(result))\n",
            "/usr/local/lib/python3.7/dist-packages/sklearn/metrics/_classification.py:1272: UndefinedMetricWarning: Precision and F-score are ill-defined and being set to 0.0 in labels with no predicted samples. Use `zero_division` parameter to control this behavior.\n",
            "  _warn_prf(average, modifier, msg_start, len(result))\n"
          ]
        },
        {
          "output_type": "stream",
          "name": "stdout",
          "text": [
            "                                Overall               #               Fake                \n",
            "                   precision    recall      f1-score  #  precision    recall      f1-score\n",
            "Kernel SVM         0.00         0.00        0.00      #  0.92         1.00         0.96\n",
            "{'Logistic Regression': {'Accuracy': 92.0, 'Precision': 0.0, 'Recall': 0.0, 'F1 Score': 0.0}, 'Decision Tree': {'Accuracy': 92.0, 'Precision': 0.0, 'Recall': 0.0, 'F1 Score': 0.0}, 'Random Forest': {'Accuracy': 8.0, 'Precision': 8.0, 'Recall': 100.0, 'F1 Score': 14.81}, 'Naive Bayes': {'Accuracy': 20.0, 'Precision': 9.09, 'Recall': 100.0, 'F1 Score': 16.669999999999998}, 'KNN': {'Accuracy': 82.0, 'Precision': 0.0, 'Recall': 0.0, 'F1 Score': 0.0}, 'Linear SVM': {'Accuracy': 92.0, 'Precision': 0.0, 'Recall': 0.0, 'F1 Score': 0.0}, 'Kernel SVM': {'Accuracy': 92.0, 'Precision': 0.0, 'Recall': 0.0, 'F1 Score': 0.0}}\n",
            "trigram :\n",
            "I am in dataset split\n",
            "I am in model\n",
            "                                Overall               #               Fake                \n",
            "                   precision    recall      f1-score  #  precision    recall      f1-score\n",
            "Logistic Regression     0.00         0.00        0.00      #  0.92         1.00         0.96\n",
            "I am in model\n"
          ]
        },
        {
          "output_type": "stream",
          "name": "stderr",
          "text": [
            "/usr/local/lib/python3.7/dist-packages/sklearn/metrics/_classification.py:1272: UndefinedMetricWarning: Precision is ill-defined and being set to 0.0 due to no predicted samples. Use `zero_division` parameter to control this behavior.\n",
            "  _warn_prf(average, modifier, msg_start, len(result))\n",
            "/usr/local/lib/python3.7/dist-packages/sklearn/metrics/_classification.py:1272: UndefinedMetricWarning: Precision and F-score are ill-defined and being set to 0.0 in labels with no predicted samples. Use `zero_division` parameter to control this behavior.\n",
            "  _warn_prf(average, modifier, msg_start, len(result))\n"
          ]
        },
        {
          "output_type": "stream",
          "name": "stdout",
          "text": [
            "                                Overall               #               Fake                \n",
            "                   precision    recall      f1-score  #  precision    recall      f1-score\n",
            "Decision Tree      0.00         0.00        0.00      #  0.92         1.00         0.96\n",
            "I am in model\n"
          ]
        },
        {
          "output_type": "stream",
          "name": "stderr",
          "text": [
            "/usr/local/lib/python3.7/dist-packages/sklearn/metrics/_classification.py:1272: UndefinedMetricWarning: Precision and F-score are ill-defined and being set to 0.0 in labels with no predicted samples. Use `zero_division` parameter to control this behavior.\n",
            "  _warn_prf(average, modifier, msg_start, len(result))\n",
            "/usr/local/lib/python3.7/dist-packages/sklearn/metrics/_classification.py:1272: UndefinedMetricWarning: Precision is ill-defined and being set to 0.0 due to no predicted samples. Use `zero_division` parameter to control this behavior.\n",
            "  _warn_prf(average, modifier, msg_start, len(result))\n",
            "/usr/local/lib/python3.7/dist-packages/sklearn/metrics/_classification.py:1272: UndefinedMetricWarning: Precision and F-score are ill-defined and being set to 0.0 in labels with no predicted samples. Use `zero_division` parameter to control this behavior.\n",
            "  _warn_prf(average, modifier, msg_start, len(result))\n"
          ]
        },
        {
          "output_type": "stream",
          "name": "stdout",
          "text": [
            "                                Overall               #               Fake                \n",
            "                   precision    recall      f1-score  #  precision    recall      f1-score\n",
            "Random Forest      8.00         100.00        14.81      #  0.00         0.00         0.00\n",
            "I am in model\n",
            "                                Overall               #               Fake                \n",
            "                   precision    recall      f1-score  #  precision    recall      f1-score\n",
            "Naive Bayes        8.70         100.00        16.00      #  1.00         0.09         0.16\n",
            "I am in model\n",
            "                                Overall               #               Fake                \n",
            "                   precision    recall      f1-score  #  precision    recall      f1-score\n",
            "KNN                0.00         0.00        0.00      #  0.92         1.00         0.96\n",
            "I am in model\n"
          ]
        },
        {
          "output_type": "stream",
          "name": "stderr",
          "text": [
            "/usr/local/lib/python3.7/dist-packages/sklearn/metrics/_classification.py:1272: UndefinedMetricWarning: Precision is ill-defined and being set to 0.0 due to no predicted samples. Use `zero_division` parameter to control this behavior.\n",
            "  _warn_prf(average, modifier, msg_start, len(result))\n",
            "/usr/local/lib/python3.7/dist-packages/sklearn/metrics/_classification.py:1272: UndefinedMetricWarning: Precision and F-score are ill-defined and being set to 0.0 in labels with no predicted samples. Use `zero_division` parameter to control this behavior.\n",
            "  _warn_prf(average, modifier, msg_start, len(result))\n"
          ]
        },
        {
          "output_type": "stream",
          "name": "stdout",
          "text": [
            "                                Overall               #               Fake                \n",
            "                   precision    recall      f1-score  #  precision    recall      f1-score\n",
            "Linear SVM         0.00         0.00        0.00      #  0.92         1.00         0.96\n",
            "I am in model\n"
          ]
        },
        {
          "output_type": "stream",
          "name": "stderr",
          "text": [
            "/usr/local/lib/python3.7/dist-packages/sklearn/metrics/_classification.py:1272: UndefinedMetricWarning: Precision is ill-defined and being set to 0.0 due to no predicted samples. Use `zero_division` parameter to control this behavior.\n",
            "  _warn_prf(average, modifier, msg_start, len(result))\n",
            "/usr/local/lib/python3.7/dist-packages/sklearn/metrics/_classification.py:1272: UndefinedMetricWarning: Precision and F-score are ill-defined and being set to 0.0 in labels with no predicted samples. Use `zero_division` parameter to control this behavior.\n",
            "  _warn_prf(average, modifier, msg_start, len(result))\n",
            "/usr/local/lib/python3.7/dist-packages/sklearn/feature_extraction/text.py:507: UserWarning: The parameter 'token_pattern' will not be used since 'tokenizer' is not None'\n",
            "  warnings.warn(\"The parameter 'token_pattern' will not be used\"\n",
            "/usr/local/lib/python3.7/dist-packages/sklearn/metrics/_classification.py:1272: UndefinedMetricWarning: Precision is ill-defined and being set to 0.0 due to no predicted samples. Use `zero_division` parameter to control this behavior.\n",
            "  _warn_prf(average, modifier, msg_start, len(result))\n",
            "/usr/local/lib/python3.7/dist-packages/sklearn/metrics/_classification.py:1272: UndefinedMetricWarning: Precision and F-score are ill-defined and being set to 0.0 in labels with no predicted samples. Use `zero_division` parameter to control this behavior.\n",
            "  _warn_prf(average, modifier, msg_start, len(result))\n"
          ]
        },
        {
          "output_type": "stream",
          "name": "stdout",
          "text": [
            "                                Overall               #               Fake                \n",
            "                   precision    recall      f1-score  #  precision    recall      f1-score\n",
            "Kernel SVM         0.00         0.00        0.00      #  0.92         1.00         0.96\n",
            "{'Logistic Regression': {'Accuracy': 92.0, 'Precision': 0.0, 'Recall': 0.0, 'F1 Score': 0.0}, 'Decision Tree': {'Accuracy': 92.0, 'Precision': 0.0, 'Recall': 0.0, 'F1 Score': 0.0}, 'Random Forest': {'Accuracy': 8.0, 'Precision': 8.0, 'Recall': 100.0, 'F1 Score': 14.81}, 'Naive Bayes': {'Accuracy': 16.0, 'Precision': 8.7, 'Recall': 100.0, 'F1 Score': 16.0}, 'KNN': {'Accuracy': 92.0, 'Precision': 0.0, 'Recall': 0.0, 'F1 Score': 0.0}, 'Linear SVM': {'Accuracy': 92.0, 'Precision': 0.0, 'Recall': 0.0, 'F1 Score': 0.0}, 'Kernel SVM': {'Accuracy': 92.0, 'Precision': 0.0, 'Recall': 0.0, 'F1 Score': 0.0}}\n",
            "u_b_t :\n",
            "I am in dataset split\n",
            "I am in model\n",
            "                                Overall               #               Fake                \n",
            "                   precision    recall      f1-score  #  precision    recall      f1-score\n",
            "Logistic Regression     0.00         0.00        0.00      #  0.92         1.00         0.96\n",
            "I am in model\n",
            "                                Overall               #               Fake                \n",
            "                   precision    recall      f1-score  #  precision    recall      f1-score\n",
            "Decision Tree      0.00         0.00        0.00      #  0.92         0.98         0.95\n",
            "I am in model\n"
          ]
        },
        {
          "output_type": "stream",
          "name": "stderr",
          "text": [
            "/usr/local/lib/python3.7/dist-packages/sklearn/metrics/_classification.py:1272: UndefinedMetricWarning: Precision and F-score are ill-defined and being set to 0.0 in labels with no predicted samples. Use `zero_division` parameter to control this behavior.\n",
            "  _warn_prf(average, modifier, msg_start, len(result))\n"
          ]
        },
        {
          "output_type": "stream",
          "name": "stdout",
          "text": [
            "                                Overall               #               Fake                \n",
            "                   precision    recall      f1-score  #  precision    recall      f1-score\n",
            "Random Forest      8.00         100.00        14.81      #  0.00         0.00         0.00\n",
            "I am in model\n",
            "                                Overall               #               Fake                \n",
            "                   precision    recall      f1-score  #  precision    recall      f1-score\n",
            "Naive Bayes        0.00         0.00        0.00      #  0.91         0.89         0.90\n",
            "I am in model\n"
          ]
        },
        {
          "output_type": "stream",
          "name": "stderr",
          "text": [
            "/usr/local/lib/python3.7/dist-packages/sklearn/metrics/_classification.py:1272: UndefinedMetricWarning: Precision is ill-defined and being set to 0.0 due to no predicted samples. Use `zero_division` parameter to control this behavior.\n",
            "  _warn_prf(average, modifier, msg_start, len(result))\n",
            "/usr/local/lib/python3.7/dist-packages/sklearn/metrics/_classification.py:1272: UndefinedMetricWarning: Precision and F-score are ill-defined and being set to 0.0 in labels with no predicted samples. Use `zero_division` parameter to control this behavior.\n",
            "  _warn_prf(average, modifier, msg_start, len(result))\n"
          ]
        },
        {
          "output_type": "stream",
          "name": "stdout",
          "text": [
            "                                Overall               #               Fake                \n",
            "                   precision    recall      f1-score  #  precision    recall      f1-score\n",
            "KNN                0.00         0.00        0.00      #  0.92         1.00         0.96\n",
            "I am in model\n"
          ]
        },
        {
          "output_type": "stream",
          "name": "stderr",
          "text": [
            "/usr/local/lib/python3.7/dist-packages/sklearn/metrics/_classification.py:1272: UndefinedMetricWarning: Precision is ill-defined and being set to 0.0 due to no predicted samples. Use `zero_division` parameter to control this behavior.\n",
            "  _warn_prf(average, modifier, msg_start, len(result))\n",
            "/usr/local/lib/python3.7/dist-packages/sklearn/metrics/_classification.py:1272: UndefinedMetricWarning: Precision and F-score are ill-defined and being set to 0.0 in labels with no predicted samples. Use `zero_division` parameter to control this behavior.\n",
            "  _warn_prf(average, modifier, msg_start, len(result))\n"
          ]
        },
        {
          "output_type": "stream",
          "name": "stdout",
          "text": [
            "                                Overall               #               Fake                \n",
            "                   precision    recall      f1-score  #  precision    recall      f1-score\n",
            "Linear SVM         0.00         0.00        0.00      #  0.92         1.00         0.96\n",
            "I am in model\n"
          ]
        },
        {
          "output_type": "stream",
          "name": "stderr",
          "text": [
            "/usr/local/lib/python3.7/dist-packages/sklearn/metrics/_classification.py:1272: UndefinedMetricWarning: Precision is ill-defined and being set to 0.0 due to no predicted samples. Use `zero_division` parameter to control this behavior.\n",
            "  _warn_prf(average, modifier, msg_start, len(result))\n",
            "/usr/local/lib/python3.7/dist-packages/sklearn/metrics/_classification.py:1272: UndefinedMetricWarning: Precision and F-score are ill-defined and being set to 0.0 in labels with no predicted samples. Use `zero_division` parameter to control this behavior.\n",
            "  _warn_prf(average, modifier, msg_start, len(result))\n",
            "/usr/local/lib/python3.7/dist-packages/sklearn/metrics/_classification.py:1272: UndefinedMetricWarning: Precision is ill-defined and being set to 0.0 due to no predicted samples. Use `zero_division` parameter to control this behavior.\n",
            "  _warn_prf(average, modifier, msg_start, len(result))\n",
            "/usr/local/lib/python3.7/dist-packages/sklearn/metrics/_classification.py:1272: UndefinedMetricWarning: Precision and F-score are ill-defined and being set to 0.0 in labels with no predicted samples. Use `zero_division` parameter to control this behavior.\n",
            "  _warn_prf(average, modifier, msg_start, len(result))\n"
          ]
        },
        {
          "output_type": "stream",
          "name": "stdout",
          "text": [
            "                                Overall               #               Fake                \n",
            "                   precision    recall      f1-score  #  precision    recall      f1-score\n",
            "Kernel SVM         0.00         0.00        0.00      #  0.92         1.00         0.96\n",
            "{'Logistic Regression': {'Accuracy': 92.0, 'Precision': 0.0, 'Recall': 0.0, 'F1 Score': 0.0}, 'Decision Tree': {'Accuracy': 90.0, 'Precision': 0.0, 'Recall': 0.0, 'F1 Score': 0.0}, 'Random Forest': {'Accuracy': 8.0, 'Precision': 8.0, 'Recall': 100.0, 'F1 Score': 14.81}, 'Naive Bayes': {'Accuracy': 82.0, 'Precision': 0.0, 'Recall': 0.0, 'F1 Score': 0.0}, 'KNN': {'Accuracy': 92.0, 'Precision': 0.0, 'Recall': 0.0, 'F1 Score': 0.0}, 'Linear SVM': {'Accuracy': 92.0, 'Precision': 0.0, 'Recall': 0.0, 'F1 Score': 0.0}, 'Kernel SVM': {'Accuracy': 92.0, 'Precision': 0.0, 'Recall': 0.0, 'F1 Score': 0.0}}\n",
            "char_3 :\n",
            "I am in dataset split\n",
            "I am in model\n",
            "                                Overall               #               Fake                \n",
            "                   precision    recall      f1-score  #  precision    recall      f1-score\n",
            "Logistic Regression     0.00         0.00        0.00      #  0.92         1.00         0.96\n",
            "I am in model\n",
            "                                Overall               #               Fake                \n",
            "                   precision    recall      f1-score  #  precision    recall      f1-score\n",
            "Decision Tree      0.00         0.00        0.00      #  0.92         0.98         0.95\n",
            "I am in model\n",
            "                                Overall               #               Fake                \n",
            "                   precision    recall      f1-score  #  precision    recall      f1-score\n",
            "Random Forest      11.11         25.00        15.38      #  0.93         0.83         0.87\n",
            "I am in model\n",
            "                                Overall               #               Fake                \n",
            "                   precision    recall      f1-score  #  precision    recall      f1-score\n",
            "Naive Bayes        0.00         0.00        0.00      #  0.92         1.00         0.96\n",
            "I am in model\n"
          ]
        },
        {
          "output_type": "stream",
          "name": "stderr",
          "text": [
            "/usr/local/lib/python3.7/dist-packages/sklearn/metrics/_classification.py:1272: UndefinedMetricWarning: Precision is ill-defined and being set to 0.0 due to no predicted samples. Use `zero_division` parameter to control this behavior.\n",
            "  _warn_prf(average, modifier, msg_start, len(result))\n",
            "/usr/local/lib/python3.7/dist-packages/sklearn/metrics/_classification.py:1272: UndefinedMetricWarning: Precision and F-score are ill-defined and being set to 0.0 in labels with no predicted samples. Use `zero_division` parameter to control this behavior.\n",
            "  _warn_prf(average, modifier, msg_start, len(result))\n"
          ]
        },
        {
          "output_type": "stream",
          "name": "stdout",
          "text": [
            "                                Overall               #               Fake                \n",
            "                   precision    recall      f1-score  #  precision    recall      f1-score\n",
            "KNN                0.00         0.00        0.00      #  0.92         0.98         0.95\n",
            "I am in model\n"
          ]
        },
        {
          "output_type": "stream",
          "name": "stderr",
          "text": [
            "/usr/local/lib/python3.7/dist-packages/sklearn/metrics/_classification.py:1272: UndefinedMetricWarning: Precision is ill-defined and being set to 0.0 due to no predicted samples. Use `zero_division` parameter to control this behavior.\n",
            "  _warn_prf(average, modifier, msg_start, len(result))\n",
            "/usr/local/lib/python3.7/dist-packages/sklearn/metrics/_classification.py:1272: UndefinedMetricWarning: Precision and F-score are ill-defined and being set to 0.0 in labels with no predicted samples. Use `zero_division` parameter to control this behavior.\n",
            "  _warn_prf(average, modifier, msg_start, len(result))\n"
          ]
        },
        {
          "output_type": "stream",
          "name": "stdout",
          "text": [
            "                                Overall               #               Fake                \n",
            "                   precision    recall      f1-score  #  precision    recall      f1-score\n",
            "Linear SVM         0.00         0.00        0.00      #  0.92         1.00         0.96\n",
            "I am in model\n"
          ]
        },
        {
          "output_type": "stream",
          "name": "stderr",
          "text": [
            "/usr/local/lib/python3.7/dist-packages/sklearn/metrics/_classification.py:1272: UndefinedMetricWarning: Precision is ill-defined and being set to 0.0 due to no predicted samples. Use `zero_division` parameter to control this behavior.\n",
            "  _warn_prf(average, modifier, msg_start, len(result))\n",
            "/usr/local/lib/python3.7/dist-packages/sklearn/metrics/_classification.py:1272: UndefinedMetricWarning: Precision and F-score are ill-defined and being set to 0.0 in labels with no predicted samples. Use `zero_division` parameter to control this behavior.\n",
            "  _warn_prf(average, modifier, msg_start, len(result))\n",
            "/usr/local/lib/python3.7/dist-packages/sklearn/metrics/_classification.py:1272: UndefinedMetricWarning: Precision is ill-defined and being set to 0.0 due to no predicted samples. Use `zero_division` parameter to control this behavior.\n",
            "  _warn_prf(average, modifier, msg_start, len(result))\n",
            "/usr/local/lib/python3.7/dist-packages/sklearn/metrics/_classification.py:1272: UndefinedMetricWarning: Precision and F-score are ill-defined and being set to 0.0 in labels with no predicted samples. Use `zero_division` parameter to control this behavior.\n",
            "  _warn_prf(average, modifier, msg_start, len(result))\n"
          ]
        },
        {
          "output_type": "stream",
          "name": "stdout",
          "text": [
            "                                Overall               #               Fake                \n",
            "                   precision    recall      f1-score  #  precision    recall      f1-score\n",
            "Kernel SVM         0.00         0.00        0.00      #  0.92         1.00         0.96\n",
            "{'Logistic Regression': {'Accuracy': 92.0, 'Precision': 0.0, 'Recall': 0.0, 'F1 Score': 0.0}, 'Decision Tree': {'Accuracy': 90.0, 'Precision': 0.0, 'Recall': 0.0, 'F1 Score': 0.0}, 'Random Forest': {'Accuracy': 78.0, 'Precision': 11.110000000000001, 'Recall': 25.0, 'F1 Score': 15.379999999999999}, 'Naive Bayes': {'Accuracy': 92.0, 'Precision': 0.0, 'Recall': 0.0, 'F1 Score': 0.0}, 'KNN': {'Accuracy': 90.0, 'Precision': 0.0, 'Recall': 0.0, 'F1 Score': 0.0}, 'Linear SVM': {'Accuracy': 92.0, 'Precision': 0.0, 'Recall': 0.0, 'F1 Score': 0.0}, 'Kernel SVM': {'Accuracy': 92.0, 'Precision': 0.0, 'Recall': 0.0, 'F1 Score': 0.0}}\n",
            "char_4 :\n",
            "I am in dataset split\n",
            "I am in model\n",
            "                                Overall               #               Fake                \n",
            "                   precision    recall      f1-score  #  precision    recall      f1-score\n",
            "Logistic Regression     0.00         0.00        0.00      #  0.92         1.00         0.96\n",
            "I am in model\n",
            "                                Overall               #               Fake                \n",
            "                   precision    recall      f1-score  #  precision    recall      f1-score\n",
            "Decision Tree      0.00         0.00        0.00      #  0.92         0.98         0.95\n",
            "I am in model\n",
            "                                Overall               #               Fake                \n",
            "                   precision    recall      f1-score  #  precision    recall      f1-score\n",
            "Random Forest      10.81         100.00        19.51      #  1.00         0.28         0.44\n",
            "I am in model\n",
            "                                Overall               #               Fake                \n",
            "                   precision    recall      f1-score  #  precision    recall      f1-score\n",
            "Naive Bayes        0.00         0.00        0.00      #  0.92         1.00         0.96\n",
            "I am in model\n"
          ]
        },
        {
          "output_type": "stream",
          "name": "stderr",
          "text": [
            "/usr/local/lib/python3.7/dist-packages/sklearn/metrics/_classification.py:1272: UndefinedMetricWarning: Precision is ill-defined and being set to 0.0 due to no predicted samples. Use `zero_division` parameter to control this behavior.\n",
            "  _warn_prf(average, modifier, msg_start, len(result))\n",
            "/usr/local/lib/python3.7/dist-packages/sklearn/metrics/_classification.py:1272: UndefinedMetricWarning: Precision and F-score are ill-defined and being set to 0.0 in labels with no predicted samples. Use `zero_division` parameter to control this behavior.\n",
            "  _warn_prf(average, modifier, msg_start, len(result))\n",
            "/usr/local/lib/python3.7/dist-packages/sklearn/metrics/_classification.py:1272: UndefinedMetricWarning: Precision is ill-defined and being set to 0.0 due to no predicted samples. Use `zero_division` parameter to control this behavior.\n",
            "  _warn_prf(average, modifier, msg_start, len(result))\n",
            "/usr/local/lib/python3.7/dist-packages/sklearn/metrics/_classification.py:1272: UndefinedMetricWarning: Precision and F-score are ill-defined and being set to 0.0 in labels with no predicted samples. Use `zero_division` parameter to control this behavior.\n",
            "  _warn_prf(average, modifier, msg_start, len(result))\n"
          ]
        },
        {
          "output_type": "stream",
          "name": "stdout",
          "text": [
            "                                Overall               #               Fake                \n",
            "                   precision    recall      f1-score  #  precision    recall      f1-score\n",
            "KNN                0.00         0.00        0.00      #  0.92         1.00         0.96\n",
            "I am in model\n"
          ]
        },
        {
          "output_type": "stream",
          "name": "stderr",
          "text": [
            "/usr/local/lib/python3.7/dist-packages/sklearn/metrics/_classification.py:1272: UndefinedMetricWarning: Precision is ill-defined and being set to 0.0 due to no predicted samples. Use `zero_division` parameter to control this behavior.\n",
            "  _warn_prf(average, modifier, msg_start, len(result))\n",
            "/usr/local/lib/python3.7/dist-packages/sklearn/metrics/_classification.py:1272: UndefinedMetricWarning: Precision and F-score are ill-defined and being set to 0.0 in labels with no predicted samples. Use `zero_division` parameter to control this behavior.\n",
            "  _warn_prf(average, modifier, msg_start, len(result))\n"
          ]
        },
        {
          "output_type": "stream",
          "name": "stdout",
          "text": [
            "                                Overall               #               Fake                \n",
            "                   precision    recall      f1-score  #  precision    recall      f1-score\n",
            "Linear SVM         0.00         0.00        0.00      #  0.92         1.00         0.96\n",
            "I am in model\n"
          ]
        },
        {
          "output_type": "stream",
          "name": "stderr",
          "text": [
            "/usr/local/lib/python3.7/dist-packages/sklearn/metrics/_classification.py:1272: UndefinedMetricWarning: Precision is ill-defined and being set to 0.0 due to no predicted samples. Use `zero_division` parameter to control this behavior.\n",
            "  _warn_prf(average, modifier, msg_start, len(result))\n",
            "/usr/local/lib/python3.7/dist-packages/sklearn/metrics/_classification.py:1272: UndefinedMetricWarning: Precision and F-score are ill-defined and being set to 0.0 in labels with no predicted samples. Use `zero_division` parameter to control this behavior.\n",
            "  _warn_prf(average, modifier, msg_start, len(result))\n"
          ]
        },
        {
          "output_type": "stream",
          "name": "stdout",
          "text": [
            "                                Overall               #               Fake                \n",
            "                   precision    recall      f1-score  #  precision    recall      f1-score\n",
            "Kernel SVM         0.00         0.00        0.00      #  0.92         1.00         0.96\n",
            "{'Logistic Regression': {'Accuracy': 92.0, 'Precision': 0.0, 'Recall': 0.0, 'F1 Score': 0.0}, 'Decision Tree': {'Accuracy': 90.0, 'Precision': 0.0, 'Recall': 0.0, 'F1 Score': 0.0}, 'Random Forest': {'Accuracy': 34.0, 'Precision': 10.81, 'Recall': 100.0, 'F1 Score': 19.509999999999998}, 'Naive Bayes': {'Accuracy': 92.0, 'Precision': 0.0, 'Recall': 0.0, 'F1 Score': 0.0}, 'KNN': {'Accuracy': 92.0, 'Precision': 0.0, 'Recall': 0.0, 'F1 Score': 0.0}, 'Linear SVM': {'Accuracy': 92.0, 'Precision': 0.0, 'Recall': 0.0, 'F1 Score': 0.0}, 'Kernel SVM': {'Accuracy': 92.0, 'Precision': 0.0, 'Recall': 0.0, 'F1 Score': 0.0}}\n",
            "char_5 :\n",
            "I am in dataset split\n",
            "I am in model\n"
          ]
        },
        {
          "output_type": "stream",
          "name": "stderr",
          "text": [
            "/usr/local/lib/python3.7/dist-packages/sklearn/metrics/_classification.py:1272: UndefinedMetricWarning: Precision is ill-defined and being set to 0.0 due to no predicted samples. Use `zero_division` parameter to control this behavior.\n",
            "  _warn_prf(average, modifier, msg_start, len(result))\n",
            "/usr/local/lib/python3.7/dist-packages/sklearn/metrics/_classification.py:1272: UndefinedMetricWarning: Precision and F-score are ill-defined and being set to 0.0 in labels with no predicted samples. Use `zero_division` parameter to control this behavior.\n",
            "  _warn_prf(average, modifier, msg_start, len(result))\n"
          ]
        },
        {
          "output_type": "stream",
          "name": "stdout",
          "text": [
            "                                Overall               #               Fake                \n",
            "                   precision    recall      f1-score  #  precision    recall      f1-score\n",
            "Logistic Regression     0.00         0.00        0.00      #  0.92         1.00         0.96\n",
            "I am in model\n",
            "                                Overall               #               Fake                \n",
            "                   precision    recall      f1-score  #  precision    recall      f1-score\n",
            "Decision Tree      0.00         0.00        0.00      #  0.92         0.98         0.95\n",
            "I am in model\n",
            "                                Overall               #               Fake                \n",
            "                   precision    recall      f1-score  #  precision    recall      f1-score\n",
            "Random Forest      8.51         100.00        15.69      #  1.00         0.07         0.12\n",
            "I am in model\n",
            "                                Overall               #               Fake                \n",
            "                   precision    recall      f1-score  #  precision    recall      f1-score\n",
            "Naive Bayes        0.00         0.00        0.00      #  0.92         0.98         0.95\n",
            "I am in model\n"
          ]
        },
        {
          "output_type": "stream",
          "name": "stderr",
          "text": [
            "/usr/local/lib/python3.7/dist-packages/sklearn/metrics/_classification.py:1272: UndefinedMetricWarning: Precision is ill-defined and being set to 0.0 due to no predicted samples. Use `zero_division` parameter to control this behavior.\n",
            "  _warn_prf(average, modifier, msg_start, len(result))\n",
            "/usr/local/lib/python3.7/dist-packages/sklearn/metrics/_classification.py:1272: UndefinedMetricWarning: Precision and F-score are ill-defined and being set to 0.0 in labels with no predicted samples. Use `zero_division` parameter to control this behavior.\n",
            "  _warn_prf(average, modifier, msg_start, len(result))\n"
          ]
        },
        {
          "output_type": "stream",
          "name": "stdout",
          "text": [
            "                                Overall               #               Fake                \n",
            "                   precision    recall      f1-score  #  precision    recall      f1-score\n",
            "KNN                0.00         0.00        0.00      #  0.92         1.00         0.96\n",
            "I am in model\n"
          ]
        },
        {
          "output_type": "stream",
          "name": "stderr",
          "text": [
            "/usr/local/lib/python3.7/dist-packages/sklearn/metrics/_classification.py:1272: UndefinedMetricWarning: Precision is ill-defined and being set to 0.0 due to no predicted samples. Use `zero_division` parameter to control this behavior.\n",
            "  _warn_prf(average, modifier, msg_start, len(result))\n",
            "/usr/local/lib/python3.7/dist-packages/sklearn/metrics/_classification.py:1272: UndefinedMetricWarning: Precision and F-score are ill-defined and being set to 0.0 in labels with no predicted samples. Use `zero_division` parameter to control this behavior.\n",
            "  _warn_prf(average, modifier, msg_start, len(result))\n"
          ]
        },
        {
          "output_type": "stream",
          "name": "stdout",
          "text": [
            "                                Overall               #               Fake                \n",
            "                   precision    recall      f1-score  #  precision    recall      f1-score\n",
            "Linear SVM         0.00         0.00        0.00      #  0.92         1.00         0.96\n",
            "I am in model\n"
          ]
        },
        {
          "output_type": "stream",
          "name": "stderr",
          "text": [
            "/usr/local/lib/python3.7/dist-packages/sklearn/metrics/_classification.py:1272: UndefinedMetricWarning: Precision is ill-defined and being set to 0.0 due to no predicted samples. Use `zero_division` parameter to control this behavior.\n",
            "  _warn_prf(average, modifier, msg_start, len(result))\n",
            "/usr/local/lib/python3.7/dist-packages/sklearn/metrics/_classification.py:1272: UndefinedMetricWarning: Precision and F-score are ill-defined and being set to 0.0 in labels with no predicted samples. Use `zero_division` parameter to control this behavior.\n",
            "  _warn_prf(average, modifier, msg_start, len(result))\n"
          ]
        },
        {
          "output_type": "stream",
          "name": "stdout",
          "text": [
            "                                Overall               #               Fake                \n",
            "                   precision    recall      f1-score  #  precision    recall      f1-score\n",
            "Kernel SVM         0.00         0.00        0.00      #  0.92         1.00         0.96\n",
            "{'Logistic Regression': {'Accuracy': 92.0, 'Precision': 0.0, 'Recall': 0.0, 'F1 Score': 0.0}, 'Decision Tree': {'Accuracy': 90.0, 'Precision': 0.0, 'Recall': 0.0, 'F1 Score': 0.0}, 'Random Forest': {'Accuracy': 14.000000000000002, 'Precision': 8.51, 'Recall': 100.0, 'F1 Score': 15.690000000000001}, 'Naive Bayes': {'Accuracy': 90.0, 'Precision': 0.0, 'Recall': 0.0, 'F1 Score': 0.0}, 'KNN': {'Accuracy': 92.0, 'Precision': 0.0, 'Recall': 0.0, 'F1 Score': 0.0}, 'Linear SVM': {'Accuracy': 92.0, 'Precision': 0.0, 'Recall': 0.0, 'F1 Score': 0.0}, 'Kernel SVM': {'Accuracy': 92.0, 'Precision': 0.0, 'Recall': 0.0, 'F1 Score': 0.0}}\n",
            "char_3_4_5 :\n",
            "I am in dataset split\n",
            "I am in model\n"
          ]
        },
        {
          "output_type": "stream",
          "name": "stderr",
          "text": [
            "/usr/local/lib/python3.7/dist-packages/sklearn/metrics/_classification.py:1272: UndefinedMetricWarning: Precision is ill-defined and being set to 0.0 due to no predicted samples. Use `zero_division` parameter to control this behavior.\n",
            "  _warn_prf(average, modifier, msg_start, len(result))\n",
            "/usr/local/lib/python3.7/dist-packages/sklearn/metrics/_classification.py:1272: UndefinedMetricWarning: Precision and F-score are ill-defined and being set to 0.0 in labels with no predicted samples. Use `zero_division` parameter to control this behavior.\n",
            "  _warn_prf(average, modifier, msg_start, len(result))\n"
          ]
        },
        {
          "output_type": "stream",
          "name": "stdout",
          "text": [
            "                                Overall               #               Fake                \n",
            "                   precision    recall      f1-score  #  precision    recall      f1-score\n",
            "Logistic Regression     0.00         0.00        0.00      #  0.92         1.00         0.96\n",
            "I am in model\n",
            "                                Overall               #               Fake                \n",
            "                   precision    recall      f1-score  #  precision    recall      f1-score\n",
            "Decision Tree      0.00         0.00        0.00      #  0.92         0.96         0.94\n",
            "I am in model\n",
            "                                Overall               #               Fake                \n",
            "                   precision    recall      f1-score  #  precision    recall      f1-score\n",
            "Random Forest      17.65         75.00        28.57      #  0.97         0.70         0.81\n",
            "I am in model\n"
          ]
        },
        {
          "output_type": "stream",
          "name": "stderr",
          "text": [
            "/usr/local/lib/python3.7/dist-packages/sklearn/metrics/_classification.py:1272: UndefinedMetricWarning: Precision is ill-defined and being set to 0.0 due to no predicted samples. Use `zero_division` parameter to control this behavior.\n",
            "  _warn_prf(average, modifier, msg_start, len(result))\n",
            "/usr/local/lib/python3.7/dist-packages/sklearn/metrics/_classification.py:1272: UndefinedMetricWarning: Precision and F-score are ill-defined and being set to 0.0 in labels with no predicted samples. Use `zero_division` parameter to control this behavior.\n",
            "  _warn_prf(average, modifier, msg_start, len(result))\n"
          ]
        },
        {
          "output_type": "stream",
          "name": "stdout",
          "text": [
            "                                Overall               #               Fake                \n",
            "                   precision    recall      f1-score  #  precision    recall      f1-score\n",
            "Naive Bayes        0.00         0.00        0.00      #  0.92         1.00         0.96\n",
            "I am in model\n"
          ]
        },
        {
          "output_type": "stream",
          "name": "stderr",
          "text": [
            "/usr/local/lib/python3.7/dist-packages/sklearn/metrics/_classification.py:1272: UndefinedMetricWarning: Precision is ill-defined and being set to 0.0 due to no predicted samples. Use `zero_division` parameter to control this behavior.\n",
            "  _warn_prf(average, modifier, msg_start, len(result))\n",
            "/usr/local/lib/python3.7/dist-packages/sklearn/metrics/_classification.py:1272: UndefinedMetricWarning: Precision and F-score are ill-defined and being set to 0.0 in labels with no predicted samples. Use `zero_division` parameter to control this behavior.\n",
            "  _warn_prf(average, modifier, msg_start, len(result))\n"
          ]
        },
        {
          "output_type": "stream",
          "name": "stdout",
          "text": [
            "                                Overall               #               Fake                \n",
            "                   precision    recall      f1-score  #  precision    recall      f1-score\n",
            "KNN                0.00         0.00        0.00      #  0.92         1.00         0.96\n",
            "I am in model\n"
          ]
        },
        {
          "output_type": "stream",
          "name": "stderr",
          "text": [
            "/usr/local/lib/python3.7/dist-packages/sklearn/metrics/_classification.py:1272: UndefinedMetricWarning: Precision is ill-defined and being set to 0.0 due to no predicted samples. Use `zero_division` parameter to control this behavior.\n",
            "  _warn_prf(average, modifier, msg_start, len(result))\n",
            "/usr/local/lib/python3.7/dist-packages/sklearn/metrics/_classification.py:1272: UndefinedMetricWarning: Precision and F-score are ill-defined and being set to 0.0 in labels with no predicted samples. Use `zero_division` parameter to control this behavior.\n",
            "  _warn_prf(average, modifier, msg_start, len(result))\n"
          ]
        },
        {
          "output_type": "stream",
          "name": "stdout",
          "text": [
            "                                Overall               #               Fake                \n",
            "                   precision    recall      f1-score  #  precision    recall      f1-score\n",
            "Linear SVM         0.00         0.00        0.00      #  0.92         1.00         0.96\n",
            "I am in model\n"
          ]
        },
        {
          "output_type": "stream",
          "name": "stderr",
          "text": [
            "/usr/local/lib/python3.7/dist-packages/sklearn/metrics/_classification.py:1272: UndefinedMetricWarning: Precision is ill-defined and being set to 0.0 due to no predicted samples. Use `zero_division` parameter to control this behavior.\n",
            "  _warn_prf(average, modifier, msg_start, len(result))\n",
            "/usr/local/lib/python3.7/dist-packages/sklearn/metrics/_classification.py:1272: UndefinedMetricWarning: Precision and F-score are ill-defined and being set to 0.0 in labels with no predicted samples. Use `zero_division` parameter to control this behavior.\n",
            "  _warn_prf(average, modifier, msg_start, len(result))\n",
            "/usr/local/lib/python3.7/dist-packages/sklearn/feature_extraction/text.py:507: UserWarning: The parameter 'token_pattern' will not be used since 'tokenizer' is not None'\n",
            "  warnings.warn(\"The parameter 'token_pattern' will not be used\"\n"
          ]
        },
        {
          "output_type": "stream",
          "name": "stdout",
          "text": [
            "                                Overall               #               Fake                \n",
            "                   precision    recall      f1-score  #  precision    recall      f1-score\n",
            "Kernel SVM         0.00         0.00        0.00      #  0.92         1.00         0.96\n",
            "{'Logistic Regression': {'Accuracy': 92.0, 'Precision': 0.0, 'Recall': 0.0, 'F1 Score': 0.0}, 'Decision Tree': {'Accuracy': 88.0, 'Precision': 0.0, 'Recall': 0.0, 'F1 Score': 0.0}, 'Random Forest': {'Accuracy': 70.0, 'Precision': 17.65, 'Recall': 75.0, 'F1 Score': 28.57}, 'Naive Bayes': {'Accuracy': 92.0, 'Precision': 0.0, 'Recall': 0.0, 'F1 Score': 0.0}, 'KNN': {'Accuracy': 92.0, 'Precision': 0.0, 'Recall': 0.0, 'F1 Score': 0.0}, 'Linear SVM': {'Accuracy': 92.0, 'Precision': 0.0, 'Recall': 0.0, 'F1 Score': 0.0}, 'Kernel SVM': {'Accuracy': 92.0, 'Precision': 0.0, 'Recall': 0.0, 'F1 Score': 0.0}}\n",
            "lexical :\n",
            "I am in dataset split\n",
            "I am in model\n"
          ]
        },
        {
          "output_type": "stream",
          "name": "stderr",
          "text": [
            "/usr/local/lib/python3.7/dist-packages/sklearn/metrics/_classification.py:1272: UndefinedMetricWarning: Precision is ill-defined and being set to 0.0 due to no predicted samples. Use `zero_division` parameter to control this behavior.\n",
            "  _warn_prf(average, modifier, msg_start, len(result))\n",
            "/usr/local/lib/python3.7/dist-packages/sklearn/metrics/_classification.py:1272: UndefinedMetricWarning: Precision and F-score are ill-defined and being set to 0.0 in labels with no predicted samples. Use `zero_division` parameter to control this behavior.\n",
            "  _warn_prf(average, modifier, msg_start, len(result))\n"
          ]
        },
        {
          "output_type": "stream",
          "name": "stdout",
          "text": [
            "                                Overall               #               Fake                \n",
            "                   precision    recall      f1-score  #  precision    recall      f1-score\n",
            "Logistic Regression     0.00         0.00        0.00      #  0.92         1.00         0.96\n",
            "I am in model\n",
            "                                Overall               #               Fake                \n",
            "                   precision    recall      f1-score  #  precision    recall      f1-score\n",
            "Decision Tree      0.00         0.00        0.00      #  0.92         0.96         0.94\n",
            "I am in model\n",
            "                                Overall               #               Fake                \n",
            "                   precision    recall      f1-score  #  precision    recall      f1-score\n",
            "Random Forest      11.11         50.00        18.18      #  0.94         0.65         0.77\n",
            "I am in model\n",
            "                                Overall               #               Fake                \n",
            "                   precision    recall      f1-score  #  precision    recall      f1-score\n",
            "Naive Bayes        0.00         0.00        0.00      #  0.92         1.00         0.96\n",
            "I am in model\n"
          ]
        },
        {
          "output_type": "stream",
          "name": "stderr",
          "text": [
            "/usr/local/lib/python3.7/dist-packages/sklearn/metrics/_classification.py:1272: UndefinedMetricWarning: Precision is ill-defined and being set to 0.0 due to no predicted samples. Use `zero_division` parameter to control this behavior.\n",
            "  _warn_prf(average, modifier, msg_start, len(result))\n",
            "/usr/local/lib/python3.7/dist-packages/sklearn/metrics/_classification.py:1272: UndefinedMetricWarning: Precision and F-score are ill-defined and being set to 0.0 in labels with no predicted samples. Use `zero_division` parameter to control this behavior.\n",
            "  _warn_prf(average, modifier, msg_start, len(result))\n",
            "/usr/local/lib/python3.7/dist-packages/sklearn/metrics/_classification.py:1272: UndefinedMetricWarning: Precision is ill-defined and being set to 0.0 due to no predicted samples. Use `zero_division` parameter to control this behavior.\n",
            "  _warn_prf(average, modifier, msg_start, len(result))\n",
            "/usr/local/lib/python3.7/dist-packages/sklearn/metrics/_classification.py:1272: UndefinedMetricWarning: Precision and F-score are ill-defined and being set to 0.0 in labels with no predicted samples. Use `zero_division` parameter to control this behavior.\n",
            "  _warn_prf(average, modifier, msg_start, len(result))\n"
          ]
        },
        {
          "output_type": "stream",
          "name": "stdout",
          "text": [
            "                                Overall               #               Fake                \n",
            "                   precision    recall      f1-score  #  precision    recall      f1-score\n",
            "KNN                0.00         0.00        0.00      #  0.92         1.00         0.96\n",
            "I am in model\n"
          ]
        },
        {
          "output_type": "stream",
          "name": "stderr",
          "text": [
            "/usr/local/lib/python3.7/dist-packages/sklearn/metrics/_classification.py:1272: UndefinedMetricWarning: Precision is ill-defined and being set to 0.0 due to no predicted samples. Use `zero_division` parameter to control this behavior.\n",
            "  _warn_prf(average, modifier, msg_start, len(result))\n",
            "/usr/local/lib/python3.7/dist-packages/sklearn/metrics/_classification.py:1272: UndefinedMetricWarning: Precision and F-score are ill-defined and being set to 0.0 in labels with no predicted samples. Use `zero_division` parameter to control this behavior.\n",
            "  _warn_prf(average, modifier, msg_start, len(result))\n"
          ]
        },
        {
          "output_type": "stream",
          "name": "stdout",
          "text": [
            "                                Overall               #               Fake                \n",
            "                   precision    recall      f1-score  #  precision    recall      f1-score\n",
            "Linear SVM         0.00         0.00        0.00      #  0.92         1.00         0.96\n",
            "I am in model\n"
          ]
        },
        {
          "output_type": "stream",
          "name": "stderr",
          "text": [
            "/usr/local/lib/python3.7/dist-packages/sklearn/metrics/_classification.py:1272: UndefinedMetricWarning: Precision is ill-defined and being set to 0.0 due to no predicted samples. Use `zero_division` parameter to control this behavior.\n",
            "  _warn_prf(average, modifier, msg_start, len(result))\n",
            "/usr/local/lib/python3.7/dist-packages/sklearn/metrics/_classification.py:1272: UndefinedMetricWarning: Precision and F-score are ill-defined and being set to 0.0 in labels with no predicted samples. Use `zero_division` parameter to control this behavior.\n",
            "  _warn_prf(average, modifier, msg_start, len(result))\n"
          ]
        },
        {
          "output_type": "stream",
          "name": "stdout",
          "text": [
            "                                Overall               #               Fake                \n",
            "                   precision    recall      f1-score  #  precision    recall      f1-score\n",
            "Kernel SVM         0.00         0.00        0.00      #  0.92         1.00         0.96\n",
            "{'Logistic Regression': {'Accuracy': 92.0, 'Precision': 0.0, 'Recall': 0.0, 'F1 Score': 0.0}, 'Decision Tree': {'Accuracy': 88.0, 'Precision': 0.0, 'Recall': 0.0, 'F1 Score': 0.0}, 'Random Forest': {'Accuracy': 64.0, 'Precision': 11.110000000000001, 'Recall': 50.0, 'F1 Score': 18.18}, 'Naive Bayes': {'Accuracy': 92.0, 'Precision': 0.0, 'Recall': 0.0, 'F1 Score': 0.0}, 'KNN': {'Accuracy': 92.0, 'Precision': 0.0, 'Recall': 0.0, 'F1 Score': 0.0}, 'Linear SVM': {'Accuracy': 92.0, 'Precision': 0.0, 'Recall': 0.0, 'F1 Score': 0.0}, 'Kernel SVM': {'Accuracy': 92.0, 'Precision': 0.0, 'Recall': 0.0, 'F1 Score': 0.0}}\n",
            "word_300 :\n",
            "I am in word_emb\n",
            "I am in dataset split\n",
            "I am in model\n",
            "                                Overall               #               Fake                \n",
            "                   precision    recall      f1-score  #  precision    recall      f1-score\n",
            "Logistic Regression     0.00         0.00        0.00      #  0.92         0.98         0.95\n",
            "I am in model\n",
            "                                Overall               #               Fake                \n",
            "                   precision    recall      f1-score  #  precision    recall      f1-score\n",
            "Decision Tree      0.00         0.00        0.00      #  0.91         0.91         0.91\n",
            "I am in model\n",
            "                                Overall               #               Fake                \n",
            "                   precision    recall      f1-score  #  precision    recall      f1-score\n",
            "Random Forest      0.00         0.00        0.00      #  0.92         0.98         0.95\n",
            "I am in model\n",
            "                                Overall               #               Fake                \n",
            "                   precision    recall      f1-score  #  precision    recall      f1-score\n",
            "Naive Bayes        0.00         0.00        0.00      #  0.91         0.93         0.92\n",
            "I am in model\n",
            "                                Overall               #               Fake                \n",
            "                   precision    recall      f1-score  #  precision    recall      f1-score\n",
            "KNN                0.00         0.00        0.00      #  0.92         1.00         0.96\n",
            "I am in model\n",
            "                                Overall               #               Fake                \n",
            "                   precision    recall      f1-score  #  precision    recall      f1-score\n",
            "Linear SVM         0.00         0.00        0.00      #  0.92         0.96         0.94\n",
            "I am in model\n",
            "                                Overall               #               Fake                \n",
            "                   precision    recall      f1-score  #  precision    recall      f1-score\n",
            "Kernel SVM         0.00         0.00        0.00      #  0.92         0.98         0.95\n",
            "{'Logistic Regression': {'Accuracy': 90.0, 'Precision': 0.0, 'Recall': 0.0, 'F1 Score': 0.0}, 'Decision Tree': {'Accuracy': 84.0, 'Precision': 0.0, 'Recall': 0.0, 'F1 Score': 0.0}, 'Random Forest': {'Accuracy': 90.0, 'Precision': 0.0, 'Recall': 0.0, 'F1 Score': 0.0}, 'Naive Bayes': {'Accuracy': 86.0, 'Precision': 0.0, 'Recall': 0.0, 'F1 Score': 0.0}, 'KNN': {'Accuracy': 92.0, 'Precision': 0.0, 'Recall': 0.0, 'F1 Score': 0.0}, 'Linear SVM': {'Accuracy': 88.0, 'Precision': 0.0, 'Recall': 0.0, 'F1 Score': 0.0}, 'Kernel SVM': {'Accuracy': 90.0, 'Precision': 0.0, 'Recall': 0.0, 'F1 Score': 0.0}}\n",
            "word_100 :\n",
            "I am in word_emb\n"
          ]
        },
        {
          "output_type": "stream",
          "name": "stderr",
          "text": [
            "/usr/local/lib/python3.7/dist-packages/sklearn/metrics/_classification.py:1272: UndefinedMetricWarning: Precision is ill-defined and being set to 0.0 due to no predicted samples. Use `zero_division` parameter to control this behavior.\n",
            "  _warn_prf(average, modifier, msg_start, len(result))\n",
            "/usr/local/lib/python3.7/dist-packages/sklearn/metrics/_classification.py:1272: UndefinedMetricWarning: Precision and F-score are ill-defined and being set to 0.0 in labels with no predicted samples. Use `zero_division` parameter to control this behavior.\n",
            "  _warn_prf(average, modifier, msg_start, len(result))\n"
          ]
        },
        {
          "output_type": "stream",
          "name": "stdout",
          "text": [
            "I am in dataset split\n",
            "I am in model\n",
            "                                Overall               #               Fake                \n",
            "                   precision    recall      f1-score  #  precision    recall      f1-score\n",
            "Logistic Regression     0.00         0.00        0.00      #  0.92         0.98         0.95\n",
            "I am in model\n",
            "                                Overall               #               Fake                \n",
            "                   precision    recall      f1-score  #  precision    recall      f1-score\n",
            "Decision Tree      20.00         25.00        22.22      #  0.93         0.91         0.92\n",
            "I am in model\n",
            "                                Overall               #               Fake                \n",
            "                   precision    recall      f1-score  #  precision    recall      f1-score\n",
            "Random Forest      50.00         25.00        33.33      #  0.94         0.98         0.96\n",
            "I am in model\n",
            "                                Overall               #               Fake                \n",
            "                   precision    recall      f1-score  #  precision    recall      f1-score\n",
            "Naive Bayes        20.00         25.00        22.22      #  0.93         0.91         0.92\n",
            "I am in model\n",
            "                                Overall               #               Fake                \n",
            "                   precision    recall      f1-score  #  precision    recall      f1-score\n",
            "KNN                20.00         25.00        22.22      #  0.93         0.91         0.92\n",
            "I am in model\n",
            "                                Overall               #               Fake                \n",
            "                   precision    recall      f1-score  #  precision    recall      f1-score\n",
            "Linear SVM         20.00         25.00        22.22      #  0.93         0.91         0.92\n",
            "I am in model\n",
            "                                Overall               #               Fake                \n",
            "                   precision    recall      f1-score  #  precision    recall      f1-score\n",
            "Kernel SVM         0.00         0.00        0.00      #  0.92         1.00         0.96\n",
            "{'Logistic Regression': {'Accuracy': 90.0, 'Precision': 0.0, 'Recall': 0.0, 'F1 Score': 0.0}, 'Decision Tree': {'Accuracy': 86.0, 'Precision': 20.0, 'Recall': 25.0, 'F1 Score': 22.220000000000002}, 'Random Forest': {'Accuracy': 92.0, 'Precision': 50.0, 'Recall': 25.0, 'F1 Score': 33.33}, 'Naive Bayes': {'Accuracy': 86.0, 'Precision': 20.0, 'Recall': 25.0, 'F1 Score': 22.220000000000002}, 'KNN': {'Accuracy': 86.0, 'Precision': 20.0, 'Recall': 25.0, 'F1 Score': 22.220000000000002}, 'Linear SVM': {'Accuracy': 86.0, 'Precision': 20.0, 'Recall': 25.0, 'F1 Score': 22.220000000000002}, 'Kernel SVM': {'Accuracy': 92.0, 'Precision': 0.0, 'Recall': 0.0, 'F1 Score': 0.0}}\n",
            "word_self_trained :\n",
            "I am in word_emb\n"
          ]
        },
        {
          "output_type": "stream",
          "name": "stderr",
          "text": [
            "/usr/local/lib/python3.7/dist-packages/sklearn/metrics/_classification.py:1272: UndefinedMetricWarning: Precision is ill-defined and being set to 0.0 due to no predicted samples. Use `zero_division` parameter to control this behavior.\n",
            "  _warn_prf(average, modifier, msg_start, len(result))\n",
            "/usr/local/lib/python3.7/dist-packages/sklearn/metrics/_classification.py:1272: UndefinedMetricWarning: Precision and F-score are ill-defined and being set to 0.0 in labels with no predicted samples. Use `zero_division` parameter to control this behavior.\n",
            "  _warn_prf(average, modifier, msg_start, len(result))\n"
          ]
        },
        {
          "output_type": "stream",
          "name": "stdout",
          "text": [
            "I am in dataset split\n",
            "I am in model\n",
            "                                Overall               #               Fake                \n",
            "                   precision    recall      f1-score  #  precision    recall      f1-score\n",
            "Logistic Regression     0.00         0.00        0.00      #  0.92         1.00         0.96\n",
            "I am in model\n",
            "                                Overall               #               Fake                \n",
            "                   precision    recall      f1-score  #  precision    recall      f1-score\n",
            "Decision Tree      0.00         0.00        0.00      #  0.92         0.96         0.94\n",
            "I am in model\n"
          ]
        },
        {
          "output_type": "stream",
          "name": "stderr",
          "text": [
            "/usr/local/lib/python3.7/dist-packages/sklearn/metrics/_classification.py:1272: UndefinedMetricWarning: Precision is ill-defined and being set to 0.0 due to no predicted samples. Use `zero_division` parameter to control this behavior.\n",
            "  _warn_prf(average, modifier, msg_start, len(result))\n",
            "/usr/local/lib/python3.7/dist-packages/sklearn/metrics/_classification.py:1272: UndefinedMetricWarning: Precision and F-score are ill-defined and being set to 0.0 in labels with no predicted samples. Use `zero_division` parameter to control this behavior.\n",
            "  _warn_prf(average, modifier, msg_start, len(result))\n"
          ]
        },
        {
          "output_type": "stream",
          "name": "stdout",
          "text": [
            "                                Overall               #               Fake                \n",
            "                   precision    recall      f1-score  #  precision    recall      f1-score\n",
            "Random Forest      0.00         0.00        0.00      #  0.92         0.96         0.94\n",
            "I am in model\n",
            "                                Overall               #               Fake                \n",
            "                   precision    recall      f1-score  #  precision    recall      f1-score\n",
            "Naive Bayes        6.90         50.00        12.12      #  0.90         0.41         0.57\n",
            "I am in model\n",
            "                                Overall               #               Fake                \n",
            "                   precision    recall      f1-score  #  precision    recall      f1-score\n",
            "KNN                0.00         0.00        0.00      #  0.92         0.98         0.95\n",
            "I am in model\n"
          ]
        },
        {
          "output_type": "stream",
          "name": "stderr",
          "text": [
            "/usr/local/lib/python3.7/dist-packages/sklearn/metrics/_classification.py:1272: UndefinedMetricWarning: Precision is ill-defined and being set to 0.0 due to no predicted samples. Use `zero_division` parameter to control this behavior.\n",
            "  _warn_prf(average, modifier, msg_start, len(result))\n",
            "/usr/local/lib/python3.7/dist-packages/sklearn/metrics/_classification.py:1272: UndefinedMetricWarning: Precision and F-score are ill-defined and being set to 0.0 in labels with no predicted samples. Use `zero_division` parameter to control this behavior.\n",
            "  _warn_prf(average, modifier, msg_start, len(result))\n"
          ]
        },
        {
          "output_type": "stream",
          "name": "stdout",
          "text": [
            "                                Overall               #               Fake                \n",
            "                   precision    recall      f1-score  #  precision    recall      f1-score\n",
            "Linear SVM         0.00         0.00        0.00      #  0.92         1.00         0.96\n",
            "I am in model\n",
            "                                Overall               #               Fake                \n",
            "                   precision    recall      f1-score  #  precision    recall      f1-score\n",
            "Kernel SVM         0.00         0.00        0.00      #  0.92         1.00         0.96\n",
            "{'Logistic Regression': {'Accuracy': 92.0, 'Precision': 0.0, 'Recall': 0.0, 'F1 Score': 0.0}, 'Decision Tree': {'Accuracy': 88.0, 'Precision': 0.0, 'Recall': 0.0, 'F1 Score': 0.0}, 'Random Forest': {'Accuracy': 88.0, 'Precision': 0.0, 'Recall': 0.0, 'F1 Score': 0.0}, 'Naive Bayes': {'Accuracy': 42.0, 'Precision': 6.9, 'Recall': 50.0, 'F1 Score': 12.120000000000001}, 'KNN': {'Accuracy': 90.0, 'Precision': 0.0, 'Recall': 0.0, 'F1 Score': 0.0}, 'Linear SVM': {'Accuracy': 92.0, 'Precision': 0.0, 'Recall': 0.0, 'F1 Score': 0.0}, 'Kernel SVM': {'Accuracy': 92.0, 'Precision': 0.0, 'Recall': 0.0, 'F1 Score': 0.0}}\n"
          ]
        },
        {
          "output_type": "stream",
          "name": "stderr",
          "text": [
            "/usr/local/lib/python3.7/dist-packages/sklearn/metrics/_classification.py:1272: UndefinedMetricWarning: Precision is ill-defined and being set to 0.0 due to no predicted samples. Use `zero_division` parameter to control this behavior.\n",
            "  _warn_prf(average, modifier, msg_start, len(result))\n",
            "/usr/local/lib/python3.7/dist-packages/sklearn/metrics/_classification.py:1272: UndefinedMetricWarning: Precision and F-score are ill-defined and being set to 0.0 in labels with no predicted samples. Use `zero_division` parameter to control this behavior.\n",
            "  _warn_prf(average, modifier, msg_start, len(result))\n"
          ]
        }
      ]
    },
    {
      "cell_type": "markdown",
      "metadata": {
        "id": "C51PQkGd_Q6R"
      },
      "source": [
        "# Performance Table visualization"
      ]
    },
    {
      "cell_type": "code",
      "metadata": {
        "colab": {
          "base_uri": "https://localhost:8080/"
        },
        "id": "mXmPR3yq_SLS",
        "outputId": "354117f4-dce4-40d7-f31b-949219719b0d"
      },
      "source": [
        "import json\n",
        "# Load all the json files\n",
        "# gram_names = ['Unigram','Bigram','Trigram']\n",
        "feature_names=['unigram','bigram','trigram','u_b_t','char_3','char_4','char_5','char_3_4_5','lexical','word_300','word_100','word_self_trained']\n",
        "\n",
        "for f in feature_names:\n",
        "  accuracy = pd.read_json(f+\"_results.json\")\n",
        "  # accuracy = json.load(open(f+\"_results.json\"))\n",
        "  # table = performance_table(accuracy)\n",
        "  print(f\"\\n========== Performace Table for {f} feature:========\\n\",accuracy)\n",
        "  print(f\"\\n========In case of {f} feature:========\\n\")\n",
        "  print(f\"Highest Accuracy achieved by {accuracy['Model Name'][accuracy.Accuracy.idxmax(axis = 0)]} at = {max(accuracy.Accuracy)}\")\n",
        "  print(f\"Highest F1-Score achieved by {accuracy['Model Name'][accuracy['F1 Score'].idxmax(axis = 0)]} at = {max(accuracy['F1 Score'] )}\")\n",
        "  print(f\"Highest Precision Score achieved by {accuracy['Model Name'][accuracy['Precision'].idxmax(axis = 0)]} at = {max(accuracy['Precision'] )}\")\n",
        "  print(f\"Highest Recall Score achieved by {accuracy['Model Name'][accuracy['Recall'].idxmax(axis = 0)]} at = {max(accuracy['Recall'] )}\")\n",
        "  # print(accuracy)"
      ],
      "execution_count": null,
      "outputs": [
        {
          "output_type": "stream",
          "name": "stdout",
          "text": [
            "\n",
            "========== Performace Table for unigram feature:========\n",
            "    Accuracy  Precision  Recall  F1 Score  Model Name\n",
            "0        92          0       0      0.00          LR\n",
            "1        92          0       0      0.00          DT\n",
            "2         8          8     100     14.81          RF\n",
            "3        82          0       0      0.00         MNB\n",
            "4        92          0       0      0.00         KNN\n",
            "5        92          0       0      0.00  Linear SVM\n",
            "6        92          0       0      0.00     RBF SVM\n",
            "\n",
            "========In case of unigram feature:========\n",
            "\n",
            "Highest Accuracy achieved by LR at = 92\n",
            "Highest F1-Score achieved by RF at = 14.81\n",
            "Highest Precision Score achieved by RF at = 8\n",
            "Highest Recall Score achieved by RF at = 100\n",
            "\n",
            "========== Performace Table for bigram feature:========\n",
            "    Accuracy  Precision  Recall  F1 Score  Model Name\n",
            "0        92       0.00       0      0.00          LR\n",
            "1        92       0.00       0      0.00          DT\n",
            "2         8       8.00     100     14.81          RF\n",
            "3        20       9.09     100     16.67         MNB\n",
            "4        82       0.00       0      0.00         KNN\n",
            "5        92       0.00       0      0.00  Linear SVM\n",
            "6        92       0.00       0      0.00     RBF SVM\n",
            "\n",
            "========In case of bigram feature:========\n",
            "\n",
            "Highest Accuracy achieved by LR at = 92\n",
            "Highest F1-Score achieved by MNB at = 16.67\n",
            "Highest Precision Score achieved by MNB at = 9.09\n",
            "Highest Recall Score achieved by RF at = 100\n",
            "\n",
            "========== Performace Table for trigram feature:========\n",
            "    Accuracy  Precision  Recall  F1 Score  Model Name\n",
            "0        92        0.0       0      0.00          LR\n",
            "1        92        0.0       0      0.00          DT\n",
            "2         8        8.0     100     14.81          RF\n",
            "3        16        8.7     100     16.00         MNB\n",
            "4        92        0.0       0      0.00         KNN\n",
            "5        92        0.0       0      0.00  Linear SVM\n",
            "6        92        0.0       0      0.00     RBF SVM\n",
            "\n",
            "========In case of trigram feature:========\n",
            "\n",
            "Highest Accuracy achieved by LR at = 92\n",
            "Highest F1-Score achieved by MNB at = 16.0\n",
            "Highest Precision Score achieved by MNB at = 8.7\n",
            "Highest Recall Score achieved by RF at = 100\n",
            "\n",
            "========== Performace Table for u_b_t feature:========\n",
            "    Accuracy  Precision  Recall  F1 Score  Model Name\n",
            "0        92          0       0      0.00          LR\n",
            "1        90          0       0      0.00          DT\n",
            "2         8          8     100     14.81          RF\n",
            "3        82          0       0      0.00         MNB\n",
            "4        92          0       0      0.00         KNN\n",
            "5        92          0       0      0.00  Linear SVM\n",
            "6        92          0       0      0.00     RBF SVM\n",
            "\n",
            "========In case of u_b_t feature:========\n",
            "\n",
            "Highest Accuracy achieved by LR at = 92\n",
            "Highest F1-Score achieved by RF at = 14.81\n",
            "Highest Precision Score achieved by RF at = 8\n",
            "Highest Recall Score achieved by RF at = 100\n",
            "\n",
            "========== Performace Table for char_3 feature:========\n",
            "    Accuracy  Precision  Recall  F1 Score  Model Name\n",
            "0        92       0.00       0      0.00          LR\n",
            "1        90       0.00       0      0.00          DT\n",
            "2        78      11.11      25     15.38          RF\n",
            "3        92       0.00       0      0.00         MNB\n",
            "4        90       0.00       0      0.00         KNN\n",
            "5        92       0.00       0      0.00  Linear SVM\n",
            "6        92       0.00       0      0.00     RBF SVM\n",
            "\n",
            "========In case of char_3 feature:========\n",
            "\n",
            "Highest Accuracy achieved by LR at = 92\n",
            "Highest F1-Score achieved by RF at = 15.38\n",
            "Highest Precision Score achieved by RF at = 11.11\n",
            "Highest Recall Score achieved by RF at = 25\n",
            "\n",
            "========== Performace Table for char_4 feature:========\n",
            "    Accuracy  Precision  Recall  F1 Score  Model Name\n",
            "0        92       0.00       0      0.00          LR\n",
            "1        90       0.00       0      0.00          DT\n",
            "2        34      10.81     100     19.51          RF\n",
            "3        92       0.00       0      0.00         MNB\n",
            "4        92       0.00       0      0.00         KNN\n",
            "5        92       0.00       0      0.00  Linear SVM\n",
            "6        92       0.00       0      0.00     RBF SVM\n",
            "\n",
            "========In case of char_4 feature:========\n",
            "\n",
            "Highest Accuracy achieved by LR at = 92\n",
            "Highest F1-Score achieved by RF at = 19.51\n",
            "Highest Precision Score achieved by RF at = 10.81\n",
            "Highest Recall Score achieved by RF at = 100\n",
            "\n",
            "========== Performace Table for char_5 feature:========\n",
            "    Accuracy  Precision  Recall  F1 Score  Model Name\n",
            "0        92       0.00       0      0.00          LR\n",
            "1        90       0.00       0      0.00          DT\n",
            "2        14       8.51     100     15.69          RF\n",
            "3        90       0.00       0      0.00         MNB\n",
            "4        92       0.00       0      0.00         KNN\n",
            "5        92       0.00       0      0.00  Linear SVM\n",
            "6        92       0.00       0      0.00     RBF SVM\n",
            "\n",
            "========In case of char_5 feature:========\n",
            "\n",
            "Highest Accuracy achieved by LR at = 92\n",
            "Highest F1-Score achieved by RF at = 15.69\n",
            "Highest Precision Score achieved by RF at = 8.51\n",
            "Highest Recall Score achieved by RF at = 100\n",
            "\n",
            "========== Performace Table for char_3_4_5 feature:========\n",
            "    Accuracy  Precision  Recall  F1 Score  Model Name\n",
            "0        92       0.00       0      0.00          LR\n",
            "1        88       0.00       0      0.00          DT\n",
            "2        70      17.65      75     28.57          RF\n",
            "3        92       0.00       0      0.00         MNB\n",
            "4        92       0.00       0      0.00         KNN\n",
            "5        92       0.00       0      0.00  Linear SVM\n",
            "6        92       0.00       0      0.00     RBF SVM\n",
            "\n",
            "========In case of char_3_4_5 feature:========\n",
            "\n",
            "Highest Accuracy achieved by LR at = 92\n",
            "Highest F1-Score achieved by RF at = 28.57\n",
            "Highest Precision Score achieved by RF at = 17.65\n",
            "Highest Recall Score achieved by RF at = 75\n",
            "\n",
            "========== Performace Table for lexical feature:========\n",
            "    Accuracy  Precision  Recall  F1 Score  Model Name\n",
            "0        92       0.00       0      0.00          LR\n",
            "1        88       0.00       0      0.00          DT\n",
            "2        64      11.11      50     18.18          RF\n",
            "3        92       0.00       0      0.00         MNB\n",
            "4        92       0.00       0      0.00         KNN\n",
            "5        92       0.00       0      0.00  Linear SVM\n",
            "6        92       0.00       0      0.00     RBF SVM\n",
            "\n",
            "========In case of lexical feature:========\n",
            "\n",
            "Highest Accuracy achieved by LR at = 92\n",
            "Highest F1-Score achieved by RF at = 18.18\n",
            "Highest Precision Score achieved by RF at = 11.11\n",
            "Highest Recall Score achieved by RF at = 50\n",
            "\n",
            "========== Performace Table for word_300 feature:========\n",
            "    Accuracy  Precision  Recall  F1 Score  Model Name\n",
            "0        90          0       0         0          LR\n",
            "1        84          0       0         0          DT\n",
            "2        90          0       0         0          RF\n",
            "3        86          0       0         0         MNB\n",
            "4        92          0       0         0         KNN\n",
            "5        88          0       0         0  Linear SVM\n",
            "6        90          0       0         0     RBF SVM\n",
            "\n",
            "========In case of word_300 feature:========\n",
            "\n",
            "Highest Accuracy achieved by KNN at = 92\n",
            "Highest F1-Score achieved by LR at = 0\n",
            "Highest Precision Score achieved by LR at = 0\n",
            "Highest Recall Score achieved by LR at = 0\n",
            "\n",
            "========== Performace Table for word_100 feature:========\n",
            "    Accuracy  Precision  Recall  F1 Score  Model Name\n",
            "0        90          0       0      0.00          LR\n",
            "1        86         20      25     22.22          DT\n",
            "2        92         50      25     33.33          RF\n",
            "3        86         20      25     22.22         MNB\n",
            "4        86         20      25     22.22         KNN\n",
            "5        86         20      25     22.22  Linear SVM\n",
            "6        92          0       0      0.00     RBF SVM\n",
            "\n",
            "========In case of word_100 feature:========\n",
            "\n",
            "Highest Accuracy achieved by RF at = 92\n",
            "Highest F1-Score achieved by RF at = 33.33\n",
            "Highest Precision Score achieved by RF at = 50\n",
            "Highest Recall Score achieved by DT at = 25\n",
            "\n",
            "========== Performace Table for word_self_trained feature:========\n",
            "    Accuracy  Precision  Recall  F1 Score  Model Name\n",
            "0        92        0.0       0      0.00          LR\n",
            "1        88        0.0       0      0.00          DT\n",
            "2        88        0.0       0      0.00          RF\n",
            "3        42        6.9      50     12.12         MNB\n",
            "4        90        0.0       0      0.00         KNN\n",
            "5        92        0.0       0      0.00  Linear SVM\n",
            "6        92        0.0       0      0.00     RBF SVM\n",
            "\n",
            "========In case of word_self_trained feature:========\n",
            "\n",
            "Highest Accuracy achieved by LR at = 92\n",
            "Highest F1-Score achieved by MNB at = 12.12\n",
            "Highest Precision Score achieved by MNB at = 6.9\n",
            "Highest Recall Score achieved by MNB at = 50\n"
          ]
        }
      ]
    },
    {
      "cell_type": "markdown",
      "metadata": {
        "id": "TPzQgGTKADFJ"
      },
      "source": [
        "# Performance Visualization"
      ]
    },
    {
      "cell_type": "code",
      "metadata": {
        "colab": {
          "base_uri": "https://localhost:8080/",
          "height": 1000
        },
        "id": "e5-CKfw7AC3B",
        "outputId": "80303bf7-6cee-4c50-8c8b-7a8db12b64c2"
      },
      "source": [
        "feature_names=['unigram','bigram','tigram','u_b_t','char_1','char_2','char_3','char_3_4_5','lexical','word_300','word_100']\n",
        "\n",
        "for gram in feature_names:\n",
        "  #accuracy = json.load(open(path+f'ml_performance_{gram}.json'))\n",
        "  accuracy = pd.read_json(f+\"_results.json\")\n",
        "  df = pd.melt(accuracy, id_vars=\"Model Name\", var_name=\"Category\", value_name=\"Values\")\n",
        "  plt.figure(figsize=(8,10))\n",
        "  ax = plt.subplot()\n",
        "  sns.barplot(data=df,x='Model Name', y='Values' ,hue='Category')\n",
        "  ax.set_xlabel('Model Name') \n",
        "  ax.set_title(f'Comparison of Accuracy and F1-Score Value for {gram} Feature')\n",
        "  ax.set_ylim([10,130]) # Accuracy Deprnd to 100% compare every model\n",
        "  ax.xaxis.set_ticklabels(accuracy['Model Name'], rotation=45);\n",
        "  # print(df)"
      ],
      "execution_count": null,
      "outputs": [
        {
          "output_type": "display_data",
          "data": {
            "image/png": "[encoded data removed]",
            "text/plain": [
              "<Figure size 576x720 with 1 Axes>"
            ]
          },
          "metadata": {
            "needs_background": "light"
          }
        },
        {
          "output_type": "display_data",
          "data": {
            "image/png": "[encoded data removed]",
            "text/plain": [
              "<Figure size 576x720 with 1 Axes>"
            ]
          },
          "metadata": {
            "needs_background": "light"
          }
        },
        {
          "output_type": "display_data",
          "data": {
            "image/png": "[encoded data removed]",
            "text/plain": [
              "<Figure size 576x720 with 1 Axes>"
            ]
          },
          "metadata": {
            "needs_background": "light"
          }
        },
        {
          "output_type": "display_data",
          "data": {
            "image/png": "[encoded data removed]",
            "text/plain": [
              "<Figure size 576x720 with 1 Axes>"
            ]
          },
          "metadata": {
            "needs_background": "light"
          }
        },
        {
          "output_type": "display_data",
          "data": {
            "image/png": "[encoded data removed]",
            "text/plain": [
              "<Figure size 576x720 with 1 Axes>"
            ]
          },
          "metadata": {
            "needs_background": "light"
          }
        },
        {
          "output_type": "display_data",
          "data": {
            "image/png": "[encoded data removed]",
            "text/plain": [
              "<Figure size 576x720 with 1 Axes>"
            ]
          },
          "metadata": {
            "needs_background": "light"
          }
        },
        {
          "output_type": "display_data",
          "data": {
            "image/png": "[encoded data removed]",
            "text/plain": [
              "<Figure size 576x720 with 1 Axes>"
            ]
          },
          "metadata": {
            "needs_background": "light"
          }
        },
        {
          "output_type": "display_data",
          "data": {
            "image/png": "[encoded data removed]",
            "text/plain": [
              "<Figure size 576x720 with 1 Axes>"
            ]
          },
          "metadata": {
            "needs_background": "light"
          }
        },
        {
          "output_type": "display_data",
          "data": {
            "image/png": "[encoded data removed]",
            "text/plain": [
              "<Figure size 576x720 with 1 Axes>"
            ]
          },
          "metadata": {
            "needs_background": "light"
          }
        },
        {
          "output_type": "display_data",
          "data": {
            "image/png": "[encoded data removed]",
            "text/plain": [
              "<Figure size 576x720 with 1 Axes>"
            ]
          },
          "metadata": {
            "needs_background": "light"
          }
        },
        {
          "output_type": "display_data",
          "data": {
            "image/png": "[encoded data removed]",
            "text/plain": [
              "<Figure size 576x720 with 1 Axes>"
            ]
          },
          "metadata": {
            "needs_background": "light"
          }
        }
      ]
    }
  ]
}